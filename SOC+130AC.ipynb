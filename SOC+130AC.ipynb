{
 "cells": [
  {
   "cell_type": "markdown",
   "metadata": {},
   "source": [
    "# Sociology 130AC Module: \"The Neighborhood Project\""
   ]
  },
  {
   "cell_type": "markdown",
   "metadata": {},
   "source": [
    "Context tile."
   ]
  },
  {
   "cell_type": "markdown",
   "metadata": {},
   "source": [
    "Welcome to the data science part of your project! You have gathered data and entered it [here](https://docs.google.com/forms/d/e/1FAIpQLSc1dLe7Hh_fu-VSV7Y-gcVsniaFP94kpl1Sw4x1-CE9nmTZjg/viewform) from census tracts.  Now it's time to quantify your observations using Python for basic data science. However, you will not need any prior programming knowledge as the purpose is not to teach you programming, but rather show you the powers of programming to real life applications."
   ]
  },
  {
   "cell_type": "markdown",
   "metadata": {},
   "source": [
    "First, we have to import basic data science libraries. These libraries allow us manipulate the data easily as well as have great visualizations. If you are interested in what these are:numPy is a scientific computing library, Pandas is a data analysis library and matplotlib is a data visualization library. Most of the other libraries are great for visualization."
   ]
  },
  {
   "cell_type": "code",
   "execution_count": 154,
   "metadata": {},
   "outputs": [],
   "source": [
    "import pandas as pd\n",
    "import numpy as np\n",
    "import matplotlib.pyplot as plt\n",
    "from datascience import *\n",
    "from ipywidgets import *\n",
    "import folium\n",
    "from IPython.display import HTML, display\n",
    "from folium import plugins\n",
    "from scipy.ndimage import imread\n",
    "%matplotlib inline\n",
    "from sklearn import linear_model\n",
    "from scipy import stats"
   ]
  },
  {
   "cell_type": "markdown",
   "metadata": {
    "collapsed": true
   },
   "source": [
    "After crowdsourcing your data and the rest of the class, we will use a library called Folium to map your observations onto a map of the census tracts. Click on a marker below to see a pop-up of the data at a particular point. Try to find the census tract you visited and see if the data you collected is there! \n",
    "\n",
    "Next, click around census tracts near yours to see if the other students' observations are similar and see if you can eyeball any trends. Check out other areas on the map and see if there are trends around \"good\" neighborhoods and \"bad\" neighborhoods. Do \"bad\" and \"good\" neighborhoods have similar trends in data? Which types of data do you think correlate the most to how safe a neighborhood is? On a larger scale, what do you think defines a good neighborhood or a bad neighborhood?\n",
    "\n",
    "After you have made some predictions, we will analyze some important factors contributing to neighborhoods. As you know, good and bad are very subjective terms, so instead, it is more scientific to analyze factors that contribute to good neighborhoods, such as income, education, and employment rates. We have turned your data into a point scale and will compare your data to the offical data from American Fact Finder. Let's get started!"
   ]
  },
  {
   "cell_type": "markdown",
   "metadata": {},
   "source": [
    "test"
   ]
  },
  {
   "cell_type": "code",
   "execution_count": 155,
   "metadata": {
    "collapsed": true,
    "scrolled": true
   },
   "outputs": [],
   "source": [
    "LDN_COORDINATES = (37.7749, -122.4194)\n",
    "myMap = folium.Map(location=LDN_COORDINATES, zoom_start=12)\n",
    "\n",
    "#Folium formats popup windows in html format\n",
    "html_1=\"\"\"\n",
    "    <h3>Good Neighborhood</h3>\n",
    "    <img\n",
    "       src = http://images.glaciermedia.ca/polopoly_fs/1.1827657.1429305764!/fileImage/httpImage/image.jpg_gen/derivatives/original_size/vancouver-single-family-home-neighbourhood-street.jpg\n",
    "       style=\"width:180px;height:128px;\"\n",
    "       >\n",
    "    <p>\n",
    "       \"This neighborhood seemed really nice to our group\"\n",
    "    </p>\n",
    "    <p>\n",
    "       # of cigarette buds: 0\n",
    "    </p>\n",
    "    \"\"\"\n",
    "\n",
    "html_2=\"\"\"\n",
    "    <h3>Bad Neighborhood</h3>\n",
    "    <img\n",
    "        src = http://static.lakana.com/nxsglobal/lasvegasnow/photo/2015/06/23/bad%20neighborhood_1435097179455_1625324_ver1.0_640_360.jpg\n",
    "        style=\"width:180px;height:128px;\"\n",
    "        >\n",
    "    <p>\n",
    "        \"This neighborhood didn't seem safe\"\n",
    "    </p>\n",
    "    <p>\n",
    "        # of cigarette buds: 100\n",
    "    </p>\n",
    "    \"\"\"\n",
    "\n",
    "\n",
    "folium.Marker([37.803, -122.435], \n",
    "              popup=folium.Popup(folium.IFrame(html=html_1, width=200, height=300), max_width=2650)).add_to(myMap)\n",
    "folium.Marker([37.765, -122.415], \n",
    "              popup=folium.Popup(folium.IFrame(html=html_2, width=200, height=300), max_width=2650)).add_to(myMap)\n",
    "\n",
    "lat_shift = 0.065\n",
    "lon_shift = 0.085\n",
    "\n",
    "san_fran_lat = 37.7685\n",
    "san_fran_lon = -122.4364\n",
    "\n",
    "data = imread('./CensusMap.png')\n",
    "myMap.add_child(plugins.ImageOverlay(data, opacity=0.8, \\\n",
    "        bounds =[[san_fran_lat - lat_shift, san_fran_lon - lon_shift], [san_fran_lat + lat_shift, san_fran_lon + lon_shift]]))\n",
    "\n",
    "myMap"
   ]
  },
  {
   "cell_type": "markdown",
   "metadata": {
    "collapsed": true
   },
   "source": [
    "First let's put all of the data onto a table. Graphs are nice for visualization to get a general idea, but it's a lot easier to manipulate graphs to get concrete results. This is the table of all of your data: The row index is the number of the census tract, and each column represents a variable you collected data about."
   ]
  },
  {
   "cell_type": "code",
   "execution_count": 156,
   "metadata": {},
   "outputs": [],
   "source": [
    "#This is for me since I can't get the datascience to work.\n",
    "# import pandas as pd\n",
    "# import numpy as np\n",
    "# from sklearn import linear_model\n",
    "# from scipy import stats\n",
    "# import matplotlib.pyplot as plt\n",
    "# %matplotlib inline\n",
    "\n",
    "#put all of our data into one table\n",
    "class_data = pd.DataFrame({\n",
    "                    \"empty bottles\": np.array([1,0,0,1,1]),\n",
    "                     \"cigarettes\": np.array([0,1,1,0,0]),\n",
    "                     \"condoms\": np.array([1,0,1,1,1]),\n",
    "                     \"garbage\": np.array([1,0,0,1,1]),\n",
    "                     \"cars abandoned\": np.array([1,1,0,0,1]),\n",
    "                     \"friendliness\": np.array([3,2,4,1,5]),\n",
    "                     \"condition\": np.array([1,0,3,1,4]),\n",
    "                     \"graffiti\": np.array([1,1,0,0,0]),\n",
    "                     \"fence\": np.array([1,2,4,4,1])\n",
    "                    },index = [4201, 4202, 4203, 4204,4205])\n",
    "\n",
    "\n",
    "\n"
   ]
  },
  {
   "cell_type": "markdown",
   "metadata": {},
   "source": [
    "This is the data from American FactFinder."
   ]
  },
  {
   "cell_type": "code",
   "execution_count": 164,
   "metadata": {},
   "outputs": [
    {
     "data": {
      "text/html": [
       "<div>\n",
       "<style>\n",
       "    .dataframe thead tr:only-child th {\n",
       "        text-align: right;\n",
       "    }\n",
       "\n",
       "    .dataframe thead th {\n",
       "        text-align: left;\n",
       "    }\n",
       "\n",
       "    .dataframe tbody tr th {\n",
       "        vertical-align: top;\n",
       "    }\n",
       "</style>\n",
       "<table border=\"1\" class=\"dataframe\">\n",
       "  <thead>\n",
       "    <tr style=\"text-align: right;\">\n",
       "      <th></th>\n",
       "      <th>education</th>\n",
       "      <th>income</th>\n",
       "      <th>unemployment %</th>\n",
       "    </tr>\n",
       "  </thead>\n",
       "  <tbody>\n",
       "    <tr>\n",
       "      <th>4201</th>\n",
       "      <td>79</td>\n",
       "      <td>140</td>\n",
       "      <td>5.6</td>\n",
       "    </tr>\n",
       "    <tr>\n",
       "      <th>4202</th>\n",
       "      <td>83</td>\n",
       "      <td>160</td>\n",
       "      <td>2.2</td>\n",
       "    </tr>\n",
       "    <tr>\n",
       "      <th>4203</th>\n",
       "      <td>74</td>\n",
       "      <td>80</td>\n",
       "      <td>8.8</td>\n",
       "    </tr>\n",
       "    <tr>\n",
       "      <th>4204</th>\n",
       "      <td>78</td>\n",
       "      <td>120</td>\n",
       "      <td>3.3</td>\n",
       "    </tr>\n",
       "    <tr>\n",
       "      <th>4205</th>\n",
       "      <td>84</td>\n",
       "      <td>140</td>\n",
       "      <td>5.0</td>\n",
       "    </tr>\n",
       "  </tbody>\n",
       "</table>\n",
       "</div>"
      ],
      "text/plain": [
       "      education  income  unemployment %\n",
       "4201         79     140             5.6\n",
       "4202         83     160             2.2\n",
       "4203         74      80             8.8\n",
       "4204         78     120             3.3\n",
       "4205         84     140             5.0"
      ]
     },
     "execution_count": 164,
     "metadata": {},
     "output_type": "execute_result"
    }
   ],
   "source": [
    "#unemployment percent is for 16 years and older\n",
    "#education: percent of people who have bachelors degree or higher. added up bachelors+graduates\n",
    "#income: estimated household income\n",
    "#I got the data by approximating what I saw on factfinder. Numbers are plausible.\n",
    "official_data = pd.DataFrame({\n",
    "                             \"income\": np.array([140,160,80,120,140]),\n",
    "                              \"unemployment %\": np.array([5.6,  2.2, 8.8, 3.3, 5.0]),\n",
    "                              \"education\": np.array([79, 83,74,78,84]),\n",
    "                             }, index=[4201, 4202, 4203, 4204,4205])\n",
    "official_data\n",
    "\n"
   ]
  },
  {
   "cell_type": "markdown",
   "metadata": {},
   "source": [
    "Let's analyze the class_data. If the number under the category is higher, it represents a higher state of social disorder. Therefore, we will compress all of the data to create a social disorder number. We will be compare this number to the official data. It is easier to compare this social disorder number rather than 10 different variables to the official data.\n",
    "\n",
    "The table below should show five columns: The first column should be the social disorder, the second column is the points it received based on your survey, the third column is income, the fourth column is employment, and the fifth column is education level. Find your census tract and see if the income and employment and education level is what you expected to be based on your thoughts about the neighborhood."
   ]
  },
  {
   "cell_type": "code",
   "execution_count": 165,
   "metadata": {},
   "outputs": [
    {
     "data": {
      "text/html": [
       "<div>\n",
       "<style>\n",
       "    .dataframe thead tr:only-child th {\n",
       "        text-align: right;\n",
       "    }\n",
       "\n",
       "    .dataframe thead th {\n",
       "        text-align: left;\n",
       "    }\n",
       "\n",
       "    .dataframe tbody tr th {\n",
       "        vertical-align: top;\n",
       "    }\n",
       "</style>\n",
       "<table border=\"1\" class=\"dataframe\">\n",
       "  <thead>\n",
       "    <tr style=\"text-align: right;\">\n",
       "      <th></th>\n",
       "      <th>Social Disorder</th>\n",
       "      <th>Income</th>\n",
       "      <th>Employment</th>\n",
       "      <th>Education</th>\n",
       "    </tr>\n",
       "  </thead>\n",
       "  <tbody>\n",
       "    <tr>\n",
       "      <th>4201</th>\n",
       "      <td>10.0</td>\n",
       "      <td>140.0</td>\n",
       "      <td>5.6</td>\n",
       "      <td>79.0</td>\n",
       "    </tr>\n",
       "    <tr>\n",
       "      <th>4202</th>\n",
       "      <td>7.0</td>\n",
       "      <td>160.0</td>\n",
       "      <td>2.2</td>\n",
       "      <td>83.0</td>\n",
       "    </tr>\n",
       "    <tr>\n",
       "      <th>4203</th>\n",
       "      <td>13.0</td>\n",
       "      <td>80.0</td>\n",
       "      <td>8.8</td>\n",
       "      <td>74.0</td>\n",
       "    </tr>\n",
       "    <tr>\n",
       "      <th>4204</th>\n",
       "      <td>9.0</td>\n",
       "      <td>120.0</td>\n",
       "      <td>3.3</td>\n",
       "      <td>78.0</td>\n",
       "    </tr>\n",
       "    <tr>\n",
       "      <th>4205</th>\n",
       "      <td>14.0</td>\n",
       "      <td>140.0</td>\n",
       "      <td>5.0</td>\n",
       "      <td>84.0</td>\n",
       "    </tr>\n",
       "  </tbody>\n",
       "</table>\n",
       "</div>"
      ],
      "text/plain": [
       "      Social Disorder  Income  Employment  Education\n",
       "4201             10.0   140.0         5.6       79.0\n",
       "4202              7.0   160.0         2.2       83.0\n",
       "4203             13.0    80.0         8.8       74.0\n",
       "4204              9.0   120.0         3.3       78.0\n",
       "4205             14.0   140.0         5.0       84.0"
      ]
     },
     "execution_count": 165,
     "metadata": {},
     "output_type": "execute_result"
    }
   ],
   "source": [
    "combined_data = pd.DataFrame(columns=[ \"Social Disorder\", \"Income\", \"Employment\", \"Education\"])\n",
    "\n",
    "#add up all of the points. Then creates a new table with points as well as official data\n",
    "for tract in class_data.index.values:\n",
    "    points = sum(class_data.loc[tract])\n",
    "    income = official_data.loc[tract][\"income\"]\n",
    "    unemployment = official_data.loc[tract][\"unemployment %\"]\n",
    "    education = official_data.loc[tract][\"education\"]\n",
    "    combined_data.loc[tract]= [points, income, unemployment, education]\n",
    "\n",
    "combined_data\n",
    "    \n",
    "    \n",
    "    \n"
   ]
  },
  {
   "cell_type": "markdown",
   "metadata": {},
   "source": [
    "Let's first analyze income levels. We have sorted the data according to income level. Compare the income levels to the social disorder. Is there a correlation you can spot(as one increases or decreases, does the other do the same)?\n",
    "\n",
    "Did you look at the whole table? A common mistake is to assume that since the top 10 results follow or do not follow a pattern, the rest don't. Real life data is often messy and not clean. Does the correlation continue throughout the whole table(a.k.a. as income decreases the points decrease) or is there no pattern? What does this mean about the data?\n"
   ]
  },
  {
   "cell_type": "code",
   "execution_count": 166,
   "metadata": {},
   "outputs": [
    {
     "data": {
      "text/html": [
       "<div>\n",
       "<style>\n",
       "    .dataframe thead tr:only-child th {\n",
       "        text-align: right;\n",
       "    }\n",
       "\n",
       "    .dataframe thead th {\n",
       "        text-align: left;\n",
       "    }\n",
       "\n",
       "    .dataframe tbody tr th {\n",
       "        vertical-align: top;\n",
       "    }\n",
       "</style>\n",
       "<table border=\"1\" class=\"dataframe\">\n",
       "  <thead>\n",
       "    <tr style=\"text-align: right;\">\n",
       "      <th></th>\n",
       "      <th>Social Disorder</th>\n",
       "      <th>Income</th>\n",
       "      <th>Employment</th>\n",
       "      <th>Education</th>\n",
       "    </tr>\n",
       "  </thead>\n",
       "  <tbody>\n",
       "    <tr>\n",
       "      <th>4203</th>\n",
       "      <td>13.0</td>\n",
       "      <td>80.0</td>\n",
       "      <td>8.8</td>\n",
       "      <td>74.0</td>\n",
       "    </tr>\n",
       "    <tr>\n",
       "      <th>4204</th>\n",
       "      <td>9.0</td>\n",
       "      <td>120.0</td>\n",
       "      <td>3.3</td>\n",
       "      <td>78.0</td>\n",
       "    </tr>\n",
       "    <tr>\n",
       "      <th>4201</th>\n",
       "      <td>10.0</td>\n",
       "      <td>140.0</td>\n",
       "      <td>5.6</td>\n",
       "      <td>79.0</td>\n",
       "    </tr>\n",
       "    <tr>\n",
       "      <th>4205</th>\n",
       "      <td>14.0</td>\n",
       "      <td>140.0</td>\n",
       "      <td>5.0</td>\n",
       "      <td>84.0</td>\n",
       "    </tr>\n",
       "    <tr>\n",
       "      <th>4202</th>\n",
       "      <td>7.0</td>\n",
       "      <td>160.0</td>\n",
       "      <td>2.2</td>\n",
       "      <td>83.0</td>\n",
       "    </tr>\n",
       "  </tbody>\n",
       "</table>\n",
       "</div>"
      ],
      "text/plain": [
       "      Social Disorder  Income  Employment  Education\n",
       "4203             13.0    80.0         8.8       74.0\n",
       "4204              9.0   120.0         3.3       78.0\n",
       "4201             10.0   140.0         5.6       79.0\n",
       "4205             14.0   140.0         5.0       84.0\n",
       "4202              7.0   160.0         2.2       83.0"
      ]
     },
     "execution_count": 166,
     "metadata": {},
     "output_type": "execute_result"
    }
   ],
   "source": [
    "#sort by income\n",
    "combined_data.sort_values(\"Income\")"
   ]
  },
  {
   "cell_type": "markdown",
   "metadata": {},
   "source": [
    "Now let's analyze education levels and employment. Now we will try to analyze the tables sorted by employment and education. To sort by either, you must delete the hashtag on the line you want to sort by below. A hashtag means that the code is a comment, which means it will not run. Therefore, when you remove the hashtag, it will the run the line. Put the hashtag back to comment the code."
   ]
  },
  {
   "cell_type": "code",
   "execution_count": 160,
   "metadata": {
    "collapsed": true
   },
   "outputs": [],
   "source": [
    "#combined_data.sort_values(\"Employment\")\n",
    "#combined_data.sort_values(\"Education\")"
   ]
  },
  {
   "cell_type": "markdown",
   "metadata": {},
   "source": [
    "As keen as your eyes are or aren't, a good analysis isn't based on just what you see; you must quantify it with numbers and statistics to prove your thoughts. Here is the list of all of the census tracts and in every column is a data type that you collected. Right now, the data is sorted by the column 'cigarette butts found' in descending order. To change how it is sorted, simply change the column name to the column you want to sort it by, i.e. 'children playing'. Make sure the name of the column is in quotes! Also, if you want it in ascending order, change the descending to ascending. Also, you can change the amount of results it returns by changing the number inside the list command.\n",
    "\n",
    "Play around with sorting different columns and attributes. Which sorted column leads to many similar results as the official data of best and worst neighborhoods?"
   ]
  },
  {
   "cell_type": "code",
   "execution_count": 161,
   "metadata": {
    "collapsed": true
   },
   "outputs": [],
   "source": [
    "#tThis part of the project right now is kinda useless because most of the code is in 1s or 0s. No point in sorting."
   ]
  },
  {
   "cell_type": "markdown",
   "metadata": {},
   "source": [
    "As keen as your eyes are or aren't, a good analysis isn't based on just what you see; you must quantify it with numbers and statistics to prove your thoughts. This is not a very statistical measure of how much a variable correlates to the results. What does it mean for a variable \"income\" to match 7 out of the top 15 social disorder points? Does this correlate to the rest of the results? How well does it correlate? \n",
    "\n",
    "We will now use a method called linear regression to make a graph that will show the best fit line that correlates to the data. The slope of the line will show whether it is positively correlated or negatively correlated. The variable \"r squared\" is a measure of how close the data is to the fitted regression line. 0 means the variable explains none of the variability of the data while 1 means it explains all of the variability in the data.\n",
    "\n",
    "We want to plot the change in Points with respect to a certain variable(like education or income). Therefore, the Y axis will always be social disorder and the X axis will be the variable that we want to analyze. Right now, the x variable is set to \"Income\". The graph will give you a better sense of the whole data rather than just sorting columns like you did above. The R-squared value will give you an exact \"goodness-of fit\" value for your model. \n",
    "\n",
    "To change the X axis, you need to change the x variable from \"Income\" to either \"Education\" or \"Employment\". Make sure you don't delete the quotation marks and remember to capitalize the first letter!\n",
    "\n",
    "Why is this a better method than just sorting tables? First of all, we are now comparing all of the data in the graph to the variable, rather than comparing what our eyes glance quickly over. It shows a more complete picture than just saying \"There are some similar results in the top half of the sorted data\". Second of all, the graph gives a more intuitive sense to see if your variable does match the data. You can quickly see if the data points match up with the regression line. Lastly, the r-squared value will give you a way to quantify how good the variable is to explain the data.\n",
    "\n",
    "One of the beautiful things about computer science and statistics is that you do not need to reinvent the wheel. You don't need to know how to calculate the r_squared value, or draw the regression line; someone has already implemented it! You simply need to tell the computer to calculate it. However, if you are interested in these mathematical models, take a data science or statistics course!"
   ]
  },
  {
   "cell_type": "code",
   "execution_count": 178,
   "metadata": {},
   "outputs": [
    {
     "data": {
      "image/png": "[encoded data removed]",
      "text/plain": [
       "<matplotlib.figure.Figure at 0x1fa8126a470>"
      ]
     },
     "metadata": {},
     "output_type": "display_data"
    },
    {
     "name": "stdout",
     "output_type": "stream",
     "text": [
      "The r squared coefficient is:  0.277108433735\n"
     ]
    }
   ],
   "source": [
    "#linear regression model of x being a column and y Disorder points.\n",
    "x_variable = \"Income\"\n",
    "y_variable = \"Social Disorder\"\n",
    "x = combined_data[x_variable]\n",
    "y = combined_data[y_variable]\n",
    "\n",
    "plt.scatter(x, y)\n",
    "plt.xlabel(x_variable, fontsize=18)\n",
    "plt.ylabel(y_variable, fontsize=18)\n",
    "plt.plot(np.unique(x), np.poly1d(np.polyfit(x, y, 1))(np.unique(x)), color=\"r\") #calculate line of best fit\n",
    "plt.show()\n",
    "\n",
    "slope, intercept, r_value, p_value, std_err = stats.linregress(x, y) #gets the r_value\n",
    "print(\"The r squared coefficient is: \", r_value**2)"
   ]
  },
  {
   "cell_type": "markdown",
   "metadata": {},
   "source": [
    "Let's improve on our model even further. Right now we are choosing only one variable to try to explain our data. But in real life, there is not only one factor that contributes to social disorder; so why are we trying to explain it using only one variable? No wonder it's difficult to get the whole picture! We will now use multiple regression to use 2(or 3) variables to make our model even more accurate. Try changing up the column names to see close your regression line is now! Make sure to change the x and y names in the \"ax.set_labels\"."
   ]
  },
  {
   "cell_type": "code",
   "execution_count": 163,
   "metadata": {},
   "outputs": [
    {
     "data": {
      "image/png": "[encoded data removed]",
      "text/plain": [
       "<matplotlib.figure.Figure at 0x1fa80858a20>"
      ]
     },
     "metadata": {},
     "output_type": "display_data"
    }
   ],
   "source": [
    "from mpl_toolkits.mplot3d import Axes3D\n",
    "\n",
    "fig = plt.figure()\n",
    "ax = fig.add_subplot(111, projection=\"3d\")\n",
    "\n",
    "x = combined_data[\"Education\"]\n",
    "y = combined_data[\"Income\"]\n",
    "z = combined_data[\"Social Disorder\"]\n",
    "\n",
    "ax.scatter(x,y,z,c=\"r\", marker=\"o\")\n",
    "\n",
    "ax.set_xlabel(\"Education\")\n",
    "ax.set_ylabel(\"Income\")\n",
    "ax.set_zlabel(\"Social Disorder\")\n",
    "plt.show()\n",
    "\n",
    "#Cool graph to see but I dont think it really shows anything?"
   ]
  },
  {
   "cell_type": "markdown",
   "metadata": {},
   "source": [
    "To recap, we did 4 things to analyze our real life data:\n",
    "    \n",
    "1)We observed the data on a map where we could click on various points and see the data. This gives an intuitive sense of how the data is spread and what we can expect. Having a physical picture of what the data could possibly be representing is often a good first step rather than jumping straight into the numbers.\n",
    "\n",
    "2)We observed the data in table form. As nice as graphs are, it is not possible to sort a graph. Therefore, we turned our graph into table form, compressed the data, and looked for correlation between known statistics. It is an important part of to compare your collected results to known statistics. There is no point in collecting data if you cannot measure it against some standard.\n",
    "\n",
    "3)Instead of eyeballing the table, we now turned it into a graph and computed the line of best fit. We also got an r_squared value which measured the correlation. This provides a more accurate representation of all data points rather than just looking at tables as well as the r_squared value which shows how \"good\" the line of best fit is.\n",
    "\n",
    "4)You had some fun with 3d graphs.\n",
    "\n",
    "We hoped you learn how to quantify your observations in a mathematical way and had some fun with manipulating data!\n"
   ]
  }
 ],
 "metadata": {
  "kernelspec": {
   "display_name": "Python 3",
   "language": "python",
   "name": "python3"
  },
  "language_info": {
   "codemirror_mode": {
    "name": "ipython",
    "version": 3
   },
   "file_extension": ".py",
   "mimetype": "text/x-python",
   "name": "python",
   "nbconvert_exporter": "python",
   "pygments_lexer": "ipython3",
   "version": "3.6.1"
  }
 },
 "nbformat": 4,
 "nbformat_minor": 2
}
