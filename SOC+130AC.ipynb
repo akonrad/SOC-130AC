{
 "cells": [
  {
   "cell_type": "markdown",
   "metadata": {},
   "source": [
    "# Sociology 130AC Module: \"The Neighborhood Project\""
   ]
  },
  {
   "cell_type": "markdown",
   "metadata": {},
   "source": [
    "Context tile."
   ]
  },
  {
   "cell_type": "code",
   "execution_count": 1,
   "metadata": {
    "collapsed": false
   },
   "outputs": [],
   "source": [
    "import pandas as pd\n",
    "from datascience import *\n",
    "import numpy as np\n",
    "import matplotlib.pyplot as plt\n",
    "from ipywidgets import *\n",
    "%matplotlib inline"
   ]
  },
  {
   "cell_type": "code",
   "execution_count": 2,
   "metadata": {
    "collapsed": false
   },
   "outputs": [
    {
     "data": {
      "text/html": [
       "\n",
       "<div id=\"folium_c6bd85b2333c4b1e91158e3cbd8787d0\" style=\"width: 100%; height: 100%\"></div>\n",
       "\n",
       "<script>\n",
       "\n",
       "  var make_plot = function(){\n",
       "    if (typeof L === 'undefined'){\n",
       "      window.addEventListener('leaflet_libs_loaded', make_plot)\n",
       "      return;\n",
       "    }\n",
       "\n",
       "    var render_plot = (function(){\n",
       "\n",
       "      \n",
       "\n",
       "      var map = L.map('folium_c6bd85b2333c4b1e91158e3cbd8787d0').setView([37.7749, -122.4194], 12);\n",
       "\n",
       "      L.tileLayer('https://{s}.tile.openstreetmap.org/{z}/{x}/{y}.png', {\n",
       "          maxZoom: 18,\n",
       "          minZoom: 1,\n",
       "          attribution: 'Map data (c) <a href=\"http://openstreetmap.org\">OpenStreetMap</a> contributors'\n",
       "      }).addTo(map);\n",
       "\n",
       "      \n",
       "\n",
       "      \n",
       "\n",
       "      \n",
       "\n",
       "      \n",
       "\n",
       "      \n",
       "\n",
       "    })();\n",
       "\n",
       "  };\n",
       "\n",
       "  make_plot();\n",
       "\n",
       "</script>"
      ],
      "text/plain": [
       "<folium.folium.Map at 0x1e36a353da0>"
      ]
     },
     "execution_count": 2,
     "metadata": {},
     "output_type": "execute_result"
    }
   ],
   "source": [
    "import folium\n",
    "from IPython.display import HTML, display\n",
    "LDN_COORDINATES = (37.7749, -122.4194)\n",
    "myMap = folium.Map(location=LDN_COORDINATES, zoom_start=12)\n",
    "\n",
    "#load csv file\n",
    "#folium.Marker([37.7749, -122.4192], popup='Mt. Hood Meadows').add_to(myMap)\n",
    "\n",
    "myMap._build_map()\n",
    "#mapWidth, mapHeight = (400,500) # width and height of the displayed iFrame, in pixels\n",
    "#srcdoc = myMap.HTML.replace('\"', '&quot;')\n",
    "#embed = HTML('<iframe srcdoc=\"{}\" '\n",
    "#             'style=\"width: {}px; height: {}px; display:block; width: 50%; margin: 0 auto; '\n",
    "#             'border: none\"></iframe>'.format(srcdoc, mapWidth, mapHeight))\n",
    "#embed\n",
    "myMap"
   ]
  },
  {
   "cell_type": "code",
   "execution_count": null,
   "metadata": {
    "collapsed": true
   },
   "outputs": [],
   "source": []
  }
 ],
 "metadata": {
  "kernelspec": {
   "display_name": "Python 3",
   "language": "python",
   "name": "python3"
  },
  "language_info": {
   "codemirror_mode": {
    "name": "ipython",
    "version": 3
   },
   "file_extension": ".py",
   "mimetype": "text/x-python",
   "name": "python",
   "nbconvert_exporter": "python",
   "pygments_lexer": "ipython3",
   "version": "3.5.2"
  }
 },
 "nbformat": 4,
 "nbformat_minor": 2
}
