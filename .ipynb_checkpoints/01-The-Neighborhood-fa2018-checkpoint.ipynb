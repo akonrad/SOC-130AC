{
 "cells": [
  {
   "cell_type": "markdown",
   "metadata": {},
   "source": [
    "Run the code cell below with the ▶| button above to set up this notebook, or type `SHIFT-ENTER`:"
   ]
  },
  {
   "cell_type": "code",
   "execution_count": 2,
   "metadata": {},
   "outputs": [],
   "source": [
    "from datascience import *\n",
    "import pandas as pd\n",
    "import geojson\n",
    "import numpy as np\n",
    "import matplotlib.pyplot as plt\n",
    "import folium\n",
    "from IPython.display import HTML, display, IFrame\n",
    "from folium import plugins\n",
    "%matplotlib inline\n",
    "from scipy import stats\n",
    "import ipywidgets as widgets\n",
    "from soc_module import *\n",
    "import warnings\n",
    "warnings.filterwarnings('ignore')\n",
    "from datetime import datetime\n",
    "import re"
   ]
  },
  {
   "cell_type": "markdown",
   "metadata": {},
   "source": [
    "# Sociology 130 Module: \"The Neighborhood Project\"\n",
    "\n",
    "Welcome to the data science part of your project! You have gathered data and entered it [here](https://goo.gl/forms/eY1mephilS6VqAT83) from your assigned census tracts.  Now it's time to explore our class data and quantify our observations using Python, a popular programming language used in data science. \n",
    "\n",
    "You won't need any prior programming knowledge to do this! The purpose of this module is not to teach you programming, but rather to show you the power of these tools and give you the intuition for how they work. It also allows us to quickly produce summarizations of our data!\n",
    "\n",
    "## Table of Contents\n",
    "\n",
    "0. [Python and Jupyter Notebooks](#jupyter)\n",
    "1. [Class Data](#yourdata)\n",
    "2. [Our Metrics](#ourmetrics)\n",
    "3. [Census Data](#census)\n",
    "4. [Correlation](#correlation)\n",
    "5. [Regression](#regression)"
   ]
  },
  {
   "cell_type": "markdown",
   "metadata": {},
   "source": [
    "#### Completing the Notebooks\n",
    "\n",
    "\n",
    "<div class=\"alert alert-info\"> \n",
    "\n",
    "**QUESTION** cells are in blue and ask you to answers questions or fill in code cells. To receive full credit for your assignment, you must complete all **QUESTION** cells.\n",
    "\n",
    "\n",
    "</div>\n",
    "\n"
   ]
  },
  {
   "cell_type": "markdown",
   "metadata": {},
   "source": [
    "# Part 0: Introduction to Python and Jupyter Notebooks: <a id='jupyter'></a>\n",
    "\n",
    "## 1. Cells, Arithmetic, and Code\n",
    "In a notebook, each rectangle containing text or code is called a *cell*.\n",
    "\n",
    "Cells (like this one) can be edited by double-clicking on them. This cell is a text cell, written in a simple format called [Markdown](http://daringfireball.net/projects/markdown/syntax) to add formatting and section headings.  You don't need to worry about Markdown today, but it's a pretty fun+easy tool to learn.\n",
    "\n",
    "After you edit a cell, click the \"run cell\" button at the top that looks like ▶| to confirm any changes. (Try not to delete the instructions.) You can also press `SHIFT-ENTER` to run any cell or progress from one cell to the next.\n",
    "\n",
    "Other cells contain code in the Python programming language.  Running a code cell will execute all of the code it contains.\n",
    "\n",
    "Try running this cell:"
   ]
  },
  {
   "cell_type": "code",
   "execution_count": 3,
   "metadata": {},
   "outputs": [
    {
     "name": "stdout",
     "output_type": "stream",
     "text": [
      "Hello, World!\n"
     ]
    }
   ],
   "source": [
    "print(\"Hello, World!\")"
   ]
  },
  {
   "cell_type": "markdown",
   "metadata": {},
   "source": [
    "We will now quickly go through some very basic functionality of Python, which we'll be using throughout the rest of this notebook.\n",
    "\n",
    "### 1.1 Arithmetic\n",
    "Quantitative information arises everywhere in data science. In addition to representing commands to `print` out lines, expressions can represent numbers and methods of combining numbers. \n",
    "\n",
    "The expression `3.2500` evaluates to the number 3.25. (Run the cell and see.)"
   ]
  },
  {
   "cell_type": "code",
   "execution_count": 4,
   "metadata": {},
   "outputs": [
    {
     "data": {
      "text/plain": [
       "3.25"
      ]
     },
     "execution_count": 4,
     "metadata": {},
     "output_type": "execute_result"
    }
   ],
   "source": [
    "3.2500"
   ]
  },
  {
   "cell_type": "markdown",
   "metadata": {},
   "source": [
    "We don't necessarily always need to say \"`print`\", because Jupyter always prints the last line in a code cell. If you want to print more than one line, though, do specify \"`print`\"."
   ]
  },
  {
   "cell_type": "code",
   "execution_count": 5,
   "metadata": {},
   "outputs": [
    {
     "name": "stdout",
     "output_type": "stream",
     "text": [
      "3\n"
     ]
    },
    {
     "data": {
      "text/plain": [
       "5"
      ]
     },
     "execution_count": 5,
     "metadata": {},
     "output_type": "execute_result"
    }
   ],
   "source": [
    "print(3)\n",
    "4\n",
    "5"
   ]
  },
  {
   "cell_type": "markdown",
   "metadata": {},
   "source": [
    "Many basic arithmetic operations are built in to Python, like `*` (multiplication), `+` (addition), `-` (subtraction), and `/` (division). There are many others, which you can find information about [here](http://www.inferentialthinking.com/chapters/03/1/expressions.html). Use parenthesis to specify the order of operations, which act according to PEMDAS, just as you may have learned in school. Use parentheses for a happy new year!"
   ]
  },
  {
   "cell_type": "code",
   "execution_count": 6,
   "metadata": {},
   "outputs": [
    {
     "data": {
      "text/plain": [
       "2018.0"
      ]
     },
     "execution_count": 6,
     "metadata": {},
     "output_type": "execute_result"
    }
   ],
   "source": [
    "2 + (6 * 5 - (6 * 3)) ** 2 * (( 2 ** 3 ) / 4 * 7)"
   ]
  },
  {
   "cell_type": "markdown",
   "metadata": {},
   "source": [
    "### 1.2 Variables\n",
    "\n",
    "We sometimes want to work with the result of some computation more than once. To be able to do that without repeating code everywhere we want to use it, we can store it in a variable with *assignment statements*, which have the variable name on the left, an equals sign, and the expression to be evaluated and stored on the right. In the cell below, `(3 * 11 + 5) / 2 - 9` evaluates to 10, and gets stored in the variable `result`."
   ]
  },
  {
   "cell_type": "code",
   "execution_count": 7,
   "metadata": {},
   "outputs": [],
   "source": [
    "result = (3 * 11 + 5) / 2 - 9"
   ]
  },
  {
   "cell_type": "code",
   "execution_count": 8,
   "metadata": {},
   "outputs": [
    {
     "data": {
      "text/plain": [
       "10.0"
      ]
     },
     "execution_count": 8,
     "metadata": {},
     "output_type": "execute_result"
    }
   ],
   "source": [
    "result"
   ]
  },
  {
   "cell_type": "markdown",
   "metadata": {},
   "source": [
    "## 2. Functions\n",
    "\n",
    "    \n",
    "One important form of an expression is the call expression, which first names a function and then describes its arguments. The function returns some value, based on its arguments. Some important mathematical functions are:\n",
    "\n",
    "| Function | Description                                                   |\n",
    "|----------|---------------------------------------------------------------|\n",
    "| `abs`      | Returns the absolute value of its argument                    |\n",
    "| `max`      | Returns the maximum of all its arguments                      |\n",
    "| `min`      | Returns the minimum of all its arguments                      |\n",
    "| `round`    | Round its argument to the nearest integer                     |\n",
    "\n",
    "Here are two call expressions that both evaluate to 3\n",
    "\n",
    "```python\n",
    "abs(2 - 5)\n",
    "max(round(2.8), min(pow(2, 10), -1 * pow(2, 10)))\n",
    "```\n",
    "\n",
    "These function calls first evaluate the expressions in the arguments (inside the parentheses), then evaluate the function on the results. `abs(2-5)` evaluates first to `abs(3)`, then returns `3`.\n",
    "\n",
    "A **statement** is a whole line of code.  Some statements are just expressions, like the examples above, that can be broken down into its subexpressions which get evaluated individually before evaluating the statement as a whole.\n"
   ]
  },
  {
   "cell_type": "markdown",
   "metadata": {},
   "source": [
    "### 2.1 Calling functions\n",
    "\n",
    "The most common way to combine or manipulate values in Python is by calling functions. Python comes with many built-in functions that perform common operations.\n",
    "\n",
    "For example, the `abs` function takes a single number as its argument and returns the absolute value of that number.  The absolute value of a number is its distance from 0 on the number line, so `abs(5)` is 5 and `abs(-5)` is also 5."
   ]
  },
  {
   "cell_type": "code",
   "execution_count": 9,
   "metadata": {},
   "outputs": [
    {
     "data": {
      "text/plain": [
       "5"
      ]
     },
     "execution_count": 9,
     "metadata": {},
     "output_type": "execute_result"
    }
   ],
   "source": [
    "abs(5)"
   ]
  },
  {
   "cell_type": "code",
   "execution_count": 10,
   "metadata": {},
   "outputs": [
    {
     "data": {
      "text/plain": [
       "5"
      ]
     },
     "execution_count": 10,
     "metadata": {},
     "output_type": "execute_result"
    }
   ],
   "source": [
    "abs(-5)"
   ]
  },
  {
   "cell_type": "markdown",
   "metadata": {},
   "source": [
    "Functions can be called as above, putting the argument in parentheses at the end, or by using \"dot notation\", and calling the function after finding the arguments, as in the cell immediately below."
   ]
  },
  {
   "cell_type": "code",
   "execution_count": 11,
   "metadata": {},
   "outputs": [],
   "source": [
    "nums = [1, 2, 5]  # a list of items, in this case, numbers"
   ]
  },
  {
   "cell_type": "code",
   "execution_count": 12,
   "metadata": {},
   "outputs": [
    {
     "data": {
      "text/plain": [
       "[5, 2, 1]"
      ]
     },
     "execution_count": 12,
     "metadata": {},
     "output_type": "execute_result"
    }
   ],
   "source": [
    "nums.reverse()  # reverses the item order\n",
    "nums"
   ]
  },
  {
   "cell_type": "markdown",
   "metadata": {},
   "source": [
    "# Part 1: Class Data<a id='yourdata'></a>\n",
    "\n",
    "We can read in the data you submitted through the form by asking Google for the form information and turning it into a table."
   ]
  },
  {
   "cell_type": "code",
   "execution_count": 13,
   "metadata": {
    "scrolled": false
   },
   "outputs": [
    {
     "data": {
      "text/html": [
       "<table border=\"1\" class=\"dataframe\">\n",
       "    <thead>\n",
       "        <tr>\n",
       "            <th>Image #1</th> <th>Image #1 Address</th> <th>Other thoughts or comments for Image #1</th> <th>Image #2</th> <th>Image #2 Address</th> <th>Other thoughts or comments for Image #2</th> <th>Image #3</th> <th>Image #3 Address</th> <th>Other thoughts or comments for Image #3</th> <th>Image #4</th> <th>Other thoughts or comments for Image #4</th> <th>Image #4 Address</th> <th>Image #5</th> <th>Image #5 Address</th> <th>Other thoughts or comments for Image #5</th> <th>Image #1 coordinates</th> <th>Image #2 coordinates</th> <th>Image #3 coordinates</th> <th>Image #4 coordinates</th> <th>Image #5 coordinates</th> <th>Census Tract</th>\n",
       "        </tr>\n",
       "    </thead>\n",
       "    <tbody>\n",
       "        <tr>\n",
       "            <td>https://drive.google.com/open?id=1t7Cm2UkrM467FxsdfYNLc9 ...</td> <td>2150 Channing Way, Berkeley, CA, 94704   </td> <td>I found this graffiti on a wall in the parking lot of a  ...</td> <td>https://drive.google.com/open?id=1-Kz4-Fbk5G7w39A1Vwu6nM ...</td> <td>Channing Way and Shattuck Ave, Berkeley, CA, 94704</td> <td>There is a Ford Bike Station and it is almost full.         </td> <td>https://drive.google.com/open?id=1zjA9f2t64BX0MA9Taz4foC ...</td> <td>2344 Fulton St, Berkeley, CA, 94704    </td> <td>This is a house for Cal's track and field team.             </td> <td>https://drive.google.com/open?id=1ZGfWt-nuNBqy_m9wLT_Qvn ...</td> <td>Someone put a sticker saying \"eating animals\" on the sto ...</td> <td>Channing Way and Fulton St, Berkeley, CA, 94704</td> <td>https://drive.google.com/open?id=1f2JyD7z6fSZCO6vqtIlaWv ...</td> <td>2121 Channing Way, Berkeley, CA, 94704 </td> <td>There is a Buddhist Temple which shows the diversity of  ...</td> <td>[37.8658887573699, -122.266275305354]</td> <td>(37.8678899, -122.269247)            </td> <td>[37.8666288180719, -122.265876910725]</td> <td>(37.8678899, -122.269247)           </td> <td>[37.866019739311, -122.266542125136] </td> <td>4229        </td>\n",
       "        </tr>\n",
       "        <tr>\n",
       "            <td>https://drive.google.com/open?id=1K2U0ccdwjWB5MMC9bbNyA0 ...</td> <td>5634 Shattuck Ave.                       </td> <td>This art shop looked out of place next to the neighborho ...</td> <td>https://drive.google.com/open?id=1ON0rVTsybNXEBRBYR5JPrY ...</td> <td>5699 Shattuck Ave.                                </td> <td>This was the only apparent property that was for sale on ...</td> <td>https://drive.google.com/open?id=13vvO_O3GiEu0rzlrpIhbiM ...</td> <td>608 Shattuck Ave.                      </td> <td>The side of the block near Shattuck was more dilapidated ...</td> <td>nan                                                         </td> <td>nan                                                         </td> <td>nan                                            </td> <td>nan                                                         </td> <td>nan                                    </td> <td>nan                                                         </td> <td>[37.8724895, -122.2684359]           </td> <td>[37.8724895, -122.2684359]           </td> <td>[35.130098959596, -119.460902121212] </td> <td>nan                                 </td> <td>nan                                  </td> <td>4006        </td>\n",
       "        </tr>\n",
       "        <tr>\n",
       "            <td>https://drive.google.com/open?id=1bC5tf0RrhU8ucWutTbwSA8 ...</td> <td>2067 University Ave, Berkeley, CA, 94704.</td> <td>It seems that the wall was not designed for locals to po ...</td> <td>https://drive.google.com/open?id=1lq2-AA8zbS9USxwmhTY_sd ...</td> <td>2067-2071 University Ave, Berkeley, CA, 94704.    </td> <td>There were groups of homeless people outside the restaur ...</td> <td>https://drive.google.com/open?id=1XZ7O9Iv-vJlp0KGiAO9DNA ...</td> <td>2011 Berkeley Way, Berkeley, CA, 94704.</td> <td>There are No-parking signs on the fence, but several car ...</td> <td>https://drive.google.com/open?id=1xAhyRXCveyHCQLoWGKEjyE ...</td> <td>There is a large graffiti on the wall of the parking lot ...</td> <td>2016 Berkeley Way, Berkeley, CA, 94704.        </td> <td>https://drive.google.com/open?id=1IRztM7ZX4HzLNUhHrLboa2 ...</td> <td>2005 Berkeley Way, Berkeley, CA, 94704.</td> <td>The fence and iron gate shows that crimes may happen som ...</td> <td>[37.8720195886659, -122.269816641442]</td> <td>[37.8720195886659, -122.269816641442]</td> <td>[37.8728409227947, -122.270248811613]</td> <td>[37.8726479989409, -122.2704598844] </td> <td>[37.8728723, -122.2704417]           </td> <td>4224        </td>\n",
       "        </tr>\n",
       "        <tr>\n",
       "            <td>https://drive.google.com/open?id=1DAEeW4g8askpmgbaR8JXlk ...</td> <td>535 8th St, Oakland, CA, 94607           </td> <td>There were a few of these green dumpsters throughout the ...</td> <td>https://drive.google.com/open?id=1HNYxCgjW-eQQqQFPjCzhG1 ...</td> <td>517 8th St, Oakland, CA, 94607                    </td> <td>There were some \"pay and display\" parking ticket machine ...</td> <td>https://drive.google.com/open?id=1kyhPjq_yANAlj951QKecJ- ...</td> <td>530 8th St, Oakland, CA, 94607         </td> <td>This was one of four buildings that seemed abandoned/emp ...</td> <td>https://drive.google.com/open?id=147w7g4FMLP4X8cjC-QxD-x ...</td> <td>I took a picture of this truck because it seemed like so ...</td> <td>810 Clay St, Oakland, CA 94607                 </td> <td>https://drive.google.com/open?id=177FjcfjP9mOJx7GkLWvsjw ...</td> <td>512 8th St, Oakland, CA 94607          </td> <td>I was really surprised to find a temple on this block be ...</td> <td>[37.7964115, -122.2643766]           </td> <td>[37.7964115, -122.2643766]           </td> <td>[37.8009167156494, -122.275402395618]</td> <td>[37.801272625156, -122.276025874901]</td> <td>[37.8008494265101, -122.275235462283]</td> <td>4031        </td>\n",
       "        </tr>\n",
       "        <tr>\n",
       "            <td>https://drive.google.com/open?id=1J7FBN9UWvZIhi2aFFG18yy ...</td> <td>3033 Shattuck Ave, Berkeley, CA 94705    </td> <td>View from the corner of Essex and Shattuck                  </td> <td>https://drive.google.com/open?id=1CSHGT6G4TayqlTNRyS4Jhm ...</td> <td>3045 Shattuck Ave, Berkeley, CA 94705             </td> <td>View facing Shattuck Ave                                    </td> <td>https://drive.google.com/open?id=12aeAsa3F1uLPsasS1ppCik ...</td> <td>3051 Shattuck Ave, Berkeley, CA 94705  </td> <td>Down Shattuck Ave                                           </td> <td>https://drive.google.com/open?id=1UxrYJd9YcdFyLSvxUa_FhY ...</td> <td>Residential house of Shattuck Ave                           </td> <td>3028 Shattuck Ave, Berkeley, CA 94705          </td> <td>https://drive.google.com/open?id=1fpi2WbAMu9LVXLBEzs0sIl ...</td> <td>3040 Shattuck Ave, Berkeley, CA 92405  </td> <td>Shattuck Ave residences                                     </td> <td>[37.8540256666667, -122.266213]      </td> <td>[37.8536801, -122.266042711164]      </td> <td>[37.8536181290323, -122.266159419355]</td> <td>[37.8541573333333, -122.266228]     </td> <td>[37.8537052419355, -122.26617166129] </td> <td>4239.01     </td>\n",
       "        </tr>\n",
       "    </tbody>\n",
       "</table>\n",
       "<p>... (134 rows omitted)</p>"
      ],
      "text/plain": [
       "<IPython.core.display.HTML object>"
      ]
     },
     "metadata": {},
     "output_type": "display_data"
    },
    {
     "data": {
      "text/html": [
       "<table border=\"1\" class=\"dataframe\">\n",
       "    <thead>\n",
       "        <tr>\n",
       "            <th>Timestamp</th> <th>Census Tract</th> <th>Amount of Beer/Liquor Bottles (1 to 5 scale)</th> <th>Amount of Cigarette/Cigar Butts (1 to 5 scale)</th> <th>Amount of Condoms (1 to 5 scale)</th> <th>Amount of Garbage (1 to 5 scale)</th> <th>Abandoned Cars (Y?N)</th> <th>Treatment (1 (Friendly) to 5 (Suspicion) scale)</th> <th>Condition of Buildings (1 (Good) to 4 (Poor) scale)</th> <th>Graffiti (Y/N)</th> <th>Fenching (1 (None) to 4 (High mesh) scale)</th> <th>Renovations (Y/N)</th> <th>Types of Establishments</th> <th>Amount of Trees Linked the Block Fence (1 (Few) to 3 (Most) scale)</th> <th>Public Transporation Available (Y/N)</th> <th>Private Security Visible (Y/N)</th> <th>Police Visible (Y/N)</th>\n",
       "        </tr>\n",
       "    </thead>\n",
       "    <tbody>\n",
       "        <tr>\n",
       "            <td>10/21/2018 22:10:14</td> <td>4229        </td> <td>2                                           </td> <td>2                                             </td> <td>1                               </td> <td>2                               </td> <td>0                   </td> <td>4                                              </td> <td>2                                                  </td> <td>1             </td> <td>2                                         </td> <td>1                </td> <td>Eating places/restaurants, Professional offices (doctor  ...</td> <td>2                                                                 </td> <td>1                                   </td> <td>0                             </td> <td>0                   </td>\n",
       "        </tr>\n",
       "        <tr>\n",
       "            <td>10/21/2018 22:23:08</td> <td>4006        </td> <td>1                                           </td> <td>1                                             </td> <td>1                               </td> <td>2                               </td> <td>0                   </td> <td>4                                              </td> <td>2                                                  </td> <td>1             </td> <td>2                                         </td> <td>0                </td> <td>Liquor stores or Marijuana Dispensaries                     </td> <td>2                                                                 </td> <td>1                                   </td> <td>0                             </td> <td>1                   </td>\n",
       "        </tr>\n",
       "        <tr>\n",
       "            <td>10/22/2018 0:01:58 </td> <td>4224        </td> <td>3                                           </td> <td>2                                             </td> <td>1                               </td> <td>3                               </td> <td>1                   </td> <td>3                                              </td> <td>2                                                  </td> <td>0             </td> <td>3                                         </td> <td>1                </td> <td>Bars and alcoholic beverage services, Eating places/rest ...</td> <td>2                                                                 </td> <td>1                                   </td> <td>0                             </td> <td>0                   </td>\n",
       "        </tr>\n",
       "        <tr>\n",
       "            <td>10/22/2018 0:08:49 </td> <td>4031        </td> <td>1                                           </td> <td>3                                             </td> <td>1                               </td> <td>3                               </td> <td>0                   </td> <td>2                                              </td> <td>2                                                  </td> <td>1             </td> <td>1                                         </td> <td>0                </td> <td>Bodega deli corner-store convenience store, Eating place ...</td> <td>1                                                                 </td> <td>0                                   </td> <td>0                             </td> <td>0                   </td>\n",
       "        </tr>\n",
       "        <tr>\n",
       "            <td>10/22/2018 0:09:49 </td> <td>4239.01     </td> <td>1                                           </td> <td>1                                             </td> <td>1                               </td> <td>3                               </td> <td>0                   </td> <td>2                                              </td> <td>2                                                  </td> <td>0             </td> <td>1                                         </td> <td>1                </td> <td>Bars and alcoholic beverage services, Professional offic ...</td> <td>2                                                                 </td> <td>1                                   </td> <td>1                             </td> <td>0                   </td>\n",
       "        </tr>\n",
       "    </tbody>\n",
       "</table>\n",
       "<p>... (134 rows omitted)</p>"
      ],
      "text/plain": [
       "<IPython.core.display.HTML object>"
      ]
     },
     "metadata": {},
     "output_type": "display_data"
    }
   ],
   "source": [
    "image_data = Table.read_table(\"data/image_data.csv\")\n",
    "class_data = Table.read_table(\"data/class_data.csv\")\n",
    "image_data.show(5)\n",
    "class_data.show(5)"
   ]
  },
  {
   "cell_type": "markdown",
   "metadata": {},
   "source": [
    "That's a lot of columns! Now that our data is inside the `class_data` variable, we can ask that varible for some information. We can get a list of the column names with the `.labels` attribute of the table:"
   ]
  },
  {
   "cell_type": "code",
   "execution_count": 14,
   "metadata": {},
   "outputs": [
    {
     "data": {
      "text/plain": [
       "('Timestamp',\n",
       " 'Census Tract',\n",
       " 'Amount of Beer/Liquor Bottles (1 to 5 scale)',\n",
       " 'Amount of Cigarette/Cigar Butts (1 to 5 scale)',\n",
       " 'Amount of Condoms (1 to 5 scale)',\n",
       " 'Amount of Garbage (1 to 5 scale)',\n",
       " 'Abandoned Cars (Y?N)',\n",
       " 'Treatment (1 (Friendly) to 5 (Suspicion) scale)',\n",
       " 'Condition of Buildings (1 (Good) to 4 (Poor) scale)',\n",
       " 'Graffiti (Y/N)',\n",
       " 'Fenching (1 (None) to 4 (High mesh) scale)',\n",
       " 'Renovations (Y/N)',\n",
       " 'Types of Establishments',\n",
       " 'Amount of Trees Linked the Block Fence (1 (Few) to 3 (Most) scale)',\n",
       " 'Public Transporation Available (Y/N)',\n",
       " 'Private Security Visible (Y/N)',\n",
       " 'Police Visible (Y/N)')"
      ]
     },
     "execution_count": 14,
     "metadata": {},
     "output_type": "execute_result"
    }
   ],
   "source": [
    "class_data.labels"
   ]
  },
  {
   "cell_type": "markdown",
   "metadata": {},
   "source": [
    "Let's get some summary statistics and do some plotting.\n",
    "\n",
    "How many of you reported on which census tracts?"
   ]
  },
  {
   "cell_type": "code",
   "execution_count": 15,
   "metadata": {},
   "outputs": [
    {
     "data": {
      "text/html": [
       "<table border=\"1\" class=\"dataframe\">\n",
       "    <thead>\n",
       "        <tr>\n",
       "            <th>Census Tract</th> <th>count</th>\n",
       "        </tr>\n",
       "    </thead>\n",
       "    <tbody>\n",
       "        <tr>\n",
       "            <td>401         </td> <td>6    </td>\n",
       "        </tr>\n",
       "        <tr>\n",
       "            <td>403         </td> <td>5    </td>\n",
       "        </tr>\n",
       "        <tr>\n",
       "            <td>4005        </td> <td>5    </td>\n",
       "        </tr>\n",
       "        <tr>\n",
       "            <td>4006        </td> <td>6    </td>\n",
       "        </tr>\n",
       "        <tr>\n",
       "            <td>4007        </td> <td>7    </td>\n",
       "        </tr>\n",
       "        <tr>\n",
       "            <td>4014        </td> <td>7    </td>\n",
       "        </tr>\n",
       "        <tr>\n",
       "            <td>4027        </td> <td>6    </td>\n",
       "        </tr>\n",
       "        <tr>\n",
       "            <td>4028        </td> <td>5    </td>\n",
       "        </tr>\n",
       "        <tr>\n",
       "            <td>4031        </td> <td>6    </td>\n",
       "        </tr>\n",
       "        <tr>\n",
       "            <td>4033        </td> <td>6    </td>\n",
       "        </tr>\n",
       "        <tr>\n",
       "            <td>4201        </td> <td>7    </td>\n",
       "        </tr>\n",
       "        <tr>\n",
       "            <td>4202        </td> <td>7    </td>\n",
       "        </tr>\n",
       "        <tr>\n",
       "            <td>4203        </td> <td>6    </td>\n",
       "        </tr>\n",
       "        <tr>\n",
       "            <td>4204        </td> <td>3    </td>\n",
       "        </tr>\n",
       "        <tr>\n",
       "            <td>4205        </td> <td>6    </td>\n",
       "        </tr>\n",
       "        <tr>\n",
       "            <td>4206        </td> <td>5    </td>\n",
       "        </tr>\n",
       "        <tr>\n",
       "            <td>4212        </td> <td>6    </td>\n",
       "        </tr>\n",
       "        <tr>\n",
       "            <td>4213        </td> <td>5    </td>\n",
       "        </tr>\n",
       "        <tr>\n",
       "            <td>4214        </td> <td>6    </td>\n",
       "        </tr>\n",
       "        <tr>\n",
       "            <td>4217        </td> <td>6    </td>\n",
       "        </tr>\n",
       "        <tr>\n",
       "            <td>4224        </td> <td>6    </td>\n",
       "        </tr>\n",
       "        <tr>\n",
       "            <td>4229        </td> <td>5    </td>\n",
       "        </tr>\n",
       "        <tr>\n",
       "            <td>4235        </td> <td>6    </td>\n",
       "        </tr>\n",
       "        <tr>\n",
       "            <td>4239.01     </td> <td>6    </td>\n",
       "        </tr>\n",
       "    </tbody>\n",
       "</table>"
      ],
      "text/plain": [
       "<IPython.core.display.HTML object>"
      ]
     },
     "metadata": {},
     "output_type": "display_data"
    }
   ],
   "source": [
    "class_data.group(\"Census Tract\").show()"
   ]
  },
  {
   "cell_type": "markdown",
   "metadata": {},
   "source": [
    "\n",
    "We can use the `.plot.barh()` method to this to visualize the counts:"
   ]
  },
  {
   "cell_type": "code",
   "execution_count": 16,
   "metadata": {},
   "outputs": [
    {
     "data": {
      "image/png": "[encoded data removed]",
      "text/plain": [
       "<Figure size 432x864 with 1 Axes>"
      ]
     },
     "metadata": {
      "needs_background": "light"
     },
     "output_type": "display_data"
    }
   ],
   "source": [
    "class_data.group(\"Census Tract\").barh(\"Census Tract\")"
   ]
  },
  {
   "cell_type": "markdown",
   "metadata": {},
   "source": [
    "We can write a short function, `bar_chart_column`, to plot the counts for any of our columns in the table. All we have to do is select the column label in the dropdown."
   ]
  },
  {
   "cell_type": "code",
   "execution_count": 17,
   "metadata": {},
   "outputs": [
    {
     "data": {
      "application/vnd.jupyter.widget-view+json": {
       "model_id": "0ee0f73b794d460298273eaaa0fb78ee",
       "version_major": 2,
       "version_minor": 0
      },
      "text/plain": [
       "interactive(children=(Dropdown(description='Column', options=('Census Tract', 'Amount of Beer/Liquor Bottles (…"
      ]
     },
     "metadata": {},
     "output_type": "display_data"
    }
   ],
   "source": [
    "def bar_chart_column(col):\n",
    "    bar_chart_data.group(col).barh(col)\n",
    "\n",
    "bar_chart_data = class_data.drop(\"What kinds of establishments are there on the block face? Select all that apply.\")\n",
    "\n",
    "dropdown = widgets.Dropdown(options=bar_chart_data.labels[1:], description=\"Column\")\n",
    "display(widgets.interactive(bar_chart_column, col=dropdown))"
   ]
  },
  {
   "cell_type": "markdown",
   "metadata": {},
   "source": [
    "We can then ask for these columns and plot their means too."
   ]
  },
  {
   "cell_type": "code",
   "execution_count": 18,
   "metadata": {},
   "outputs": [
    {
     "data": {
      "image/png": "[encoded data removed]",
      "text/plain": [
       "<Figure size 432x288 with 1 Axes>"
      ]
     },
     "metadata": {
      "needs_background": "light"
     },
     "output_type": "display_data"
    }
   ],
   "source": [
    "class_data.to_df().iloc[:,2:].mean().plot.barh();"
   ]
  },
  {
   "cell_type": "markdown",
   "metadata": {
    "collapsed": true
   },
   "source": [
    "One of the questions had checkbox answers that listed all of the establishments that were observed by each student in their assigned census tract. Let's create a seperate column for each of the possible options. A value of `1` in the column indicates that the estalishment was observed. A value of `0` indicates that the establishment was not observed."
   ]
  },
  {
   "cell_type": "code",
   "execution_count": 19,
   "metadata": {},
   "outputs": [
    {
     "data": {
      "text/html": [
       "<table border=\"1\" class=\"dataframe\">\n",
       "    <thead>\n",
       "        <tr>\n",
       "            <th>Types of Establishments</th> <th>Eating places/restaurants</th> <th>Professional offices (doctor dentist lawyer accountant real estate)</th> <th>Liquor stores or Marijuana Dispensaries</th> <th>Bars and alcoholic beverage services</th> <th>Fast food or take-out places</th> <th>Warehouses</th> <th>Bodega deli corner-store convenience store</th> <th>Payday lenders check cashers or pawn shops</th> <th>Supermarkets/grocery stores</th> <th>Manufacturing</th> <th>Community center</th> <th>Playgrounds</th> <th>Gas station</th> <th>nan</th> <th>Banks or credit unions</th> <th>Public library</th> <th>Post office</th> <th>Schools or daycare centers</th> <th>Parks</th> <th>Chain retail stores</th> <th>Auto repair/auto body shop</th> <th>Fire station</th> <th>N/A</th>\n",
       "        </tr>\n",
       "    </thead>\n",
       "    <tbody>\n",
       "        <tr>\n",
       "            <td>Eating places/restaurants, Professional offices (doctor  ...</td> <td>1                        </td> <td>1                                                                  </td> <td>0                                      </td> <td>0                                   </td> <td>0                           </td> <td>0         </td> <td>0                                         </td> <td>0                                         </td> <td>0                          </td> <td>0            </td> <td>0               </td> <td>0          </td> <td>0          </td> <td>0   </td> <td>0                     </td> <td>0             </td> <td>0          </td> <td>0                         </td> <td>0    </td> <td>0                  </td> <td>0                         </td> <td>0           </td> <td>0   </td>\n",
       "        </tr>\n",
       "        <tr>\n",
       "            <td>Liquor stores or Marijuana Dispensaries                     </td> <td>0                        </td> <td>0                                                                  </td> <td>1                                      </td> <td>0                                   </td> <td>0                           </td> <td>0         </td> <td>0                                         </td> <td>0                                         </td> <td>0                          </td> <td>0            </td> <td>0               </td> <td>0          </td> <td>0          </td> <td>0   </td> <td>0                     </td> <td>0             </td> <td>0          </td> <td>0                         </td> <td>0    </td> <td>0                  </td> <td>0                         </td> <td>0           </td> <td>0   </td>\n",
       "        </tr>\n",
       "        <tr>\n",
       "            <td>Bars and alcoholic beverage services, Eating places/rest ...</td> <td>1                        </td> <td>0                                                                  </td> <td>1                                      </td> <td>1                                   </td> <td>1                           </td> <td>1         </td> <td>0                                         </td> <td>0                                         </td> <td>0                          </td> <td>0            </td> <td>0               </td> <td>0          </td> <td>0          </td> <td>0   </td> <td>0                     </td> <td>0             </td> <td>0          </td> <td>0                         </td> <td>0    </td> <td>0                  </td> <td>0                         </td> <td>0           </td> <td>0   </td>\n",
       "        </tr>\n",
       "        <tr>\n",
       "            <td>Bodega deli corner-store convenience store, Eating place ...</td> <td>1                        </td> <td>0                                                                  </td> <td>0                                      </td> <td>0                                   </td> <td>0                           </td> <td>0         </td> <td>1                                         </td> <td>1                                         </td> <td>1                          </td> <td>0            </td> <td>0               </td> <td>0          </td> <td>0          </td> <td>0   </td> <td>0                     </td> <td>0             </td> <td>0          </td> <td>0                         </td> <td>0    </td> <td>0                  </td> <td>0                         </td> <td>0           </td> <td>0   </td>\n",
       "        </tr>\n",
       "        <tr>\n",
       "            <td>Bars and alcoholic beverage services, Professional offic ...</td> <td>0                        </td> <td>1                                                                  </td> <td>0                                      </td> <td>1                                   </td> <td>0                           </td> <td>0         </td> <td>0                                         </td> <td>0                                         </td> <td>0                          </td> <td>0            </td> <td>0               </td> <td>0          </td> <td>0          </td> <td>0   </td> <td>0                     </td> <td>0             </td> <td>0          </td> <td>0                         </td> <td>0    </td> <td>0                  </td> <td>0                         </td> <td>0           </td> <td>0   </td>\n",
       "        </tr>\n",
       "    </tbody>\n",
       "</table>\n",
       "<p>... (134 rows omitted)</p>"
      ],
      "text/plain": [
       "<IPython.core.display.HTML object>"
      ]
     },
     "metadata": {},
     "output_type": "display_data"
    }
   ],
   "source": [
    "establishments = pd.Series([item for sublist in [response.split(', ') for response in class_data.to_df().iloc[:, 12] if not pd.isnull(response)] for item in sublist])\n",
    "ests_table = Table.empty().with_column(\"Types of Establishments\", class_data[\"Types of Establishments\"])\n",
    "\n",
    "for establishment in establishments.unique():\n",
    "    establishment_data = []\n",
    "\n",
    "    for row in class_data.rows:\n",
    "        ests = row.item('Types of Establishments')\n",
    "       \n",
    "        if not pd.isnull(ests):\n",
    "            row_establishments = ests.split(', ')\n",
    "        \n",
    "        if establishment in row_establishments:\n",
    "            establishment_data.append(1)\n",
    "        else: \n",
    "            establishment_data.append(0)\n",
    "    \n",
    "    ests_table[establishment] = establishment_data\n",
    "    \n",
    "ests_table.show(5)"
   ]
  },
  {
   "cell_type": "code",
   "execution_count": 20,
   "metadata": {},
   "outputs": [
    {
     "data": {
      "image/png": "[encoded data removed]",
      "text/plain": [
       "<Figure size 432x288 with 1 Axes>"
      ]
     },
     "metadata": {
      "needs_background": "light"
     },
     "output_type": "display_data"
    }
   ],
   "source": [
    "col_sums = []\n",
    "for col in ests_table.drop(0).labels:\n",
    "    col_sums.append(sum(ests_table[col]))\n",
    "\n",
    "establishment_counts = pd.Series(col_sums, index = ests_table.drop(0).labels)\n",
    "establishment_counts = establishment_counts.drop(\"N/A\")\n",
    "\n",
    "establishment_counts.plot.barh()\n",
    "plt.title(ests_table.labels[0])\n",
    "plt.show()"
   ]
  },
  {
   "cell_type": "markdown",
   "metadata": {
    "collapsed": true
   },
   "source": [
    "---\n",
    "\n",
    "## Mapping\n",
    "\n",
    "We can also visualize how your responses mapped out over the census tracts. We'll use a library called `folium` to map your observations onto a map of the census tracts, and include popups with your comments and photos."
   ]
  },
  {
   "cell_type": "code",
   "execution_count": 21,
   "metadata": {
    "scrolled": false
   },
   "outputs": [
    {
     "data": {
      "text/html": [
       "\n",
       "        <iframe\n",
       "            width=\"700\"\n",
       "            height=\"400\"\n",
       "            src=\"maps/map1.html\"\n",
       "            frameborder=\"0\"\n",
       "            allowfullscreen\n",
       "        ></iframe>\n",
       "        "
      ],
      "text/plain": [
       "<IPython.lib.display.IFrame at 0x7fb9457e4a20>"
      ]
     },
     "execution_count": 21,
     "metadata": {},
     "output_type": "execute_result"
    }
   ],
   "source": [
    "alameda = geojson.load(open(\"data/alameda-2010.geojson\"))\n",
    "myMap = folium.Map(location=(37.8044, -122.2711), zoom_start=11.4)\n",
    "\n",
    "map_data(myMap, alameda, image_data).save(\"maps/map1.html\")\n",
    "IFrame('maps/map1.html', width=700, height=400)"
   ]
  },
  {
   "cell_type": "markdown",
   "metadata": {},
   "source": [
    "Click around census tracts near yours to see if the other students' observations are similar and see if you can eyeball any trends. Check out other areas on the map and see if there are trends for tracts in specific areas."
   ]
  },
  {
   "cell_type": "markdown",
   "metadata": {},
   "source": [
    "<div class=\"alert alert-info\">\n",
    "\n",
    "**QUESTION:** Do specific characteristics cluster in different areas? Which ones? Which characteristsics seem to cluster together? What types of data do you think will correlate with socioeconomic characteristics like median income, poverty rate, education?  Why?\n",
    "\n",
    "</div>"
   ]
  },
  {
   "cell_type": "markdown",
   "metadata": {},
   "source": [
    "_Type your answer here, replacing this text._"
   ]
  },
  {
   "cell_type": "markdown",
   "metadata": {},
   "source": [
    "---\n",
    "\n",
    "# Part 2: Our Metrics<a id='ourmetrics'></a>\n",
    "\n",
    "Now that you have made some predictions, we can compare our data with socioeconomic data from the U.S. Census for the different tracts we visited and see if we can find evidence to support them. From your data, we can create some point scales that measure different aspects of a neighborhood.\n",
    "\n",
    "For example, we can make a scale called “social disorder” for the first part of your responses. Let's first subeset our data:"
   ]
  },
  {
   "cell_type": "code",
   "execution_count": 22,
   "metadata": {},
   "outputs": [
    {
     "data": {
      "text/html": [
       "<table border=\"1\" class=\"dataframe\">\n",
       "    <thead>\n",
       "        <tr>\n",
       "            <th>Census Tract</th> <th>Amount of Beer/Liquor Bottles (1 to 5 scale)</th> <th>Amount of Cigarette/Cigar Butts (1 to 5 scale)</th> <th>Amount of Condoms (1 to 5 scale)</th> <th>Amount of Garbage (1 to 5 scale)</th> <th>Abandoned Cars (Y?N)</th> <th>Treatment (1 (Friendly) to 5 (Suspicion) scale)</th> <th>Condition of Buildings (1 (Good) to 4 (Poor) scale)</th> <th>Graffiti (Y/N)</th> <th>Fenching (1 (None) to 4 (High mesh) scale)</th> <th>Renovations (Y/N)</th>\n",
       "        </tr>\n",
       "    </thead>\n",
       "    <tbody>\n",
       "        <tr>\n",
       "            <td>4229        </td> <td>2                                           </td> <td>2                                             </td> <td>1                               </td> <td>2                               </td> <td>0                   </td> <td>4                                              </td> <td>2                                                  </td> <td>1             </td> <td>2                                         </td> <td>1                </td>\n",
       "        </tr>\n",
       "        <tr>\n",
       "            <td>4006        </td> <td>1                                           </td> <td>1                                             </td> <td>1                               </td> <td>2                               </td> <td>0                   </td> <td>4                                              </td> <td>2                                                  </td> <td>1             </td> <td>2                                         </td> <td>0                </td>\n",
       "        </tr>\n",
       "        <tr>\n",
       "            <td>4224        </td> <td>3                                           </td> <td>2                                             </td> <td>1                               </td> <td>3                               </td> <td>1                   </td> <td>3                                              </td> <td>2                                                  </td> <td>0             </td> <td>3                                         </td> <td>1                </td>\n",
       "        </tr>\n",
       "        <tr>\n",
       "            <td>4031        </td> <td>1                                           </td> <td>3                                             </td> <td>1                               </td> <td>3                               </td> <td>0                   </td> <td>2                                              </td> <td>2                                                  </td> <td>1             </td> <td>1                                         </td> <td>0                </td>\n",
       "        </tr>\n",
       "        <tr>\n",
       "            <td>4239.01     </td> <td>1                                           </td> <td>1                                             </td> <td>1                               </td> <td>3                               </td> <td>0                   </td> <td>2                                              </td> <td>2                                                  </td> <td>0             </td> <td>1                                         </td> <td>1                </td>\n",
       "        </tr>\n",
       "    </tbody>\n",
       "</table>\n",
       "<p>... (134 rows omitted)</p>"
      ],
      "text/plain": [
       "<IPython.core.display.HTML object>"
      ]
     },
     "metadata": {},
     "output_type": "display_data"
    }
   ],
   "source": [
    "social_disorder = class_data.select(range(1, 12))\n",
    "social_disorder.show(5)"
   ]
  },
  {
   "cell_type": "markdown",
   "metadata": {},
   "source": [
    "Now we'll need to scale the values because all responses were not on the same scale. But for this part, the higher the value the more negative the social disorder was:"
   ]
  },
  {
   "cell_type": "code",
   "execution_count": 23,
   "metadata": {},
   "outputs": [
    {
     "data": {
      "text/html": [
       "<table border=\"1\" class=\"dataframe\">\n",
       "    <thead>\n",
       "        <tr>\n",
       "            <th>Census Tract</th> <th>Amount of Beer/Liquor Bottles (1 to 5 scale)</th> <th>Amount of Cigarette/Cigar Butts (1 to 5 scale)</th> <th>Amount of Condoms (1 to 5 scale)</th> <th>Amount of Garbage (1 to 5 scale)</th> <th>Abandoned Cars (Y?N)</th> <th>Treatment (1 (Friendly) to 5 (Suspicion) scale)</th> <th>Condition of Buildings (1 (Good) to 4 (Poor) scale)</th> <th>Graffiti (Y/N)</th> <th>Fenching (1 (None) to 4 (High mesh) scale)</th> <th>Renovations (Y/N)</th>\n",
       "        </tr>\n",
       "    </thead>\n",
       "    <tbody>\n",
       "        <tr>\n",
       "            <td>4229        </td> <td>0.333333                                    </td> <td>0.25                                          </td> <td>0                               </td> <td>0.333333                        </td> <td>0                   </td> <td>0.75                                           </td> <td>0.333333                                           </td> <td>1             </td> <td>0.333333                                  </td> <td>1                </td>\n",
       "        </tr>\n",
       "        <tr>\n",
       "            <td>4006        </td> <td>0                                           </td> <td>0                                             </td> <td>0                               </td> <td>0.333333                        </td> <td>0                   </td> <td>0.75                                           </td> <td>0.333333                                           </td> <td>1             </td> <td>0.333333                                  </td> <td>0                </td>\n",
       "        </tr>\n",
       "        <tr>\n",
       "            <td>4224        </td> <td>0.666667                                    </td> <td>0.25                                          </td> <td>0                               </td> <td>0.666667                        </td> <td>0.333333            </td> <td>0.5                                            </td> <td>0.333333                                           </td> <td>0             </td> <td>0.666667                                  </td> <td>1                </td>\n",
       "        </tr>\n",
       "        <tr>\n",
       "            <td>4031        </td> <td>0                                           </td> <td>0.5                                           </td> <td>0                               </td> <td>0.666667                        </td> <td>0                   </td> <td>0.25                                           </td> <td>0.333333                                           </td> <td>1             </td> <td>0                                         </td> <td>0                </td>\n",
       "        </tr>\n",
       "        <tr>\n",
       "            <td>4239.01     </td> <td>0                                           </td> <td>0                                             </td> <td>0                               </td> <td>0.666667                        </td> <td>0                   </td> <td>0.25                                           </td> <td>0.333333                                           </td> <td>0             </td> <td>0                                         </td> <td>1                </td>\n",
       "        </tr>\n",
       "    </tbody>\n",
       "</table>\n",
       "<p>... (134 rows omitted)</p>"
      ],
      "text/plain": [
       "<IPython.core.display.HTML object>"
      ]
     },
     "metadata": {},
     "output_type": "display_data"
    }
   ],
   "source": [
    "social_disorder = scale_values(social_disorder, np.arange(1, 11))\n",
    "social_disorder.show(5)"
   ]
  },
  {
   "cell_type": "markdown",
   "metadata": {},
   "source": [
    "Now that our values are scaled, we can take the mean across all observation for a given census tract for a given column, and then take the mean across columns:"
   ]
  },
  {
   "cell_type": "code",
   "execution_count": 24,
   "metadata": {
    "scrolled": false
   },
   "outputs": [
    {
     "data": {
      "text/html": [
       "<table border=\"1\" class=\"dataframe\">\n",
       "    <thead>\n",
       "        <tr>\n",
       "            <th>Timestamp</th> <th>Census Tract</th> <th>Amount of Beer/Liquor Bottles (1 to 5 scale)</th> <th>Amount of Cigarette/Cigar Butts (1 to 5 scale)</th> <th>Amount of Condoms (1 to 5 scale)</th> <th>Amount of Garbage (1 to 5 scale)</th> <th>Abandoned Cars (Y?N)</th> <th>Treatment (1 (Friendly) to 5 (Suspicion) scale)</th> <th>Condition of Buildings (1 (Good) to 4 (Poor) scale)</th> <th>Graffiti (Y/N)</th> <th>Fenching (1 (None) to 4 (High mesh) scale)</th> <th>Renovations (Y/N)</th> <th>Types of Establishments</th> <th>Amount of Trees Linked the Block Fence (1 (Few) to 3 (Most) scale)</th> <th>Public Transporation Available (Y/N)</th> <th>Private Security Visible (Y/N)</th> <th>Police Visible (Y/N)</th>\n",
       "        </tr>\n",
       "    </thead>\n",
       "    <tbody>\n",
       "        <tr>\n",
       "            <td>10/21/2018 22:10:14</td> <td>4229        </td> <td>2                                           </td> <td>2                                             </td> <td>1                               </td> <td>2                               </td> <td>0                   </td> <td>4                                              </td> <td>2                                                  </td> <td>1             </td> <td>2                                         </td> <td>1                </td> <td>Eating places/restaurants, Professional offices (doctor  ...</td> <td>2                                                                 </td> <td>1                                   </td> <td>0                             </td> <td>0                   </td>\n",
       "        </tr>\n",
       "        <tr>\n",
       "            <td>10/21/2018 22:23:08</td> <td>4006        </td> <td>1                                           </td> <td>1                                             </td> <td>1                               </td> <td>2                               </td> <td>0                   </td> <td>4                                              </td> <td>2                                                  </td> <td>1             </td> <td>2                                         </td> <td>0                </td> <td>Liquor stores or Marijuana Dispensaries                     </td> <td>2                                                                 </td> <td>1                                   </td> <td>0                             </td> <td>1                   </td>\n",
       "        </tr>\n",
       "        <tr>\n",
       "            <td>10/22/2018 0:01:58 </td> <td>4224        </td> <td>3                                           </td> <td>2                                             </td> <td>1                               </td> <td>3                               </td> <td>1                   </td> <td>3                                              </td> <td>2                                                  </td> <td>0             </td> <td>3                                         </td> <td>1                </td> <td>Bars and alcoholic beverage services, Eating places/rest ...</td> <td>2                                                                 </td> <td>1                                   </td> <td>0                             </td> <td>0                   </td>\n",
       "        </tr>\n",
       "        <tr>\n",
       "            <td>10/22/2018 0:08:49 </td> <td>4031        </td> <td>1                                           </td> <td>3                                             </td> <td>1                               </td> <td>3                               </td> <td>0                   </td> <td>2                                              </td> <td>2                                                  </td> <td>1             </td> <td>1                                         </td> <td>0                </td> <td>Bodega deli corner-store convenience store, Eating place ...</td> <td>1                                                                 </td> <td>0                                   </td> <td>0                             </td> <td>0                   </td>\n",
       "        </tr>\n",
       "        <tr>\n",
       "            <td>10/22/2018 0:09:49 </td> <td>4239.01     </td> <td>1                                           </td> <td>1                                             </td> <td>1                               </td> <td>3                               </td> <td>0                   </td> <td>2                                              </td> <td>2                                                  </td> <td>0             </td> <td>1                                         </td> <td>1                </td> <td>Bars and alcoholic beverage services, Professional offic ...</td> <td>2                                                                 </td> <td>1                                   </td> <td>1                             </td> <td>0                   </td>\n",
       "        </tr>\n",
       "    </tbody>\n",
       "</table>\n",
       "<p>... (134 rows omitted)</p>"
      ],
      "text/plain": [
       "<IPython.core.display.HTML object>"
      ]
     },
     "metadata": {},
     "output_type": "display_data"
    }
   ],
   "source": [
    "class_data.show(5)"
   ]
  },
  {
   "cell_type": "code",
   "execution_count": 25,
   "metadata": {},
   "outputs": [
    {
     "data": {
      "text/html": [
       "<table border=\"1\" class=\"dataframe\">\n",
       "    <thead>\n",
       "        <tr>\n",
       "            <th>Census Tract</th> <th>Social Disorder</th>\n",
       "        </tr>\n",
       "    </thead>\n",
       "    <tbody>\n",
       "        <tr>\n",
       "            <td>401         </td> <td>36.7702        </td>\n",
       "        </tr>\n",
       "        <tr>\n",
       "            <td>403         </td> <td>36.9152        </td>\n",
       "        </tr>\n",
       "        <tr>\n",
       "            <td>4005        </td> <td>364.389        </td>\n",
       "        </tr>\n",
       "        <tr>\n",
       "            <td>4006        </td> <td>364.395        </td>\n",
       "        </tr>\n",
       "        <tr>\n",
       "            <td>4007        </td> <td>364.582        </td>\n",
       "        </tr>\n",
       "        <tr>\n",
       "            <td>4014        </td> <td>365.332        </td>\n",
       "        </tr>\n",
       "        <tr>\n",
       "            <td>4027        </td> <td>366.461        </td>\n",
       "        </tr>\n",
       "        <tr>\n",
       "            <td>4028        </td> <td>366.421        </td>\n",
       "        </tr>\n",
       "        <tr>\n",
       "            <td>4031        </td> <td>366.715        </td>\n",
       "        </tr>\n",
       "        <tr>\n",
       "            <td>4033        </td> <td>366.931        </td>\n",
       "        </tr>\n",
       "    </tbody>\n",
       "</table>\n",
       "<p>... (14 rows omitted)</p>"
      ],
      "text/plain": [
       "Census Tract | Social Disorder\n",
       "401          | 36.7702\n",
       "403          | 36.9152\n",
       "4005         | 364.389\n",
       "4006         | 364.395\n",
       "4007         | 364.582\n",
       "4014         | 365.332\n",
       "4027         | 366.461\n",
       "4028         | 366.421\n",
       "4031         | 366.715\n",
       "4033         | 366.931\n",
       "... (14 rows omitted)"
      ]
     },
     "execution_count": 25,
     "metadata": {},
     "output_type": "execute_result"
    }
   ],
   "source": [
    "means = social_disorder.group(\"Census Tract\", np.mean).values.mean(axis=1)\n",
    "social_disorder = Table().with_columns(\n",
    "    \"Census Tract\", np.unique(social_disorder.column(\"Census Tract\")),\n",
    "    \"Social Disorder\", means\n",
    ")\n",
    "social_disorder"
   ]
  },
  {
   "cell_type": "markdown",
   "metadata": {},
   "source": [
    "Remember, the higher the value the more negative we perceived the census tract to be.\n",
    "\n",
    "We can do the same for our amenities part:"
   ]
  },
  {
   "cell_type": "code",
   "execution_count": 26,
   "metadata": {},
   "outputs": [
    {
     "data": {
      "text/html": [
       "<table border=\"1\" class=\"dataframe\">\n",
       "    <thead>\n",
       "        <tr>\n",
       "            <th>Types of Establishments</th> <th>Eating places/restaurants</th> <th>Professional offices (doctor dentist lawyer accountant real estate)</th> <th>Liquor stores or Marijuana Dispensaries</th> <th>Bars and alcoholic beverage services</th> <th>Fast food or take-out places</th> <th>Warehouses</th> <th>Bodega deli corner-store convenience store</th> <th>Payday lenders check cashers or pawn shops</th> <th>Supermarkets/grocery stores</th> <th>Manufacturing</th> <th>Community center</th> <th>Playgrounds</th> <th>Gas station</th> <th>nan</th> <th>Banks or credit unions</th> <th>Public library</th> <th>Post office</th> <th>Schools or daycare centers</th> <th>Parks</th> <th>Chain retail stores</th> <th>Auto repair/auto body shop</th> <th>Fire station</th> <th>N/A</th> <th>Census Tract</th> <th>Trees</th>\n",
       "        </tr>\n",
       "    </thead>\n",
       "    <tbody>\n",
       "        <tr>\n",
       "            <td>Eating places/restaurants, Professional offices (doctor  ...</td> <td>1                        </td> <td>1                                                                  </td> <td>0                                      </td> <td>0                                   </td> <td>0                           </td> <td>0         </td> <td>0                                         </td> <td>0                                         </td> <td>0                          </td> <td>0            </td> <td>0               </td> <td>0          </td> <td>0          </td> <td>0   </td> <td>0                     </td> <td>0             </td> <td>0          </td> <td>0                         </td> <td>0    </td> <td>0                  </td> <td>0                         </td> <td>0           </td> <td>0   </td> <td>4229        </td> <td>1    </td>\n",
       "        </tr>\n",
       "        <tr>\n",
       "            <td>Liquor stores or Marijuana Dispensaries                     </td> <td>0                        </td> <td>0                                                                  </td> <td>1                                      </td> <td>0                                   </td> <td>0                           </td> <td>0         </td> <td>0                                         </td> <td>0                                         </td> <td>0                          </td> <td>0            </td> <td>0               </td> <td>0          </td> <td>0          </td> <td>0   </td> <td>0                     </td> <td>0             </td> <td>0          </td> <td>0                         </td> <td>0    </td> <td>0                  </td> <td>0                         </td> <td>0           </td> <td>0   </td> <td>4006        </td> <td>1    </td>\n",
       "        </tr>\n",
       "        <tr>\n",
       "            <td>Bars and alcoholic beverage services, Eating places/rest ...</td> <td>1                        </td> <td>0                                                                  </td> <td>1                                      </td> <td>1                                   </td> <td>1                           </td> <td>1         </td> <td>0                                         </td> <td>0                                         </td> <td>0                          </td> <td>0            </td> <td>0               </td> <td>0          </td> <td>0          </td> <td>0   </td> <td>0                     </td> <td>0             </td> <td>0          </td> <td>0                         </td> <td>0    </td> <td>0                  </td> <td>0                         </td> <td>0           </td> <td>0   </td> <td>4224        </td> <td>1    </td>\n",
       "        </tr>\n",
       "        <tr>\n",
       "            <td>Bodega deli corner-store convenience store, Eating place ...</td> <td>1                        </td> <td>0                                                                  </td> <td>0                                      </td> <td>0                                   </td> <td>0                           </td> <td>0         </td> <td>1                                         </td> <td>1                                         </td> <td>1                          </td> <td>0            </td> <td>0               </td> <td>0          </td> <td>0          </td> <td>0   </td> <td>0                     </td> <td>0             </td> <td>0          </td> <td>0                         </td> <td>0    </td> <td>0                  </td> <td>0                         </td> <td>0           </td> <td>0   </td> <td>4031        </td> <td>0    </td>\n",
       "        </tr>\n",
       "        <tr>\n",
       "            <td>Bars and alcoholic beverage services, Professional offic ...</td> <td>0                        </td> <td>1                                                                  </td> <td>0                                      </td> <td>1                                   </td> <td>0                           </td> <td>0         </td> <td>0                                         </td> <td>0                                         </td> <td>0                          </td> <td>0            </td> <td>0               </td> <td>0          </td> <td>0          </td> <td>0   </td> <td>0                     </td> <td>0             </td> <td>0          </td> <td>0                         </td> <td>0    </td> <td>0                  </td> <td>0                         </td> <td>0           </td> <td>0   </td> <td>4239.01     </td> <td>1    </td>\n",
       "        </tr>\n",
       "    </tbody>\n",
       "</table>\n",
       "<p>... (134 rows omitted)</p>"
      ],
      "text/plain": [
       "<IPython.core.display.HTML object>"
      ]
     },
     "metadata": {},
     "output_type": "display_data"
    }
   ],
   "source": [
    "amenities = ests_table.with_columns(\n",
    "    \"Census Tract\", class_data.column(\"Census Tract\"),\n",
    "    \"Trees\", class_data.column(\"Amount of Trees Linked the Block Fence (1 (Few) to 3 (Most) scale)\")\n",
    ")\n",
    "amenities[\"Trees\"] = [(0, 1)[value > 1] for value in amenities[\"Trees\"]]\n",
    "amenities.show(5)"
   ]
  },
  {
   "cell_type": "markdown",
   "metadata": {},
   "source": [
    "Certain amenities are positive and indicate desirable conditions in a neighborhood. These characteristics include things like School or Daycares, and supermarkets. Let's create a table containing only positive amenities"
   ]
  },
  {
   "cell_type": "code",
   "execution_count": 27,
   "metadata": {},
   "outputs": [
    {
     "data": {
      "text/html": [
       "<table border=\"1\" class=\"dataframe\">\n",
       "    <thead>\n",
       "        <tr>\n",
       "            <th>Census Tract</th> <th>Banks or credit unions</th> <th>Chain retail stores</th> <th>Community center</th> <th>Eating places/restaurants</th> <th>Fire station</th> <th>Parks</th> <th>Playgrounds</th> <th>Public library</th> <th>Post office</th> <th>Professional offices (doctor dentist lawyer accountant real estate)</th> <th>Schools or daycare centers</th> <th>Supermarkets/grocery stores</th> <th>Trees</th>\n",
       "        </tr>\n",
       "    </thead>\n",
       "    <tbody>\n",
       "        <tr>\n",
       "            <td>4229        </td> <td>0                     </td> <td>0                  </td> <td>0               </td> <td>1                        </td> <td>0           </td> <td>0    </td> <td>0          </td> <td>0             </td> <td>0          </td> <td>1                                                                  </td> <td>0                         </td> <td>0                          </td> <td>1    </td>\n",
       "        </tr>\n",
       "        <tr>\n",
       "            <td>4006        </td> <td>0                     </td> <td>0                  </td> <td>0               </td> <td>0                        </td> <td>0           </td> <td>0    </td> <td>0          </td> <td>0             </td> <td>0          </td> <td>0                                                                  </td> <td>0                         </td> <td>0                          </td> <td>1    </td>\n",
       "        </tr>\n",
       "        <tr>\n",
       "            <td>4224        </td> <td>0                     </td> <td>0                  </td> <td>0               </td> <td>1                        </td> <td>0           </td> <td>0    </td> <td>0          </td> <td>0             </td> <td>0          </td> <td>0                                                                  </td> <td>0                         </td> <td>0                          </td> <td>1    </td>\n",
       "        </tr>\n",
       "        <tr>\n",
       "            <td>4031        </td> <td>0                     </td> <td>0                  </td> <td>0               </td> <td>1                        </td> <td>0           </td> <td>0    </td> <td>0          </td> <td>0             </td> <td>0          </td> <td>0                                                                  </td> <td>0                         </td> <td>1                          </td> <td>0    </td>\n",
       "        </tr>\n",
       "        <tr>\n",
       "            <td>4239.01     </td> <td>0                     </td> <td>0                  </td> <td>0               </td> <td>0                        </td> <td>0           </td> <td>0    </td> <td>0          </td> <td>0             </td> <td>0          </td> <td>1                                                                  </td> <td>0                         </td> <td>0                          </td> <td>1    </td>\n",
       "        </tr>\n",
       "    </tbody>\n",
       "</table>\n",
       "<p>... (134 rows omitted)</p>"
      ],
      "text/plain": [
       "<IPython.core.display.HTML object>"
      ]
     },
     "metadata": {},
     "output_type": "display_data"
    }
   ],
   "source": [
    "positive_amenities = amenities.select(\n",
    "    'Census Tract',\n",
    "    'Banks or credit unions',\n",
    "    'Chain retail stores',\n",
    "    'Community center',\n",
    "    'Eating places/restaurants',\n",
    "    'Fire station',\n",
    "    'Parks',\n",
    "    'Playgrounds',\n",
    "    'Public library',\n",
    "    'Post office',\n",
    "    'Professional offices (doctor dentist lawyer accountant real estate)',\n",
    "    'Schools or daycare centers',\n",
    "    'Supermarkets/grocery stores',\n",
    "    'Trees'\n",
    ")\n",
    "positive_amenities.show(5)"
   ]
  },
  {
   "cell_type": "markdown",
   "metadata": {},
   "source": [
    "To make positive amenities comparable between census tracts, we can find the mean of positive amenities for each census tract. A higher value indicates a more positive census tract"
   ]
  },
  {
   "cell_type": "code",
   "execution_count": 28,
   "metadata": {},
   "outputs": [
    {
     "data": {
      "text/html": [
       "<table border=\"1\" class=\"dataframe\">\n",
       "    <thead>\n",
       "        <tr>\n",
       "            <th>Census Tract</th> <th>Positive Amenities</th>\n",
       "        </tr>\n",
       "    </thead>\n",
       "    <tbody>\n",
       "        <tr>\n",
       "            <td>401         </td> <td>28.7143           </td>\n",
       "        </tr>\n",
       "        <tr>\n",
       "            <td>403         </td> <td>29.1              </td>\n",
       "        </tr>\n",
       "        <tr>\n",
       "            <td>4005        </td> <td>286.171           </td>\n",
       "        </tr>\n",
       "        <tr>\n",
       "            <td>4006        </td> <td>286.274           </td>\n",
       "        </tr>\n",
       "        <tr>\n",
       "            <td>4007        </td> <td>286.327           </td>\n",
       "        </tr>\n",
       "        <tr>\n",
       "            <td>4014        </td> <td>286.837           </td>\n",
       "        </tr>\n",
       "        <tr>\n",
       "            <td>4027        </td> <td>287.774           </td>\n",
       "        </tr>\n",
       "        <tr>\n",
       "            <td>4028        </td> <td>287.843           </td>\n",
       "        </tr>\n",
       "        <tr>\n",
       "            <td>4031        </td> <td>288.107           </td>\n",
       "        </tr>\n",
       "        <tr>\n",
       "            <td>4033        </td> <td>288.31            </td>\n",
       "        </tr>\n",
       "    </tbody>\n",
       "</table>\n",
       "<p>... (14 rows omitted)</p>"
      ],
      "text/plain": [
       "Census Tract | Positive Amenities\n",
       "401          | 28.7143\n",
       "403          | 29.1\n",
       "4005         | 286.171\n",
       "4006         | 286.274\n",
       "4007         | 286.327\n",
       "4014         | 286.837\n",
       "4027         | 287.774\n",
       "4028         | 287.843\n",
       "4031         | 288.107\n",
       "4033         | 288.31\n",
       "... (14 rows omitted)"
      ]
     },
     "execution_count": 28,
     "metadata": {},
     "output_type": "execute_result"
    }
   ],
   "source": [
    "means = positive_amenities.group(\"Census Tract\", np.mean).values.mean(axis=1)\n",
    "positive_amenities = Table().with_columns(\n",
    "    \"Census Tract\", np.unique(positive_amenities.column(\"Census Tract\")),\n",
    "    \"Positive Amenities\", means\n",
    ")\n",
    "positive_amenities"
   ]
  },
  {
   "cell_type": "markdown",
   "metadata": {},
   "source": [
    "Certain amenities are negative and indicate undesirable conditions in a neighborhood. These characteristics include things like Bars or Fast Food Restaurants. Let's create a Data Frame with only negative amenities"
   ]
  },
  {
   "cell_type": "code",
   "execution_count": 29,
   "metadata": {},
   "outputs": [
    {
     "data": {
      "text/html": [
       "<table border=\"1\" class=\"dataframe\">\n",
       "    <thead>\n",
       "        <tr>\n",
       "            <th>Census Tract</th> <th>Auto repair/auto body shop</th> <th>Bars and alcoholic beverage services</th> <th>Bodega deli corner-store convenience store</th> <th>Fast food or take-out places</th> <th>Gas station</th> <th>Liquor stores or Marijuana Dispensaries</th> <th>Manufacturing</th> <th>Payday lenders check cashers or pawn shops</th> <th>Warehouses</th>\n",
       "        </tr>\n",
       "    </thead>\n",
       "    <tbody>\n",
       "        <tr>\n",
       "            <td>4229        </td> <td>0                         </td> <td>0                                   </td> <td>0                                         </td> <td>0                           </td> <td>0          </td> <td>0                                      </td> <td>0            </td> <td>0                                         </td> <td>0         </td>\n",
       "        </tr>\n",
       "        <tr>\n",
       "            <td>4006        </td> <td>0                         </td> <td>0                                   </td> <td>0                                         </td> <td>0                           </td> <td>0          </td> <td>1                                      </td> <td>0            </td> <td>0                                         </td> <td>0         </td>\n",
       "        </tr>\n",
       "        <tr>\n",
       "            <td>4224        </td> <td>0                         </td> <td>1                                   </td> <td>0                                         </td> <td>1                           </td> <td>0          </td> <td>1                                      </td> <td>0            </td> <td>0                                         </td> <td>1         </td>\n",
       "        </tr>\n",
       "        <tr>\n",
       "            <td>4031        </td> <td>0                         </td> <td>0                                   </td> <td>1                                         </td> <td>0                           </td> <td>0          </td> <td>0                                      </td> <td>0            </td> <td>1                                         </td> <td>0         </td>\n",
       "        </tr>\n",
       "        <tr>\n",
       "            <td>4239.01     </td> <td>0                         </td> <td>1                                   </td> <td>0                                         </td> <td>0                           </td> <td>0          </td> <td>0                                      </td> <td>0            </td> <td>0                                         </td> <td>0         </td>\n",
       "        </tr>\n",
       "    </tbody>\n",
       "</table>\n",
       "<p>... (134 rows omitted)</p>"
      ],
      "text/plain": [
       "<IPython.core.display.HTML object>"
      ]
     },
     "metadata": {},
     "output_type": "display_data"
    }
   ],
   "source": [
    "negative_amenities = amenities.select(\n",
    "    'Census Tract',\n",
    "    'Auto repair/auto body shop',\n",
    "    'Bars and alcoholic beverage services',\n",
    "    'Bodega deli corner-store convenience store',\n",
    "    'Fast food or take-out places',\n",
    "    'Gas station',\n",
    "    'Liquor stores or Marijuana Dispensaries',\n",
    "    'Manufacturing' ,\n",
    "    'Payday lenders check cashers or pawn shops',\n",
    "    'Warehouses'\n",
    ")\n",
    "negative_amenities.show(5)"
   ]
  },
  {
   "cell_type": "markdown",
   "metadata": {},
   "source": [
    "To make negative amenities comparable between census tracts, we can find the mean of negative amenities for each census tract. A higher value indicates a more negative census tract"
   ]
  },
  {
   "cell_type": "code",
   "execution_count": 30,
   "metadata": {},
   "outputs": [
    {
     "data": {
      "text/html": [
       "<table border=\"1\" class=\"dataframe\">\n",
       "    <thead>\n",
       "        <tr>\n",
       "            <th>Census Tract</th> <th>Negative Amenities</th>\n",
       "        </tr>\n",
       "    </thead>\n",
       "    <tbody>\n",
       "        <tr>\n",
       "            <td>401         </td> <td>40.1667           </td>\n",
       "        </tr>\n",
       "        <tr>\n",
       "            <td>403         </td> <td>40.34             </td>\n",
       "        </tr>\n",
       "        <tr>\n",
       "            <td>4005        </td> <td>400.52            </td>\n",
       "        </tr>\n",
       "        <tr>\n",
       "            <td>4006        </td> <td>400.65            </td>\n",
       "        </tr>\n",
       "        <tr>\n",
       "            <td>4007        </td> <td>400.8             </td>\n",
       "        </tr>\n",
       "        <tr>\n",
       "            <td>4014        </td> <td>401.471           </td>\n",
       "        </tr>\n",
       "        <tr>\n",
       "            <td>4027        </td> <td>402.867           </td>\n",
       "        </tr>\n",
       "        <tr>\n",
       "            <td>4028        </td> <td>402.86            </td>\n",
       "        </tr>\n",
       "        <tr>\n",
       "            <td>4031        </td> <td>403.2             </td>\n",
       "        </tr>\n",
       "        <tr>\n",
       "            <td>4033        </td> <td>403.417           </td>\n",
       "        </tr>\n",
       "    </tbody>\n",
       "</table>\n",
       "<p>... (14 rows omitted)</p>"
      ],
      "text/plain": [
       "Census Tract | Negative Amenities\n",
       "401          | 40.1667\n",
       "403          | 40.34\n",
       "4005         | 400.52\n",
       "4006         | 400.65\n",
       "4007         | 400.8\n",
       "4014         | 401.471\n",
       "4027         | 402.867\n",
       "4028         | 402.86\n",
       "4031         | 403.2\n",
       "4033         | 403.417\n",
       "... (14 rows omitted)"
      ]
     },
     "execution_count": 30,
     "metadata": {},
     "output_type": "execute_result"
    }
   ],
   "source": [
    "means = negative_amenities.group(\"Census Tract\", np.mean).values.mean(axis=1)\n",
    "negative_amenities = Table().with_columns(\n",
    "    \"Census Tract\", np.unique(negative_amenities.column(\"Census Tract\")),\n",
    "    \"Negative Amenities\", means\n",
    ")\n",
    "negative_amenities"
   ]
  },
  {
   "cell_type": "markdown",
   "metadata": {},
   "source": [
    "---\n",
    "\n",
    "# Part 3: Census Data<a id='census'></a>\n",
    "\n",
    "Let's read in some data for census tracts from the [American FactFinder](https://factfinder.census.gov/faces/nav/jsf/pages/index.xhtml):"
   ]
  },
  {
   "cell_type": "code",
   "execution_count": 31,
   "metadata": {},
   "outputs": [
    {
     "data": {
      "text/html": [
       "<table border=\"1\" class=\"dataframe\">\n",
       "    <thead>\n",
       "        <tr>\n",
       "            <th>Census Tract</th> <th>Unemployment %</th> <th>Household Median Income</th> <th>Bachelor's Degree or higher %</th> <th>% families with income under poverty line</th> <th>% families with public assistance income </th> <th>median house value</th> <th>% white</th> <th>% black</th> <th>% asian</th> <th>% hispanic/latino</th> <th>% foreign born</th> <th>% single mother family</th>\n",
       "        </tr>\n",
       "    </thead>\n",
       "    <tbody>\n",
       "        <tr>\n",
       "            <td>4005        </td> <td>6.5           </td> <td>76038                  </td> <td>61.9                         </td> <td>6.1                                      </td> <td>4.5                                      </td> <td>611300            </td> <td>51.7   </td> <td>24.3   </td> <td>4.8    </td> <td>14.2             </td> <td>16.8          </td> <td>27                    </td>\n",
       "        </tr>\n",
       "        <tr>\n",
       "            <td>4006        </td> <td>14.9          </td> <td>60804                  </td> <td>55.3                         </td> <td>3                                        </td> <td>3.6                                      </td> <td>466700            </td> <td>34.8   </td> <td>38.7   </td> <td>6.5    </td> <td>12.3             </td> <td>13            </td> <td>25                    </td>\n",
       "        </tr>\n",
       "        <tr>\n",
       "            <td>4007        </td> <td>10.5          </td> <td>39614                  </td> <td>40.9                         </td> <td>14.5                                     </td> <td>1.2                                      </td> <td>572300            </td> <td>35.7   </td> <td>40.3   </td> <td>2.9    </td> <td>13               </td> <td>11            </td> <td>40                    </td>\n",
       "        </tr>\n",
       "        <tr>\n",
       "            <td>4010        </td> <td>9.2           </td> <td>44766                  </td> <td>33.2                         </td> <td>21.3                                     </td> <td>7.1                                      </td> <td>358100            </td> <td>31.4   </td> <td>38.5   </td> <td>4.3    </td> <td>19.6             </td> <td>12.2          </td> <td>41                    </td>\n",
       "        </tr>\n",
       "        <tr>\n",
       "            <td>4014        </td> <td>16.2          </td> <td>28532                  </td> <td>18.6                         </td> <td>34.6                                     </td> <td>11.8                                     </td> <td>333700            </td> <td>13.8   </td> <td>45.1   </td> <td>10.9   </td> <td>23.6             </td> <td>23.4          </td> <td>36.8                  </td>\n",
       "        </tr>\n",
       "        <tr>\n",
       "            <td>4027        </td> <td>8.3           </td> <td>40169                  </td> <td>28.9                         </td> <td>36.6                                     </td> <td>13.4                                     </td> <td>364300            </td> <td>27.3   </td> <td>45.7   </td> <td>8.2    </td> <td>16.4             </td> <td>11            </td> <td>41.8                  </td>\n",
       "        </tr>\n",
       "        <tr>\n",
       "            <td>4028        </td> <td>14.9          </td> <td>17278                  </td> <td>33.8                         </td> <td>27.1                                     </td> <td>6.3                                      </td> <td>517600            </td> <td>30.8   </td> <td>40.7   </td> <td>15.9   </td> <td>8                </td> <td>29            </td> <td>27                    </td>\n",
       "        </tr>\n",
       "        <tr>\n",
       "            <td>4030        </td> <td>12.6          </td> <td>17609                  </td> <td>24.6                         </td> <td>14.3                                     </td> <td>1.1                                      </td> <td>344700            </td> <td>6.8    </td> <td>2.4    </td> <td>85.2   </td> <td>2.5              </td> <td>68.8          </td> <td>17.8                  </td>\n",
       "        </tr>\n",
       "        <tr>\n",
       "            <td>4031        </td> <td>7             </td> <td>59250                  </td> <td>38.5                         </td> <td>25.4                                     </td> <td>0.9                                      </td> <td>386000            </td> <td>25.1   </td> <td>17.5   </td> <td>38.1   </td> <td>13.4             </td> <td>36.9          </td> <td>11.8                  </td>\n",
       "        </tr>\n",
       "        <tr>\n",
       "            <td>4033        </td> <td>8.9           </td> <td>57064                  </td> <td>46.5                         </td> <td>19.9                                     </td> <td>4.7                                      </td> <td>338300            </td> <td>26.2   </td> <td>9      </td> <td>54.9   </td> <td>4.7              </td> <td>52.5          </td> <td>24.1                  </td>\n",
       "        </tr>\n",
       "    </tbody>\n",
       "</table>\n",
       "<p>... (14 rows omitted)</p>"
      ],
      "text/plain": [
       "Census Tract | Unemployment % | Household Median Income | Bachelor's Degree or higher % | % families with income under poverty line | % families with public assistance income  | median house value | % white | % black | % asian | % hispanic/latino | % foreign born | % single mother family\n",
       "4005         | 6.5            | 76038                   | 61.9                          | 6.1                                       | 4.5                                       | 611300             | 51.7    | 24.3    | 4.8     | 14.2              | 16.8           | 27\n",
       "4006         | 14.9           | 60804                   | 55.3                          | 3                                         | 3.6                                       | 466700             | 34.8    | 38.7    | 6.5     | 12.3              | 13             | 25\n",
       "4007         | 10.5           | 39614                   | 40.9                          | 14.5                                      | 1.2                                       | 572300             | 35.7    | 40.3    | 2.9     | 13                | 11             | 40\n",
       "4010         | 9.2            | 44766                   | 33.2                          | 21.3                                      | 7.1                                       | 358100             | 31.4    | 38.5    | 4.3     | 19.6              | 12.2           | 41\n",
       "4014         | 16.2           | 28532                   | 18.6                          | 34.6                                      | 11.8                                      | 333700             | 13.8    | 45.1    | 10.9    | 23.6              | 23.4           | 36.8\n",
       "4027         | 8.3            | 40169                   | 28.9                          | 36.6                                      | 13.4                                      | 364300             | 27.3    | 45.7    | 8.2     | 16.4              | 11             | 41.8\n",
       "4028         | 14.9           | 17278                   | 33.8                          | 27.1                                      | 6.3                                       | 517600             | 30.8    | 40.7    | 15.9    | 8                 | 29             | 27\n",
       "4030         | 12.6           | 17609                   | 24.6                          | 14.3                                      | 1.1                                       | 344700             | 6.8     | 2.4     | 85.2    | 2.5               | 68.8           | 17.8\n",
       "4031         | 7              | 59250                   | 38.5                          | 25.4                                      | 0.9                                       | 386000             | 25.1    | 17.5    | 38.1    | 13.4              | 36.9           | 11.8\n",
       "4033         | 8.9            | 57064                   | 46.5                          | 19.9                                      | 4.7                                       | 338300             | 26.2    | 9       | 54.9    | 4.7               | 52.5           | 24.1\n",
       "... (14 rows omitted)"
      ]
     },
     "execution_count": 31,
     "metadata": {},
     "output_type": "execute_result"
    }
   ],
   "source": [
    "official_data = Table.read_table(\"data/merged-census.csv\")\n",
    "official_data"
   ]
  },
  {
   "cell_type": "markdown",
   "metadata": {},
   "source": [
    "We can add our columns to this table to put it all in one place:"
   ]
  },
  {
   "cell_type": "code",
   "execution_count": 32,
   "metadata": {},
   "outputs": [
    {
     "data": {
      "text/html": [
       "<table border=\"1\" class=\"dataframe\">\n",
       "    <thead>\n",
       "        <tr>\n",
       "            <th>Census Tract</th> <th>Unemployment %</th> <th>Household Median Income</th> <th>Bachelor's Degree or higher %</th> <th>% families with income under poverty line</th> <th>% families with public assistance income </th> <th>median house value</th> <th>% white</th> <th>% black</th> <th>% asian</th> <th>% hispanic/latino</th> <th>% foreign born</th> <th>% single mother family</th> <th>Social Disorder</th> <th>Positive Amenities</th> <th>Negative Amenities</th>\n",
       "        </tr>\n",
       "    </thead>\n",
       "    <tbody>\n",
       "        <tr>\n",
       "            <td>4005        </td> <td>6.5           </td> <td>76038                  </td> <td>61.9                         </td> <td>6.1                                      </td> <td>4.5                                      </td> <td>611300            </td> <td>51.7   </td> <td>24.3   </td> <td>4.8    </td> <td>14.2             </td> <td>16.8          </td> <td>27                    </td> <td>364.389        </td> <td>286.171           </td> <td>400.52            </td>\n",
       "        </tr>\n",
       "        <tr>\n",
       "            <td>4006        </td> <td>14.9          </td> <td>60804                  </td> <td>55.3                         </td> <td>3                                        </td> <td>3.6                                      </td> <td>466700            </td> <td>34.8   </td> <td>38.7   </td> <td>6.5    </td> <td>12.3             </td> <td>13            </td> <td>25                    </td> <td>364.395        </td> <td>286.274           </td> <td>400.65            </td>\n",
       "        </tr>\n",
       "        <tr>\n",
       "            <td>4007        </td> <td>10.5          </td> <td>39614                  </td> <td>40.9                         </td> <td>14.5                                     </td> <td>1.2                                      </td> <td>572300            </td> <td>35.7   </td> <td>40.3   </td> <td>2.9    </td> <td>13               </td> <td>11            </td> <td>40                    </td> <td>364.582        </td> <td>286.327           </td> <td>400.8             </td>\n",
       "        </tr>\n",
       "        <tr>\n",
       "            <td>4014        </td> <td>16.2          </td> <td>28532                  </td> <td>18.6                         </td> <td>34.6                                     </td> <td>11.8                                     </td> <td>333700            </td> <td>13.8   </td> <td>45.1   </td> <td>10.9   </td> <td>23.6             </td> <td>23.4          </td> <td>36.8                  </td> <td>365.332        </td> <td>286.837           </td> <td>401.471           </td>\n",
       "        </tr>\n",
       "        <tr>\n",
       "            <td>4027        </td> <td>8.3           </td> <td>40169                  </td> <td>28.9                         </td> <td>36.6                                     </td> <td>13.4                                     </td> <td>364300            </td> <td>27.3   </td> <td>45.7   </td> <td>8.2    </td> <td>16.4             </td> <td>11            </td> <td>41.8                  </td> <td>366.461        </td> <td>287.774           </td> <td>402.867           </td>\n",
       "        </tr>\n",
       "        <tr>\n",
       "            <td>4028        </td> <td>14.9          </td> <td>17278                  </td> <td>33.8                         </td> <td>27.1                                     </td> <td>6.3                                      </td> <td>517600            </td> <td>30.8   </td> <td>40.7   </td> <td>15.9   </td> <td>8                </td> <td>29            </td> <td>27                    </td> <td>366.421        </td> <td>287.843           </td> <td>402.86            </td>\n",
       "        </tr>\n",
       "        <tr>\n",
       "            <td>4031        </td> <td>7             </td> <td>59250                  </td> <td>38.5                         </td> <td>25.4                                     </td> <td>0.9                                      </td> <td>386000            </td> <td>25.1   </td> <td>17.5   </td> <td>38.1   </td> <td>13.4             </td> <td>36.9          </td> <td>11.8                  </td> <td>366.715        </td> <td>288.107           </td> <td>403.2             </td>\n",
       "        </tr>\n",
       "        <tr>\n",
       "            <td>4033        </td> <td>8.9           </td> <td>57064                  </td> <td>46.5                         </td> <td>19.9                                     </td> <td>4.7                                      </td> <td>338300            </td> <td>26.2   </td> <td>9      </td> <td>54.9   </td> <td>4.7              </td> <td>52.5          </td> <td>24.1                  </td> <td>366.931        </td> <td>288.31            </td> <td>403.417           </td>\n",
       "        </tr>\n",
       "        <tr>\n",
       "            <td>4201        </td> <td>8             </td> <td>117083                 </td> <td>75.9                         </td> <td>2                                        </td> <td>0                                        </td> <td>806800            </td> <td>66     </td> <td>2.9    </td> <td>15.2   </td> <td>9.3              </td> <td>19.1          </td> <td>18.5                  </td> <td>382.043        </td> <td>300.235           </td> <td>420.1             </td>\n",
       "        </tr>\n",
       "        <tr>\n",
       "            <td>4202        </td> <td>8.9           </td> <td>82206                  </td> <td>69.4                         </td> <td>7.6                                      </td> <td>1                                        </td> <td>714600            </td> <td>44     </td> <td>7.8    </td> <td>25.4   </td> <td>13.7             </td> <td>26.1          </td> <td>25.9                  </td> <td>382.107        </td> <td>300.316           </td> <td>420.257           </td>\n",
       "        </tr>\n",
       "    </tbody>\n",
       "</table>\n",
       "<p>... (12 rows omitted)</p>"
      ],
      "text/plain": [
       "Census Tract | Unemployment % | Household Median Income | Bachelor's Degree or higher % | % families with income under poverty line | % families with public assistance income  | median house value | % white | % black | % asian | % hispanic/latino | % foreign born | % single mother family | Social Disorder | Positive Amenities | Negative Amenities\n",
       "4005         | 6.5            | 76038                   | 61.9                          | 6.1                                       | 4.5                                       | 611300             | 51.7    | 24.3    | 4.8     | 14.2              | 16.8           | 27                     | 364.389         | 286.171            | 400.52\n",
       "4006         | 14.9           | 60804                   | 55.3                          | 3                                         | 3.6                                       | 466700             | 34.8    | 38.7    | 6.5     | 12.3              | 13             | 25                     | 364.395         | 286.274            | 400.65\n",
       "4007         | 10.5           | 39614                   | 40.9                          | 14.5                                      | 1.2                                       | 572300             | 35.7    | 40.3    | 2.9     | 13                | 11             | 40                     | 364.582         | 286.327            | 400.8\n",
       "4014         | 16.2           | 28532                   | 18.6                          | 34.6                                      | 11.8                                      | 333700             | 13.8    | 45.1    | 10.9    | 23.6              | 23.4           | 36.8                   | 365.332         | 286.837            | 401.471\n",
       "4027         | 8.3            | 40169                   | 28.9                          | 36.6                                      | 13.4                                      | 364300             | 27.3    | 45.7    | 8.2     | 16.4              | 11             | 41.8                   | 366.461         | 287.774            | 402.867\n",
       "4028         | 14.9           | 17278                   | 33.8                          | 27.1                                      | 6.3                                       | 517600             | 30.8    | 40.7    | 15.9    | 8                 | 29             | 27                     | 366.421         | 287.843            | 402.86\n",
       "4031         | 7              | 59250                   | 38.5                          | 25.4                                      | 0.9                                       | 386000             | 25.1    | 17.5    | 38.1    | 13.4              | 36.9           | 11.8                   | 366.715         | 288.107            | 403.2\n",
       "4033         | 8.9            | 57064                   | 46.5                          | 19.9                                      | 4.7                                       | 338300             | 26.2    | 9       | 54.9    | 4.7               | 52.5           | 24.1                   | 366.931         | 288.31             | 403.417\n",
       "4201         | 8              | 117083                  | 75.9                          | 2                                         | 0                                         | 806800             | 66      | 2.9     | 15.2    | 9.3               | 19.1           | 18.5                   | 382.043         | 300.235            | 420.1\n",
       "4202         | 8.9            | 82206                   | 69.4                          | 7.6                                       | 1                                         | 714600             | 44      | 7.8     | 25.4    | 13.7              | 26.1           | 25.9                   | 382.107         | 300.316            | 420.257\n",
       "... (12 rows omitted)"
      ]
     },
     "execution_count": 32,
     "metadata": {},
     "output_type": "execute_result"
    }
   ],
   "source": [
    "joined_data = (official_data\n",
    "               .join(\"Census Tract\", social_disorder)\n",
    "               .join(\"Census Tract\", positive_amenities)\n",
    "               .join(\"Census Tract\", negative_amenities)\n",
    "              )\n",
    "joined_data"
   ]
  },
  {
   "cell_type": "code",
   "execution_count": 33,
   "metadata": {
    "scrolled": true
   },
   "outputs": [
    {
     "data": {
      "text/html": [
       "<table border=\"1\" class=\"dataframe\">\n",
       "    <thead>\n",
       "        <tr>\n",
       "            <th>Census Tract</th> <th>Unemployment %</th> <th>Household Median Income</th> <th>Bachelor's Degree or higher %</th> <th>% families with income under poverty line</th> <th>% families with public assistance income </th> <th>median house value</th> <th>% white</th> <th>% black</th> <th>% asian</th> <th>% hispanic/latino</th> <th>% foreign born</th> <th>% single mother family</th> <th>Social Disorder</th> <th>Positive Amenities</th> <th>Negative Amenities</th>\n",
       "        </tr>\n",
       "    </thead>\n",
       "    <tbody>\n",
       "        <tr>\n",
       "            <td>4005.0      </td> <td>6.5           </td> <td>76038                  </td> <td>61.9                         </td> <td>6.1                                      </td> <td>4.5                                      </td> <td>611300            </td> <td>51.7   </td> <td>24.3   </td> <td>4.8    </td> <td>14.2             </td> <td>16.8          </td> <td>27                    </td> <td>364.389        </td> <td>286.171           </td> <td>400.52            </td>\n",
       "        </tr>\n",
       "        <tr>\n",
       "            <td>4006.0      </td> <td>14.9          </td> <td>60804                  </td> <td>55.3                         </td> <td>3                                        </td> <td>3.6                                      </td> <td>466700            </td> <td>34.8   </td> <td>38.7   </td> <td>6.5    </td> <td>12.3             </td> <td>13            </td> <td>25                    </td> <td>364.395        </td> <td>286.274           </td> <td>400.65            </td>\n",
       "        </tr>\n",
       "        <tr>\n",
       "            <td>4007.0      </td> <td>10.5          </td> <td>39614                  </td> <td>40.9                         </td> <td>14.5                                     </td> <td>1.2                                      </td> <td>572300            </td> <td>35.7   </td> <td>40.3   </td> <td>2.9    </td> <td>13               </td> <td>11            </td> <td>40                    </td> <td>364.582        </td> <td>286.327           </td> <td>400.8             </td>\n",
       "        </tr>\n",
       "        <tr>\n",
       "            <td>4014.0      </td> <td>16.2          </td> <td>28532                  </td> <td>18.6                         </td> <td>34.6                                     </td> <td>11.8                                     </td> <td>333700            </td> <td>13.8   </td> <td>45.1   </td> <td>10.9   </td> <td>23.6             </td> <td>23.4          </td> <td>36.8                  </td> <td>365.332        </td> <td>286.837           </td> <td>401.471           </td>\n",
       "        </tr>\n",
       "        <tr>\n",
       "            <td>4027.0      </td> <td>8.3           </td> <td>40169                  </td> <td>28.9                         </td> <td>36.6                                     </td> <td>13.4                                     </td> <td>364300            </td> <td>27.3   </td> <td>45.7   </td> <td>8.2    </td> <td>16.4             </td> <td>11            </td> <td>41.8                  </td> <td>366.461        </td> <td>287.774           </td> <td>402.867           </td>\n",
       "        </tr>\n",
       "    </tbody>\n",
       "</table>\n",
       "<p>... (378 rows omitted)</p>"
      ],
      "text/plain": [
       "<IPython.core.display.HTML object>"
      ]
     },
     "metadata": {},
     "output_type": "display_data"
    }
   ],
   "source": [
    "# add zeros for all features in tracts for which we did not collect data\n",
    "unobserved_tracts = [alameda[\"features\"][x]['properties']['name10'] for x in range(len(alameda[\"features\"])) \\\n",
    "                     if alameda[\"features\"][x]['properties']['name10'] not in list(joined_data[\"Census Tract\"])]\n",
    "\n",
    "unobserved_data = Table().with_column(\"Census Tract\", unobserved_tracts)\n",
    "for col in joined_data.labels[1:]:\n",
    "    unobserved_data[col] = np.zeros(len(unobserved_tracts))\n",
    "\n",
    "joined_data = joined_data.append(unobserved_data)\n",
    "joined_data.show(5)"
   ]
  },
  {
   "cell_type": "markdown",
   "metadata": {},
   "source": [
    "---\n",
    "\n",
    "## Mapping Exploration\n",
    "\n",
    "Before we quantify the relationship between the census data and our own metrics, let's do some exploratory mapping. We can now add our social disorder and amenities metrics to the popup too!\n",
    "\n",
    "First we'll map a choropleth of unemployment:"
   ]
  },
  {
   "cell_type": "code",
   "execution_count": 41,
   "metadata": {},
   "outputs": [
    {
     "data": {
      "text/html": [
       "\n",
       "        <iframe\n",
       "            width=\"700\"\n",
       "            height=\"400\"\n",
       "            src=\"maps/map2.html\"\n",
       "            frameborder=\"0\"\n",
       "            allowfullscreen\n",
       "        ></iframe>\n",
       "        "
      ],
      "text/plain": [
       "<IPython.lib.display.IFrame at 0x7fb90cd5f908>"
      ]
     },
     "execution_count": 41,
     "metadata": {},
     "output_type": "execute_result"
    }
   ],
   "source": [
    "map2 = folium.Map(location=(37.8044, -122.2711), zoom_start=11.4)\n",
    "folium.features.Choropleth(geo_data=alameda,\n",
    "             name='unemployment', \n",
    "             data=joined_data.to_df(),\n",
    "             columns=['Census Tract', 'Unemployment %'],\n",
    "             key_on='feature.properties.name10',  \n",
    "             fill_color='BuPu', \n",
    "             fill_opacity=0.7, \n",
    "             line_opacity=0.2,\n",
    "             legend_name='Unemployment Rate (%)'\n",
    "            ).add_to(map2)\n",
    "folium.LayerControl().add_to(map2)\n",
    "map2.save(\"maps/map2.html\")\n",
    "IFrame('maps/map2.html', width=700, height=400)"
   ]
  },
  {
   "cell_type": "markdown",
   "metadata": {},
   "source": [
    "Household Median Income:"
   ]
  },
  {
   "cell_type": "code",
   "execution_count": 35,
   "metadata": {},
   "outputs": [
    {
     "data": {
      "text/html": [
       "\n",
       "        <iframe\n",
       "            width=\"700\"\n",
       "            height=\"400\"\n",
       "            src=\"maps/map3.html\"\n",
       "            frameborder=\"0\"\n",
       "            allowfullscreen\n",
       "        ></iframe>\n",
       "        "
      ],
      "text/plain": [
       "<IPython.lib.display.IFrame at 0x7fb90ce17be0>"
      ]
     },
     "execution_count": 35,
     "metadata": {},
     "output_type": "execute_result"
    }
   ],
   "source": [
    "map3 = folium.Map(location=(37.8044, -122.2711), zoom_start=11.4)\n",
    "folium.Choropleth(geo_data=alameda, \n",
    "             name='household median income', \n",
    "             data=joined_data.to_df(),\n",
    "             columns=['Census Tract', 'Household Median Income'],\n",
    "             key_on='feature.properties.name10',  \n",
    "             fill_color='BuPu', \n",
    "             fill_opacity=0.7, \n",
    "             line_opacity=0.2,\n",
    "             legend_name='Household Median Income'\n",
    "            ).add_to(map3)\n",
    "map3.save(\"maps/map3.html\")\n",
    "IFrame('maps/map3.html', width=700, height=400)"
   ]
  },
  {
   "cell_type": "markdown",
   "metadata": {},
   "source": [
    "Bachelor's Degree or higher %:"
   ]
  },
  {
   "cell_type": "code",
   "execution_count": 36,
   "metadata": {},
   "outputs": [
    {
     "data": {
      "text/html": [
       "\n",
       "        <iframe\n",
       "            width=\"700\"\n",
       "            height=\"400\"\n",
       "            src=\"maps/map4.html\"\n",
       "            frameborder=\"0\"\n",
       "            allowfullscreen\n",
       "        ></iframe>\n",
       "        "
      ],
      "text/plain": [
       "<IPython.lib.display.IFrame at 0x7fb90ce3db00>"
      ]
     },
     "execution_count": 36,
     "metadata": {},
     "output_type": "execute_result"
    }
   ],
   "source": [
    "map4 = folium.Map(location=(37.8044, -122.2711), zoom_start=11.4)\n",
    "folium.Choropleth(geo_data=alameda, \n",
    "             name=\">= bachelors %\", \n",
    "             data=joined_data.to_df(),\n",
    "             columns=['Census Tract', \"Bachelor's Degree or higher %\"],\n",
    "             key_on='feature.properties.name10',  \n",
    "             fill_color='BuPu', \n",
    "             fill_opacity=0.7, \n",
    "             line_opacity=0.2,\n",
    "             legend_name=\"Bachelor's Degree or higher %\"\n",
    "            ).add_to(map4)\n",
    "map4.save(\"maps/map4.html\")\n",
    "IFrame('maps/map4.html', width=700, height=400)"
   ]
  },
  {
   "cell_type": "markdown",
   "metadata": {},
   "source": [
    "Now our \"social disorder\":"
   ]
  },
  {
   "cell_type": "code",
   "execution_count": 37,
   "metadata": {},
   "outputs": [
    {
     "data": {
      "text/html": [
       "\n",
       "        <iframe\n",
       "            width=\"700\"\n",
       "            height=\"400\"\n",
       "            src=\"maps/map5.html\"\n",
       "            frameborder=\"0\"\n",
       "            allowfullscreen\n",
       "        ></iframe>\n",
       "        "
      ],
      "text/plain": [
       "<IPython.lib.display.IFrame at 0x7fb90cdee080>"
      ]
     },
     "execution_count": 37,
     "metadata": {},
     "output_type": "execute_result"
    }
   ],
   "source": [
    "map5 = folium.Map(location=(37.8044, -122.2711), zoom_start=11.4)\n",
    "folium.Choropleth(geo_data=alameda, \n",
    "             name='social disorder', \n",
    "             data=joined_data.to_df(),\n",
    "             columns=['Census Tract', \"Social Disorder\"],\n",
    "             key_on='feature.properties.name10',  \n",
    "             fill_color='BuPu', \n",
    "             fill_opacity=0.7, \n",
    "             line_opacity=0.2,\n",
    "             legend_name=\"Social Disorder\"\n",
    "            ).add_to(map5)\n",
    "map5.save(\"maps/map5.html\")\n",
    "IFrame('maps/map5.html', width=700, height=400)"
   ]
  },
  {
   "cell_type": "markdown",
   "metadata": {},
   "source": [
    "Now \"Positive Amenities\":"
   ]
  },
  {
   "cell_type": "code",
   "execution_count": 38,
   "metadata": {},
   "outputs": [
    {
     "data": {
      "text/html": [
       "\n",
       "        <iframe\n",
       "            width=\"700\"\n",
       "            height=\"400\"\n",
       "            src=\"maps/map6.html\"\n",
       "            frameborder=\"0\"\n",
       "            allowfullscreen\n",
       "        ></iframe>\n",
       "        "
      ],
      "text/plain": [
       "<IPython.lib.display.IFrame at 0x7fb90cd97278>"
      ]
     },
     "execution_count": 38,
     "metadata": {},
     "output_type": "execute_result"
    }
   ],
   "source": [
    "map6 = folium.Map(location=(37.8044, -122.2711), zoom_start=11.4)\n",
    "folium.Choropleth(geo_data=alameda, \n",
    "             name='positive amenities', \n",
    "             data=joined_data.to_df(),\n",
    "             columns=['Census Tract', \"Positive Amenities\"],\n",
    "             key_on='feature.properties.name10',  \n",
    "             fill_color='BuPu', \n",
    "             fill_opacity=0.7, \n",
    "             line_opacity=0.2,\n",
    "             legend_name=\"Positive Amenities\"\n",
    "            ).add_to(map6)\n",
    "map6.save(\"maps/map6.html\")\n",
    "IFrame('maps/map6.html', width=700, height=400)"
   ]
  },
  {
   "cell_type": "markdown",
   "metadata": {},
   "source": [
    "Finally, \"Negative Amenities\""
   ]
  },
  {
   "cell_type": "code",
   "execution_count": 39,
   "metadata": {},
   "outputs": [
    {
     "data": {
      "text/html": [
       "\n",
       "        <iframe\n",
       "            width=\"700\"\n",
       "            height=\"400\"\n",
       "            src=\"maps/map7.html\"\n",
       "            frameborder=\"0\"\n",
       "            allowfullscreen\n",
       "        ></iframe>\n",
       "        "
      ],
      "text/plain": [
       "<IPython.lib.display.IFrame at 0x7fb90cdaa358>"
      ]
     },
     "execution_count": 39,
     "metadata": {},
     "output_type": "execute_result"
    }
   ],
   "source": [
    "map7 = folium.Map(location=(37.8044, -122.2711), zoom_start=11.4)\n",
    "folium.Choropleth(geo_data=alameda, \n",
    "             name='negative amenities', \n",
    "             data=joined_data.to_df(),\n",
    "             columns=['Census Tract', \"Negative Amenities\"],\n",
    "             key_on='feature.properties.name10',  \n",
    "             fill_color='BuPu', \n",
    "             fill_opacity=0.7, \n",
    "             line_opacity=0.2,\n",
    "             legend_name=\"Negative Amenities\"\n",
    "            ).add_to(map7)\n",
    "map7.save(\"maps/map7.html\")\n",
    "IFrame('maps/map7.html', width=700, height=400)"
   ]
  },
  {
   "cell_type": "markdown",
   "metadata": {},
   "source": [
    "<div class=\"alert alert-info\">\n",
    "    \n",
    "**QUESTION:** What do you notice?\n",
    "\n",
    "</div>"
   ]
  },
  {
   "cell_type": "markdown",
   "metadata": {},
   "source": [
    "_Type your answer here, replacing this text._"
   ]
  },
  {
   "cell_type": "markdown",
   "metadata": {},
   "source": [
    "<div class=\"alert alert-info\">\n",
    "\n",
    "**QUESTION:** Try copying and pasting one of the mapping cells above and change the `column_name` variable to a different variable (column in our data) you'd like to map, then run the cell!\n",
    "\n",
    "</div>"
   ]
  },
  {
   "cell_type": "code",
   "execution_count": 93,
   "metadata": {},
   "outputs": [
    {
     "data": {
      "text/plain": [
       "Ellipsis"
      ]
     },
     "execution_count": 93,
     "metadata": {},
     "output_type": "execute_result"
    }
   ],
   "source": [
    "..."
   ]
  },
  {
   "cell_type": "markdown",
   "metadata": {},
   "source": [
    "---\n",
    "\n",
    "## Variable Distributions\n",
    "\n",
    "We can also visualize the distributions of these variables according to census tract with [histograms](https://en.wikipedia.org/wiki/Histogram). A histogram will create bins, or ranges, within a variable and then count up the frequency for that bin. If we look at household median income, we may have bins of $10,000, and then we'd count how many tracts fall within that bin:"
   ]
  },
  {
   "cell_type": "code",
   "execution_count": 94,
   "metadata": {},
   "outputs": [
    {
     "data": {
      "application/vnd.jupyter.widget-view+json": {
       "model_id": "d05e9540087341e4b7a5d59bd82616d5",
       "version_major": 2,
       "version_minor": 0
      },
      "text/plain": [
       "interactive(children=(Dropdown(description='var_name', options=('Unemployment %', 'Household Median Income', \"…"
      ]
     },
     "metadata": {},
     "output_type": "display_data"
    }
   ],
   "source": [
    "def viz_dist(var_name, tract):\n",
    "    x = joined_data.where(var_name, lambda x: not pd.isna(x))[var_name]\n",
    "    \n",
    "    plt.hist(x)\n",
    "    plt.axvline(x=joined_data.where(\"Census Tract\", tract)[var_name], color = \"RED\")\n",
    "    plt.xlabel(var_name, fontsize=18)\n",
    "    plt.show()\n",
    "\n",
    "display(widgets.interactive(viz_dist, var_name=list(joined_data.labels[1:]), \n",
    "                            tract=list(joined_data[\"Census Tract\"])))"
   ]
  },
  {
   "cell_type": "markdown",
   "metadata": {},
   "source": [
    "<div class=\"alert alert-info\">\n",
    "\n",
    "**QUESTION:** What do these distributions tell you?\n",
    "\n",
    "</div>"
   ]
  },
  {
   "cell_type": "markdown",
   "metadata": {},
   "source": [
    "_Type your answer here, replacing this text._"
   ]
  },
  {
   "cell_type": "markdown",
   "metadata": {},
   "source": [
    "---\n",
    "\n",
    "\n",
    "# Part 4: Correlation<a id='correlation'></a>\n",
    "\n",
    "Let's first analyze income levels. We have sorted the data according to income level. Compare the income levels to the level of social disorder and amenities. Is there a correlation you can spot(as one increases or decreases, does the other do the same)?"
   ]
  },
  {
   "cell_type": "code",
   "execution_count": 95,
   "metadata": {},
   "outputs": [
    {
     "data": {
      "text/html": [
       "<table border=\"1\" class=\"dataframe\">\n",
       "    <thead>\n",
       "        <tr>\n",
       "            <th>Household Median Income</th> <th>Social Disorder</th> <th>Positive Amenities</th> <th>Negative Amenities</th>\n",
       "        </tr>\n",
       "    </thead>\n",
       "    <tbody>\n",
       "        <tr>\n",
       "            <td>150673                 </td> <td>383.025        </td> <td>301.012           </td> <td>421.217           </td>\n",
       "        </tr>\n",
       "        <tr>\n",
       "            <td>135556                 </td> <td>383.13         </td> <td>301.114           </td> <td>421.36            </td>\n",
       "        </tr>\n",
       "        <tr>\n",
       "            <td>132250                 </td> <td>383.213        </td> <td>301.095           </td> <td>421.4             </td>\n",
       "        </tr>\n",
       "        <tr>\n",
       "            <td>117083                 </td> <td>382.043        </td> <td>300.235           </td> <td>420.1             </td>\n",
       "        </tr>\n",
       "        <tr>\n",
       "            <td>107875                 </td> <td>382.444        </td> <td>300.6             </td> <td>420.6             </td>\n",
       "        </tr>\n",
       "        <tr>\n",
       "            <td>85119                  </td> <td>382.256        </td> <td>300.31            </td> <td>420.3             </td>\n",
       "        </tr>\n",
       "        <tr>\n",
       "            <td>82206                  </td> <td>382.107        </td> <td>300.316           </td> <td>420.257           </td>\n",
       "        </tr>\n",
       "        <tr>\n",
       "            <td>80404                  </td> <td>382.448        </td> <td>300.583           </td> <td>420.5             </td>\n",
       "        </tr>\n",
       "        <tr>\n",
       "            <td>76038                  </td> <td>364.389        </td> <td>286.171           </td> <td>400.52            </td>\n",
       "        </tr>\n",
       "        <tr>\n",
       "            <td>68190                  </td> <td>383.513        </td> <td>301.44            </td> <td>421.733           </td>\n",
       "        </tr>\n",
       "        <tr>\n",
       "            <td>61543                  </td> <td>385.579        </td> <td>302.882           </td> <td>424.001           </td>\n",
       "        </tr>\n",
       "        <tr>\n",
       "            <td>60804                  </td> <td>364.395        </td> <td>286.274           </td> <td>400.65            </td>\n",
       "        </tr>\n",
       "        <tr>\n",
       "            <td>59250                  </td> <td>366.715        </td> <td>288.107           </td> <td>403.2             </td>\n",
       "        </tr>\n",
       "        <tr>\n",
       "            <td>57064                  </td> <td>366.931        </td> <td>288.31            </td> <td>403.417           </td>\n",
       "        </tr>\n",
       "        <tr>\n",
       "            <td>54554                  </td> <td>384.22         </td> <td>301.833           </td> <td>422.5             </td>\n",
       "        </tr>\n",
       "        <tr>\n",
       "            <td>42813                  </td> <td>385.268        </td> <td>302.631           </td> <td>423.583           </td>\n",
       "        </tr>\n",
       "        <tr>\n",
       "            <td>40169                  </td> <td>366.461        </td> <td>287.774           </td> <td>402.867           </td>\n",
       "        </tr>\n",
       "        <tr>\n",
       "            <td>39614                  </td> <td>364.582        </td> <td>286.327           </td> <td>400.8             </td>\n",
       "        </tr>\n",
       "        <tr>\n",
       "            <td>38689                  </td> <td>382.346        </td> <td>300.5             </td> <td>420.467           </td>\n",
       "        </tr>\n",
       "        <tr>\n",
       "            <td>28532                  </td> <td>365.332        </td> <td>286.837           </td> <td>401.471           </td>\n",
       "        </tr>\n",
       "        <tr>\n",
       "            <td>24702                  </td> <td>384.655        </td> <td>302.4             </td> <td>422.98            </td>\n",
       "        </tr>\n",
       "        <tr>\n",
       "            <td>17278                  </td> <td>366.421        </td> <td>287.843           </td> <td>402.86            </td>\n",
       "        </tr>\n",
       "        <tr>\n",
       "            <td>0                      </td> <td>0              </td> <td>0                 </td> <td>0                 </td>\n",
       "        </tr>\n",
       "        <tr>\n",
       "            <td>0                      </td> <td>0              </td> <td>0                 </td> <td>0                 </td>\n",
       "        </tr>\n",
       "        <tr>\n",
       "            <td>0                      </td> <td>0              </td> <td>0                 </td> <td>0                 </td>\n",
       "        </tr>\n",
       "        <tr>\n",
       "            <td>0                      </td> <td>0              </td> <td>0                 </td> <td>0                 </td>\n",
       "        </tr>\n",
       "        <tr>\n",
       "            <td>0                      </td> <td>0              </td> <td>0                 </td> <td>0                 </td>\n",
       "        </tr>\n",
       "        <tr>\n",
       "            <td>0                      </td> <td>0              </td> <td>0                 </td> <td>0                 </td>\n",
       "        </tr>\n",
       "        <tr>\n",
       "            <td>0                      </td> <td>0              </td> <td>0                 </td> <td>0                 </td>\n",
       "        </tr>\n",
       "        <tr>\n",
       "            <td>0                      </td> <td>0              </td> <td>0                 </td> <td>0                 </td>\n",
       "        </tr>\n",
       "        <tr>\n",
       "            <td>0                      </td> <td>0              </td> <td>0                 </td> <td>0                 </td>\n",
       "        </tr>\n",
       "        <tr>\n",
       "            <td>0                      </td> <td>0              </td> <td>0                 </td> <td>0                 </td>\n",
       "        </tr>\n",
       "        <tr>\n",
       "            <td>0                      </td> <td>0              </td> <td>0                 </td> <td>0                 </td>\n",
       "        </tr>\n",
       "        <tr>\n",
       "            <td>0                      </td> <td>0              </td> <td>0                 </td> <td>0                 </td>\n",
       "        </tr>\n",
       "        <tr>\n",
       "            <td>0                      </td> <td>0              </td> <td>0                 </td> <td>0                 </td>\n",
       "        </tr>\n",
       "        <tr>\n",
       "            <td>0                      </td> <td>0              </td> <td>0                 </td> <td>0                 </td>\n",
       "        </tr>\n",
       "        <tr>\n",
       "            <td>0                      </td> <td>0              </td> <td>0                 </td> <td>0                 </td>\n",
       "        </tr>\n",
       "        <tr>\n",
       "            <td>0                      </td> <td>0              </td> <td>0                 </td> <td>0                 </td>\n",
       "        </tr>\n",
       "        <tr>\n",
       "            <td>0                      </td> <td>0              </td> <td>0                 </td> <td>0                 </td>\n",
       "        </tr>\n",
       "        <tr>\n",
       "            <td>0                      </td> <td>0              </td> <td>0                 </td> <td>0                 </td>\n",
       "        </tr>\n",
       "        <tr>\n",
       "            <td>0                      </td> <td>0              </td> <td>0                 </td> <td>0                 </td>\n",
       "        </tr>\n",
       "        <tr>\n",
       "            <td>0                      </td> <td>0              </td> <td>0                 </td> <td>0                 </td>\n",
       "        </tr>\n",
       "        <tr>\n",
       "            <td>0                      </td> <td>0              </td> <td>0                 </td> <td>0                 </td>\n",
       "        </tr>\n",
       "        <tr>\n",
       "            <td>0                      </td> <td>0              </td> <td>0                 </td> <td>0                 </td>\n",
       "        </tr>\n",
       "        <tr>\n",
       "            <td>0                      </td> <td>0              </td> <td>0                 </td> <td>0                 </td>\n",
       "        </tr>\n",
       "        <tr>\n",
       "            <td>0                      </td> <td>0              </td> <td>0                 </td> <td>0                 </td>\n",
       "        </tr>\n",
       "        <tr>\n",
       "            <td>0                      </td> <td>0              </td> <td>0                 </td> <td>0                 </td>\n",
       "        </tr>\n",
       "        <tr>\n",
       "            <td>0                      </td> <td>0              </td> <td>0                 </td> <td>0                 </td>\n",
       "        </tr>\n",
       "        <tr>\n",
       "            <td>0                      </td> <td>0              </td> <td>0                 </td> <td>0                 </td>\n",
       "        </tr>\n",
       "        <tr>\n",
       "            <td>0                      </td> <td>0              </td> <td>0                 </td> <td>0                 </td>\n",
       "        </tr>\n",
       "        <tr>\n",
       "            <td>0                      </td> <td>0              </td> <td>0                 </td> <td>0                 </td>\n",
       "        </tr>\n",
       "        <tr>\n",
       "            <td>0                      </td> <td>0              </td> <td>0                 </td> <td>0                 </td>\n",
       "        </tr>\n",
       "        <tr>\n",
       "            <td>0                      </td> <td>0              </td> <td>0                 </td> <td>0                 </td>\n",
       "        </tr>\n",
       "        <tr>\n",
       "            <td>0                      </td> <td>0              </td> <td>0                 </td> <td>0                 </td>\n",
       "        </tr>\n",
       "        <tr>\n",
       "            <td>0                      </td> <td>0              </td> <td>0                 </td> <td>0                 </td>\n",
       "        </tr>\n",
       "        <tr>\n",
       "            <td>0                      </td> <td>0              </td> <td>0                 </td> <td>0                 </td>\n",
       "        </tr>\n",
       "        <tr>\n",
       "            <td>0                      </td> <td>0              </td> <td>0                 </td> <td>0                 </td>\n",
       "        </tr>\n",
       "        <tr>\n",
       "            <td>0                      </td> <td>0              </td> <td>0                 </td> <td>0                 </td>\n",
       "        </tr>\n",
       "        <tr>\n",
       "            <td>0                      </td> <td>0              </td> <td>0                 </td> <td>0                 </td>\n",
       "        </tr>\n",
       "        <tr>\n",
       "            <td>0                      </td> <td>0              </td> <td>0                 </td> <td>0                 </td>\n",
       "        </tr>\n",
       "        <tr>\n",
       "            <td>0                      </td> <td>0              </td> <td>0                 </td> <td>0                 </td>\n",
       "        </tr>\n",
       "        <tr>\n",
       "            <td>0                      </td> <td>0              </td> <td>0                 </td> <td>0                 </td>\n",
       "        </tr>\n",
       "        <tr>\n",
       "            <td>0                      </td> <td>0              </td> <td>0                 </td> <td>0                 </td>\n",
       "        </tr>\n",
       "        <tr>\n",
       "            <td>0                      </td> <td>0              </td> <td>0                 </td> <td>0                 </td>\n",
       "        </tr>\n",
       "        <tr>\n",
       "            <td>0                      </td> <td>0              </td> <td>0                 </td> <td>0                 </td>\n",
       "        </tr>\n",
       "        <tr>\n",
       "            <td>0                      </td> <td>0              </td> <td>0                 </td> <td>0                 </td>\n",
       "        </tr>\n",
       "        <tr>\n",
       "            <td>0                      </td> <td>0              </td> <td>0                 </td> <td>0                 </td>\n",
       "        </tr>\n",
       "        <tr>\n",
       "            <td>0                      </td> <td>0              </td> <td>0                 </td> <td>0                 </td>\n",
       "        </tr>\n",
       "        <tr>\n",
       "            <td>0                      </td> <td>0              </td> <td>0                 </td> <td>0                 </td>\n",
       "        </tr>\n",
       "        <tr>\n",
       "            <td>0                      </td> <td>0              </td> <td>0                 </td> <td>0                 </td>\n",
       "        </tr>\n",
       "        <tr>\n",
       "            <td>0                      </td> <td>0              </td> <td>0                 </td> <td>0                 </td>\n",
       "        </tr>\n",
       "        <tr>\n",
       "            <td>0                      </td> <td>0              </td> <td>0                 </td> <td>0                 </td>\n",
       "        </tr>\n",
       "        <tr>\n",
       "            <td>0                      </td> <td>0              </td> <td>0                 </td> <td>0                 </td>\n",
       "        </tr>\n",
       "        <tr>\n",
       "            <td>0                      </td> <td>0              </td> <td>0                 </td> <td>0                 </td>\n",
       "        </tr>\n",
       "        <tr>\n",
       "            <td>0                      </td> <td>0              </td> <td>0                 </td> <td>0                 </td>\n",
       "        </tr>\n",
       "        <tr>\n",
       "            <td>0                      </td> <td>0              </td> <td>0                 </td> <td>0                 </td>\n",
       "        </tr>\n",
       "        <tr>\n",
       "            <td>0                      </td> <td>0              </td> <td>0                 </td> <td>0                 </td>\n",
       "        </tr>\n",
       "        <tr>\n",
       "            <td>0                      </td> <td>0              </td> <td>0                 </td> <td>0                 </td>\n",
       "        </tr>\n",
       "        <tr>\n",
       "            <td>0                      </td> <td>0              </td> <td>0                 </td> <td>0                 </td>\n",
       "        </tr>\n",
       "        <tr>\n",
       "            <td>0                      </td> <td>0              </td> <td>0                 </td> <td>0                 </td>\n",
       "        </tr>\n",
       "        <tr>\n",
       "            <td>0                      </td> <td>0              </td> <td>0                 </td> <td>0                 </td>\n",
       "        </tr>\n",
       "        <tr>\n",
       "            <td>0                      </td> <td>0              </td> <td>0                 </td> <td>0                 </td>\n",
       "        </tr>\n",
       "        <tr>\n",
       "            <td>0                      </td> <td>0              </td> <td>0                 </td> <td>0                 </td>\n",
       "        </tr>\n",
       "        <tr>\n",
       "            <td>0                      </td> <td>0              </td> <td>0                 </td> <td>0                 </td>\n",
       "        </tr>\n",
       "        <tr>\n",
       "            <td>0                      </td> <td>0              </td> <td>0                 </td> <td>0                 </td>\n",
       "        </tr>\n",
       "        <tr>\n",
       "            <td>0                      </td> <td>0              </td> <td>0                 </td> <td>0                 </td>\n",
       "        </tr>\n",
       "        <tr>\n",
       "            <td>0                      </td> <td>0              </td> <td>0                 </td> <td>0                 </td>\n",
       "        </tr>\n",
       "        <tr>\n",
       "            <td>0                      </td> <td>0              </td> <td>0                 </td> <td>0                 </td>\n",
       "        </tr>\n",
       "        <tr>\n",
       "            <td>0                      </td> <td>0              </td> <td>0                 </td> <td>0                 </td>\n",
       "        </tr>\n",
       "        <tr>\n",
       "            <td>0                      </td> <td>0              </td> <td>0                 </td> <td>0                 </td>\n",
       "        </tr>\n",
       "        <tr>\n",
       "            <td>0                      </td> <td>0              </td> <td>0                 </td> <td>0                 </td>\n",
       "        </tr>\n",
       "        <tr>\n",
       "            <td>0                      </td> <td>0              </td> <td>0                 </td> <td>0                 </td>\n",
       "        </tr>\n",
       "        <tr>\n",
       "            <td>0                      </td> <td>0              </td> <td>0                 </td> <td>0                 </td>\n",
       "        </tr>\n",
       "        <tr>\n",
       "            <td>0                      </td> <td>0              </td> <td>0                 </td> <td>0                 </td>\n",
       "        </tr>\n",
       "        <tr>\n",
       "            <td>0                      </td> <td>0              </td> <td>0                 </td> <td>0                 </td>\n",
       "        </tr>\n",
       "        <tr>\n",
       "            <td>0                      </td> <td>0              </td> <td>0                 </td> <td>0                 </td>\n",
       "        </tr>\n",
       "        <tr>\n",
       "            <td>0                      </td> <td>0              </td> <td>0                 </td> <td>0                 </td>\n",
       "        </tr>\n",
       "        <tr>\n",
       "            <td>0                      </td> <td>0              </td> <td>0                 </td> <td>0                 </td>\n",
       "        </tr>\n",
       "        <tr>\n",
       "            <td>0                      </td> <td>0              </td> <td>0                 </td> <td>0                 </td>\n",
       "        </tr>\n",
       "        <tr>\n",
       "            <td>0                      </td> <td>0              </td> <td>0                 </td> <td>0                 </td>\n",
       "        </tr>\n",
       "        <tr>\n",
       "            <td>0                      </td> <td>0              </td> <td>0                 </td> <td>0                 </td>\n",
       "        </tr>\n",
       "        <tr>\n",
       "            <td>0                      </td> <td>0              </td> <td>0                 </td> <td>0                 </td>\n",
       "        </tr>\n",
       "        <tr>\n",
       "            <td>0                      </td> <td>0              </td> <td>0                 </td> <td>0                 </td>\n",
       "        </tr>\n",
       "        <tr>\n",
       "            <td>0                      </td> <td>0              </td> <td>0                 </td> <td>0                 </td>\n",
       "        </tr>\n",
       "        <tr>\n",
       "            <td>0                      </td> <td>0              </td> <td>0                 </td> <td>0                 </td>\n",
       "        </tr>\n",
       "        <tr>\n",
       "            <td>0                      </td> <td>0              </td> <td>0                 </td> <td>0                 </td>\n",
       "        </tr>\n",
       "        <tr>\n",
       "            <td>0                      </td> <td>0              </td> <td>0                 </td> <td>0                 </td>\n",
       "        </tr>\n",
       "        <tr>\n",
       "            <td>0                      </td> <td>0              </td> <td>0                 </td> <td>0                 </td>\n",
       "        </tr>\n",
       "        <tr>\n",
       "            <td>0                      </td> <td>0              </td> <td>0                 </td> <td>0                 </td>\n",
       "        </tr>\n",
       "        <tr>\n",
       "            <td>0                      </td> <td>0              </td> <td>0                 </td> <td>0                 </td>\n",
       "        </tr>\n",
       "        <tr>\n",
       "            <td>0                      </td> <td>0              </td> <td>0                 </td> <td>0                 </td>\n",
       "        </tr>\n",
       "        <tr>\n",
       "            <td>0                      </td> <td>0              </td> <td>0                 </td> <td>0                 </td>\n",
       "        </tr>\n",
       "        <tr>\n",
       "            <td>0                      </td> <td>0              </td> <td>0                 </td> <td>0                 </td>\n",
       "        </tr>\n",
       "        <tr>\n",
       "            <td>0                      </td> <td>0              </td> <td>0                 </td> <td>0                 </td>\n",
       "        </tr>\n",
       "        <tr>\n",
       "            <td>0                      </td> <td>0              </td> <td>0                 </td> <td>0                 </td>\n",
       "        </tr>\n",
       "        <tr>\n",
       "            <td>0                      </td> <td>0              </td> <td>0                 </td> <td>0                 </td>\n",
       "        </tr>\n",
       "        <tr>\n",
       "            <td>0                      </td> <td>0              </td> <td>0                 </td> <td>0                 </td>\n",
       "        </tr>\n",
       "        <tr>\n",
       "            <td>0                      </td> <td>0              </td> <td>0                 </td> <td>0                 </td>\n",
       "        </tr>\n",
       "        <tr>\n",
       "            <td>0                      </td> <td>0              </td> <td>0                 </td> <td>0                 </td>\n",
       "        </tr>\n",
       "        <tr>\n",
       "            <td>0                      </td> <td>0              </td> <td>0                 </td> <td>0                 </td>\n",
       "        </tr>\n",
       "        <tr>\n",
       "            <td>0                      </td> <td>0              </td> <td>0                 </td> <td>0                 </td>\n",
       "        </tr>\n",
       "        <tr>\n",
       "            <td>0                      </td> <td>0              </td> <td>0                 </td> <td>0                 </td>\n",
       "        </tr>\n",
       "        <tr>\n",
       "            <td>0                      </td> <td>0              </td> <td>0                 </td> <td>0                 </td>\n",
       "        </tr>\n",
       "        <tr>\n",
       "            <td>0                      </td> <td>0              </td> <td>0                 </td> <td>0                 </td>\n",
       "        </tr>\n",
       "        <tr>\n",
       "            <td>0                      </td> <td>0              </td> <td>0                 </td> <td>0                 </td>\n",
       "        </tr>\n",
       "        <tr>\n",
       "            <td>0                      </td> <td>0              </td> <td>0                 </td> <td>0                 </td>\n",
       "        </tr>\n",
       "        <tr>\n",
       "            <td>0                      </td> <td>0              </td> <td>0                 </td> <td>0                 </td>\n",
       "        </tr>\n",
       "        <tr>\n",
       "            <td>0                      </td> <td>0              </td> <td>0                 </td> <td>0                 </td>\n",
       "        </tr>\n",
       "        <tr>\n",
       "            <td>0                      </td> <td>0              </td> <td>0                 </td> <td>0                 </td>\n",
       "        </tr>\n",
       "        <tr>\n",
       "            <td>0                      </td> <td>0              </td> <td>0                 </td> <td>0                 </td>\n",
       "        </tr>\n",
       "        <tr>\n",
       "            <td>0                      </td> <td>0              </td> <td>0                 </td> <td>0                 </td>\n",
       "        </tr>\n",
       "        <tr>\n",
       "            <td>0                      </td> <td>0              </td> <td>0                 </td> <td>0                 </td>\n",
       "        </tr>\n",
       "        <tr>\n",
       "            <td>0                      </td> <td>0              </td> <td>0                 </td> <td>0                 </td>\n",
       "        </tr>\n",
       "        <tr>\n",
       "            <td>0                      </td> <td>0              </td> <td>0                 </td> <td>0                 </td>\n",
       "        </tr>\n",
       "        <tr>\n",
       "            <td>0                      </td> <td>0              </td> <td>0                 </td> <td>0                 </td>\n",
       "        </tr>\n",
       "        <tr>\n",
       "            <td>0                      </td> <td>0              </td> <td>0                 </td> <td>0                 </td>\n",
       "        </tr>\n",
       "        <tr>\n",
       "            <td>0                      </td> <td>0              </td> <td>0                 </td> <td>0                 </td>\n",
       "        </tr>\n",
       "        <tr>\n",
       "            <td>0                      </td> <td>0              </td> <td>0                 </td> <td>0                 </td>\n",
       "        </tr>\n",
       "        <tr>\n",
       "            <td>0                      </td> <td>0              </td> <td>0                 </td> <td>0                 </td>\n",
       "        </tr>\n",
       "        <tr>\n",
       "            <td>0                      </td> <td>0              </td> <td>0                 </td> <td>0                 </td>\n",
       "        </tr>\n",
       "        <tr>\n",
       "            <td>0                      </td> <td>0              </td> <td>0                 </td> <td>0                 </td>\n",
       "        </tr>\n",
       "        <tr>\n",
       "            <td>0                      </td> <td>0              </td> <td>0                 </td> <td>0                 </td>\n",
       "        </tr>\n",
       "        <tr>\n",
       "            <td>0                      </td> <td>0              </td> <td>0                 </td> <td>0                 </td>\n",
       "        </tr>\n",
       "        <tr>\n",
       "            <td>0                      </td> <td>0              </td> <td>0                 </td> <td>0                 </td>\n",
       "        </tr>\n",
       "        <tr>\n",
       "            <td>0                      </td> <td>0              </td> <td>0                 </td> <td>0                 </td>\n",
       "        </tr>\n",
       "        <tr>\n",
       "            <td>0                      </td> <td>0              </td> <td>0                 </td> <td>0                 </td>\n",
       "        </tr>\n",
       "        <tr>\n",
       "            <td>0                      </td> <td>0              </td> <td>0                 </td> <td>0                 </td>\n",
       "        </tr>\n",
       "        <tr>\n",
       "            <td>0                      </td> <td>0              </td> <td>0                 </td> <td>0                 </td>\n",
       "        </tr>\n",
       "        <tr>\n",
       "            <td>0                      </td> <td>0              </td> <td>0                 </td> <td>0                 </td>\n",
       "        </tr>\n",
       "        <tr>\n",
       "            <td>0                      </td> <td>0              </td> <td>0                 </td> <td>0                 </td>\n",
       "        </tr>\n",
       "        <tr>\n",
       "            <td>0                      </td> <td>0              </td> <td>0                 </td> <td>0                 </td>\n",
       "        </tr>\n",
       "        <tr>\n",
       "            <td>0                      </td> <td>0              </td> <td>0                 </td> <td>0                 </td>\n",
       "        </tr>\n",
       "        <tr>\n",
       "            <td>0                      </td> <td>0              </td> <td>0                 </td> <td>0                 </td>\n",
       "        </tr>\n",
       "        <tr>\n",
       "            <td>0                      </td> <td>0              </td> <td>0                 </td> <td>0                 </td>\n",
       "        </tr>\n",
       "        <tr>\n",
       "            <td>0                      </td> <td>0              </td> <td>0                 </td> <td>0                 </td>\n",
       "        </tr>\n",
       "        <tr>\n",
       "            <td>0                      </td> <td>0              </td> <td>0                 </td> <td>0                 </td>\n",
       "        </tr>\n",
       "        <tr>\n",
       "            <td>0                      </td> <td>0              </td> <td>0                 </td> <td>0                 </td>\n",
       "        </tr>\n",
       "        <tr>\n",
       "            <td>0                      </td> <td>0              </td> <td>0                 </td> <td>0                 </td>\n",
       "        </tr>\n",
       "        <tr>\n",
       "            <td>0                      </td> <td>0              </td> <td>0                 </td> <td>0                 </td>\n",
       "        </tr>\n",
       "        <tr>\n",
       "            <td>0                      </td> <td>0              </td> <td>0                 </td> <td>0                 </td>\n",
       "        </tr>\n",
       "        <tr>\n",
       "            <td>0                      </td> <td>0              </td> <td>0                 </td> <td>0                 </td>\n",
       "        </tr>\n",
       "        <tr>\n",
       "            <td>0                      </td> <td>0              </td> <td>0                 </td> <td>0                 </td>\n",
       "        </tr>\n",
       "        <tr>\n",
       "            <td>0                      </td> <td>0              </td> <td>0                 </td> <td>0                 </td>\n",
       "        </tr>\n",
       "        <tr>\n",
       "            <td>0                      </td> <td>0              </td> <td>0                 </td> <td>0                 </td>\n",
       "        </tr>\n",
       "        <tr>\n",
       "            <td>0                      </td> <td>0              </td> <td>0                 </td> <td>0                 </td>\n",
       "        </tr>\n",
       "        <tr>\n",
       "            <td>0                      </td> <td>0              </td> <td>0                 </td> <td>0                 </td>\n",
       "        </tr>\n",
       "        <tr>\n",
       "            <td>0                      </td> <td>0              </td> <td>0                 </td> <td>0                 </td>\n",
       "        </tr>\n",
       "        <tr>\n",
       "            <td>0                      </td> <td>0              </td> <td>0                 </td> <td>0                 </td>\n",
       "        </tr>\n",
       "        <tr>\n",
       "            <td>0                      </td> <td>0              </td> <td>0                 </td> <td>0                 </td>\n",
       "        </tr>\n",
       "        <tr>\n",
       "            <td>0                      </td> <td>0              </td> <td>0                 </td> <td>0                 </td>\n",
       "        </tr>\n",
       "        <tr>\n",
       "            <td>0                      </td> <td>0              </td> <td>0                 </td> <td>0                 </td>\n",
       "        </tr>\n",
       "        <tr>\n",
       "            <td>0                      </td> <td>0              </td> <td>0                 </td> <td>0                 </td>\n",
       "        </tr>\n",
       "        <tr>\n",
       "            <td>0                      </td> <td>0              </td> <td>0                 </td> <td>0                 </td>\n",
       "        </tr>\n",
       "        <tr>\n",
       "            <td>0                      </td> <td>0              </td> <td>0                 </td> <td>0                 </td>\n",
       "        </tr>\n",
       "        <tr>\n",
       "            <td>0                      </td> <td>0              </td> <td>0                 </td> <td>0                 </td>\n",
       "        </tr>\n",
       "        <tr>\n",
       "            <td>0                      </td> <td>0              </td> <td>0                 </td> <td>0                 </td>\n",
       "        </tr>\n",
       "        <tr>\n",
       "            <td>0                      </td> <td>0              </td> <td>0                 </td> <td>0                 </td>\n",
       "        </tr>\n",
       "        <tr>\n",
       "            <td>0                      </td> <td>0              </td> <td>0                 </td> <td>0                 </td>\n",
       "        </tr>\n",
       "        <tr>\n",
       "            <td>0                      </td> <td>0              </td> <td>0                 </td> <td>0                 </td>\n",
       "        </tr>\n",
       "        <tr>\n",
       "            <td>0                      </td> <td>0              </td> <td>0                 </td> <td>0                 </td>\n",
       "        </tr>\n",
       "        <tr>\n",
       "            <td>0                      </td> <td>0              </td> <td>0                 </td> <td>0                 </td>\n",
       "        </tr>\n",
       "        <tr>\n",
       "            <td>0                      </td> <td>0              </td> <td>0                 </td> <td>0                 </td>\n",
       "        </tr>\n",
       "        <tr>\n",
       "            <td>0                      </td> <td>0              </td> <td>0                 </td> <td>0                 </td>\n",
       "        </tr>\n",
       "        <tr>\n",
       "            <td>0                      </td> <td>0              </td> <td>0                 </td> <td>0                 </td>\n",
       "        </tr>\n",
       "        <tr>\n",
       "            <td>0                      </td> <td>0              </td> <td>0                 </td> <td>0                 </td>\n",
       "        </tr>\n",
       "        <tr>\n",
       "            <td>0                      </td> <td>0              </td> <td>0                 </td> <td>0                 </td>\n",
       "        </tr>\n",
       "        <tr>\n",
       "            <td>0                      </td> <td>0              </td> <td>0                 </td> <td>0                 </td>\n",
       "        </tr>\n",
       "        <tr>\n",
       "            <td>0                      </td> <td>0              </td> <td>0                 </td> <td>0                 </td>\n",
       "        </tr>\n",
       "        <tr>\n",
       "            <td>0                      </td> <td>0              </td> <td>0                 </td> <td>0                 </td>\n",
       "        </tr>\n",
       "        <tr>\n",
       "            <td>0                      </td> <td>0              </td> <td>0                 </td> <td>0                 </td>\n",
       "        </tr>\n",
       "        <tr>\n",
       "            <td>0                      </td> <td>0              </td> <td>0                 </td> <td>0                 </td>\n",
       "        </tr>\n",
       "        <tr>\n",
       "            <td>0                      </td> <td>0              </td> <td>0                 </td> <td>0                 </td>\n",
       "        </tr>\n",
       "        <tr>\n",
       "            <td>0                      </td> <td>0              </td> <td>0                 </td> <td>0                 </td>\n",
       "        </tr>\n",
       "        <tr>\n",
       "            <td>0                      </td> <td>0              </td> <td>0                 </td> <td>0                 </td>\n",
       "        </tr>\n",
       "        <tr>\n",
       "            <td>0                      </td> <td>0              </td> <td>0                 </td> <td>0                 </td>\n",
       "        </tr>\n",
       "        <tr>\n",
       "            <td>0                      </td> <td>0              </td> <td>0                 </td> <td>0                 </td>\n",
       "        </tr>\n",
       "        <tr>\n",
       "            <td>0                      </td> <td>0              </td> <td>0                 </td> <td>0                 </td>\n",
       "        </tr>\n",
       "        <tr>\n",
       "            <td>0                      </td> <td>0              </td> <td>0                 </td> <td>0                 </td>\n",
       "        </tr>\n",
       "        <tr>\n",
       "            <td>0                      </td> <td>0              </td> <td>0                 </td> <td>0                 </td>\n",
       "        </tr>\n",
       "        <tr>\n",
       "            <td>0                      </td> <td>0              </td> <td>0                 </td> <td>0                 </td>\n",
       "        </tr>\n",
       "        <tr>\n",
       "            <td>0                      </td> <td>0              </td> <td>0                 </td> <td>0                 </td>\n",
       "        </tr>\n",
       "        <tr>\n",
       "            <td>0                      </td> <td>0              </td> <td>0                 </td> <td>0                 </td>\n",
       "        </tr>\n",
       "        <tr>\n",
       "            <td>0                      </td> <td>0              </td> <td>0                 </td> <td>0                 </td>\n",
       "        </tr>\n",
       "        <tr>\n",
       "            <td>0                      </td> <td>0              </td> <td>0                 </td> <td>0                 </td>\n",
       "        </tr>\n",
       "        <tr>\n",
       "            <td>0                      </td> <td>0              </td> <td>0                 </td> <td>0                 </td>\n",
       "        </tr>\n",
       "        <tr>\n",
       "            <td>0                      </td> <td>0              </td> <td>0                 </td> <td>0                 </td>\n",
       "        </tr>\n",
       "        <tr>\n",
       "            <td>0                      </td> <td>0              </td> <td>0                 </td> <td>0                 </td>\n",
       "        </tr>\n",
       "        <tr>\n",
       "            <td>0                      </td> <td>0              </td> <td>0                 </td> <td>0                 </td>\n",
       "        </tr>\n",
       "        <tr>\n",
       "            <td>0                      </td> <td>0              </td> <td>0                 </td> <td>0                 </td>\n",
       "        </tr>\n",
       "        <tr>\n",
       "            <td>0                      </td> <td>0              </td> <td>0                 </td> <td>0                 </td>\n",
       "        </tr>\n",
       "        <tr>\n",
       "            <td>0                      </td> <td>0              </td> <td>0                 </td> <td>0                 </td>\n",
       "        </tr>\n",
       "        <tr>\n",
       "            <td>0                      </td> <td>0              </td> <td>0                 </td> <td>0                 </td>\n",
       "        </tr>\n",
       "        <tr>\n",
       "            <td>0                      </td> <td>0              </td> <td>0                 </td> <td>0                 </td>\n",
       "        </tr>\n",
       "        <tr>\n",
       "            <td>0                      </td> <td>0              </td> <td>0                 </td> <td>0                 </td>\n",
       "        </tr>\n",
       "        <tr>\n",
       "            <td>0                      </td> <td>0              </td> <td>0                 </td> <td>0                 </td>\n",
       "        </tr>\n",
       "        <tr>\n",
       "            <td>0                      </td> <td>0              </td> <td>0                 </td> <td>0                 </td>\n",
       "        </tr>\n",
       "        <tr>\n",
       "            <td>0                      </td> <td>0              </td> <td>0                 </td> <td>0                 </td>\n",
       "        </tr>\n",
       "        <tr>\n",
       "            <td>0                      </td> <td>0              </td> <td>0                 </td> <td>0                 </td>\n",
       "        </tr>\n",
       "        <tr>\n",
       "            <td>0                      </td> <td>0              </td> <td>0                 </td> <td>0                 </td>\n",
       "        </tr>\n",
       "        <tr>\n",
       "            <td>0                      </td> <td>0              </td> <td>0                 </td> <td>0                 </td>\n",
       "        </tr>\n",
       "        <tr>\n",
       "            <td>0                      </td> <td>0              </td> <td>0                 </td> <td>0                 </td>\n",
       "        </tr>\n",
       "        <tr>\n",
       "            <td>0                      </td> <td>0              </td> <td>0                 </td> <td>0                 </td>\n",
       "        </tr>\n",
       "        <tr>\n",
       "            <td>0                      </td> <td>0              </td> <td>0                 </td> <td>0                 </td>\n",
       "        </tr>\n",
       "        <tr>\n",
       "            <td>0                      </td> <td>0              </td> <td>0                 </td> <td>0                 </td>\n",
       "        </tr>\n",
       "        <tr>\n",
       "            <td>0                      </td> <td>0              </td> <td>0                 </td> <td>0                 </td>\n",
       "        </tr>\n",
       "        <tr>\n",
       "            <td>0                      </td> <td>0              </td> <td>0                 </td> <td>0                 </td>\n",
       "        </tr>\n",
       "        <tr>\n",
       "            <td>0                      </td> <td>0              </td> <td>0                 </td> <td>0                 </td>\n",
       "        </tr>\n",
       "        <tr>\n",
       "            <td>0                      </td> <td>0              </td> <td>0                 </td> <td>0                 </td>\n",
       "        </tr>\n",
       "        <tr>\n",
       "            <td>0                      </td> <td>0              </td> <td>0                 </td> <td>0                 </td>\n",
       "        </tr>\n",
       "        <tr>\n",
       "            <td>0                      </td> <td>0              </td> <td>0                 </td> <td>0                 </td>\n",
       "        </tr>\n",
       "        <tr>\n",
       "            <td>0                      </td> <td>0              </td> <td>0                 </td> <td>0                 </td>\n",
       "        </tr>\n",
       "        <tr>\n",
       "            <td>0                      </td> <td>0              </td> <td>0                 </td> <td>0                 </td>\n",
       "        </tr>\n",
       "        <tr>\n",
       "            <td>0                      </td> <td>0              </td> <td>0                 </td> <td>0                 </td>\n",
       "        </tr>\n",
       "        <tr>\n",
       "            <td>0                      </td> <td>0              </td> <td>0                 </td> <td>0                 </td>\n",
       "        </tr>\n",
       "        <tr>\n",
       "            <td>0                      </td> <td>0              </td> <td>0                 </td> <td>0                 </td>\n",
       "        </tr>\n",
       "        <tr>\n",
       "            <td>0                      </td> <td>0              </td> <td>0                 </td> <td>0                 </td>\n",
       "        </tr>\n",
       "        <tr>\n",
       "            <td>0                      </td> <td>0              </td> <td>0                 </td> <td>0                 </td>\n",
       "        </tr>\n",
       "        <tr>\n",
       "            <td>0                      </td> <td>0              </td> <td>0                 </td> <td>0                 </td>\n",
       "        </tr>\n",
       "        <tr>\n",
       "            <td>0                      </td> <td>0              </td> <td>0                 </td> <td>0                 </td>\n",
       "        </tr>\n",
       "        <tr>\n",
       "            <td>0                      </td> <td>0              </td> <td>0                 </td> <td>0                 </td>\n",
       "        </tr>\n",
       "        <tr>\n",
       "            <td>0                      </td> <td>0              </td> <td>0                 </td> <td>0                 </td>\n",
       "        </tr>\n",
       "        <tr>\n",
       "            <td>0                      </td> <td>0              </td> <td>0                 </td> <td>0                 </td>\n",
       "        </tr>\n",
       "        <tr>\n",
       "            <td>0                      </td> <td>0              </td> <td>0                 </td> <td>0                 </td>\n",
       "        </tr>\n",
       "        <tr>\n",
       "            <td>0                      </td> <td>0              </td> <td>0                 </td> <td>0                 </td>\n",
       "        </tr>\n",
       "        <tr>\n",
       "            <td>0                      </td> <td>0              </td> <td>0                 </td> <td>0                 </td>\n",
       "        </tr>\n",
       "        <tr>\n",
       "            <td>0                      </td> <td>0              </td> <td>0                 </td> <td>0                 </td>\n",
       "        </tr>\n",
       "        <tr>\n",
       "            <td>0                      </td> <td>0              </td> <td>0                 </td> <td>0                 </td>\n",
       "        </tr>\n",
       "        <tr>\n",
       "            <td>0                      </td> <td>0              </td> <td>0                 </td> <td>0                 </td>\n",
       "        </tr>\n",
       "        <tr>\n",
       "            <td>0                      </td> <td>0              </td> <td>0                 </td> <td>0                 </td>\n",
       "        </tr>\n",
       "        <tr>\n",
       "            <td>0                      </td> <td>0              </td> <td>0                 </td> <td>0                 </td>\n",
       "        </tr>\n",
       "        <tr>\n",
       "            <td>0                      </td> <td>0              </td> <td>0                 </td> <td>0                 </td>\n",
       "        </tr>\n",
       "        <tr>\n",
       "            <td>0                      </td> <td>0              </td> <td>0                 </td> <td>0                 </td>\n",
       "        </tr>\n",
       "        <tr>\n",
       "            <td>0                      </td> <td>0              </td> <td>0                 </td> <td>0                 </td>\n",
       "        </tr>\n",
       "        <tr>\n",
       "            <td>0                      </td> <td>0              </td> <td>0                 </td> <td>0                 </td>\n",
       "        </tr>\n",
       "        <tr>\n",
       "            <td>0                      </td> <td>0              </td> <td>0                 </td> <td>0                 </td>\n",
       "        </tr>\n",
       "        <tr>\n",
       "            <td>0                      </td> <td>0              </td> <td>0                 </td> <td>0                 </td>\n",
       "        </tr>\n",
       "        <tr>\n",
       "            <td>0                      </td> <td>0              </td> <td>0                 </td> <td>0                 </td>\n",
       "        </tr>\n",
       "        <tr>\n",
       "            <td>0                      </td> <td>0              </td> <td>0                 </td> <td>0                 </td>\n",
       "        </tr>\n",
       "        <tr>\n",
       "            <td>0                      </td> <td>0              </td> <td>0                 </td> <td>0                 </td>\n",
       "        </tr>\n",
       "        <tr>\n",
       "            <td>0                      </td> <td>0              </td> <td>0                 </td> <td>0                 </td>\n",
       "        </tr>\n",
       "        <tr>\n",
       "            <td>0                      </td> <td>0              </td> <td>0                 </td> <td>0                 </td>\n",
       "        </tr>\n",
       "        <tr>\n",
       "            <td>0                      </td> <td>0              </td> <td>0                 </td> <td>0                 </td>\n",
       "        </tr>\n",
       "        <tr>\n",
       "            <td>0                      </td> <td>0              </td> <td>0                 </td> <td>0                 </td>\n",
       "        </tr>\n",
       "        <tr>\n",
       "            <td>0                      </td> <td>0              </td> <td>0                 </td> <td>0                 </td>\n",
       "        </tr>\n",
       "        <tr>\n",
       "            <td>0                      </td> <td>0              </td> <td>0                 </td> <td>0                 </td>\n",
       "        </tr>\n",
       "        <tr>\n",
       "            <td>0                      </td> <td>0              </td> <td>0                 </td> <td>0                 </td>\n",
       "        </tr>\n",
       "        <tr>\n",
       "            <td>0                      </td> <td>0              </td> <td>0                 </td> <td>0                 </td>\n",
       "        </tr>\n",
       "        <tr>\n",
       "            <td>0                      </td> <td>0              </td> <td>0                 </td> <td>0                 </td>\n",
       "        </tr>\n",
       "        <tr>\n",
       "            <td>0                      </td> <td>0              </td> <td>0                 </td> <td>0                 </td>\n",
       "        </tr>\n",
       "        <tr>\n",
       "            <td>0                      </td> <td>0              </td> <td>0                 </td> <td>0                 </td>\n",
       "        </tr>\n",
       "        <tr>\n",
       "            <td>0                      </td> <td>0              </td> <td>0                 </td> <td>0                 </td>\n",
       "        </tr>\n",
       "        <tr>\n",
       "            <td>0                      </td> <td>0              </td> <td>0                 </td> <td>0                 </td>\n",
       "        </tr>\n",
       "        <tr>\n",
       "            <td>0                      </td> <td>0              </td> <td>0                 </td> <td>0                 </td>\n",
       "        </tr>\n",
       "        <tr>\n",
       "            <td>0                      </td> <td>0              </td> <td>0                 </td> <td>0                 </td>\n",
       "        </tr>\n",
       "        <tr>\n",
       "            <td>0                      </td> <td>0              </td> <td>0                 </td> <td>0                 </td>\n",
       "        </tr>\n",
       "        <tr>\n",
       "            <td>0                      </td> <td>0              </td> <td>0                 </td> <td>0                 </td>\n",
       "        </tr>\n",
       "        <tr>\n",
       "            <td>0                      </td> <td>0              </td> <td>0                 </td> <td>0                 </td>\n",
       "        </tr>\n",
       "        <tr>\n",
       "            <td>0                      </td> <td>0              </td> <td>0                 </td> <td>0                 </td>\n",
       "        </tr>\n",
       "        <tr>\n",
       "            <td>0                      </td> <td>0              </td> <td>0                 </td> <td>0                 </td>\n",
       "        </tr>\n",
       "        <tr>\n",
       "            <td>0                      </td> <td>0              </td> <td>0                 </td> <td>0                 </td>\n",
       "        </tr>\n",
       "        <tr>\n",
       "            <td>0                      </td> <td>0              </td> <td>0                 </td> <td>0                 </td>\n",
       "        </tr>\n",
       "        <tr>\n",
       "            <td>0                      </td> <td>0              </td> <td>0                 </td> <td>0                 </td>\n",
       "        </tr>\n",
       "        <tr>\n",
       "            <td>0                      </td> <td>0              </td> <td>0                 </td> <td>0                 </td>\n",
       "        </tr>\n",
       "        <tr>\n",
       "            <td>0                      </td> <td>0              </td> <td>0                 </td> <td>0                 </td>\n",
       "        </tr>\n",
       "        <tr>\n",
       "            <td>0                      </td> <td>0              </td> <td>0                 </td> <td>0                 </td>\n",
       "        </tr>\n",
       "        <tr>\n",
       "            <td>0                      </td> <td>0              </td> <td>0                 </td> <td>0                 </td>\n",
       "        </tr>\n",
       "        <tr>\n",
       "            <td>0                      </td> <td>0              </td> <td>0                 </td> <td>0                 </td>\n",
       "        </tr>\n",
       "        <tr>\n",
       "            <td>0                      </td> <td>0              </td> <td>0                 </td> <td>0                 </td>\n",
       "        </tr>\n",
       "        <tr>\n",
       "            <td>0                      </td> <td>0              </td> <td>0                 </td> <td>0                 </td>\n",
       "        </tr>\n",
       "        <tr>\n",
       "            <td>0                      </td> <td>0              </td> <td>0                 </td> <td>0                 </td>\n",
       "        </tr>\n",
       "        <tr>\n",
       "            <td>0                      </td> <td>0              </td> <td>0                 </td> <td>0                 </td>\n",
       "        </tr>\n",
       "        <tr>\n",
       "            <td>0                      </td> <td>0              </td> <td>0                 </td> <td>0                 </td>\n",
       "        </tr>\n",
       "        <tr>\n",
       "            <td>0                      </td> <td>0              </td> <td>0                 </td> <td>0                 </td>\n",
       "        </tr>\n",
       "        <tr>\n",
       "            <td>0                      </td> <td>0              </td> <td>0                 </td> <td>0                 </td>\n",
       "        </tr>\n",
       "        <tr>\n",
       "            <td>0                      </td> <td>0              </td> <td>0                 </td> <td>0                 </td>\n",
       "        </tr>\n",
       "        <tr>\n",
       "            <td>0                      </td> <td>0              </td> <td>0                 </td> <td>0                 </td>\n",
       "        </tr>\n",
       "        <tr>\n",
       "            <td>0                      </td> <td>0              </td> <td>0                 </td> <td>0                 </td>\n",
       "        </tr>\n",
       "        <tr>\n",
       "            <td>0                      </td> <td>0              </td> <td>0                 </td> <td>0                 </td>\n",
       "        </tr>\n",
       "        <tr>\n",
       "            <td>0                      </td> <td>0              </td> <td>0                 </td> <td>0                 </td>\n",
       "        </tr>\n",
       "        <tr>\n",
       "            <td>0                      </td> <td>0              </td> <td>0                 </td> <td>0                 </td>\n",
       "        </tr>\n",
       "        <tr>\n",
       "            <td>0                      </td> <td>0              </td> <td>0                 </td> <td>0                 </td>\n",
       "        </tr>\n",
       "        <tr>\n",
       "            <td>0                      </td> <td>0              </td> <td>0                 </td> <td>0                 </td>\n",
       "        </tr>\n",
       "        <tr>\n",
       "            <td>0                      </td> <td>0              </td> <td>0                 </td> <td>0                 </td>\n",
       "        </tr>\n",
       "        <tr>\n",
       "            <td>0                      </td> <td>0              </td> <td>0                 </td> <td>0                 </td>\n",
       "        </tr>\n",
       "        <tr>\n",
       "            <td>0                      </td> <td>0              </td> <td>0                 </td> <td>0                 </td>\n",
       "        </tr>\n",
       "        <tr>\n",
       "            <td>0                      </td> <td>0              </td> <td>0                 </td> <td>0                 </td>\n",
       "        </tr>\n",
       "        <tr>\n",
       "            <td>0                      </td> <td>0              </td> <td>0                 </td> <td>0                 </td>\n",
       "        </tr>\n",
       "        <tr>\n",
       "            <td>0                      </td> <td>0              </td> <td>0                 </td> <td>0                 </td>\n",
       "        </tr>\n",
       "        <tr>\n",
       "            <td>0                      </td> <td>0              </td> <td>0                 </td> <td>0                 </td>\n",
       "        </tr>\n",
       "        <tr>\n",
       "            <td>0                      </td> <td>0              </td> <td>0                 </td> <td>0                 </td>\n",
       "        </tr>\n",
       "        <tr>\n",
       "            <td>0                      </td> <td>0              </td> <td>0                 </td> <td>0                 </td>\n",
       "        </tr>\n",
       "        <tr>\n",
       "            <td>0                      </td> <td>0              </td> <td>0                 </td> <td>0                 </td>\n",
       "        </tr>\n",
       "        <tr>\n",
       "            <td>0                      </td> <td>0              </td> <td>0                 </td> <td>0                 </td>\n",
       "        </tr>\n",
       "        <tr>\n",
       "            <td>0                      </td> <td>0              </td> <td>0                 </td> <td>0                 </td>\n",
       "        </tr>\n",
       "        <tr>\n",
       "            <td>0                      </td> <td>0              </td> <td>0                 </td> <td>0                 </td>\n",
       "        </tr>\n",
       "        <tr>\n",
       "            <td>0                      </td> <td>0              </td> <td>0                 </td> <td>0                 </td>\n",
       "        </tr>\n",
       "        <tr>\n",
       "            <td>0                      </td> <td>0              </td> <td>0                 </td> <td>0                 </td>\n",
       "        </tr>\n",
       "        <tr>\n",
       "            <td>0                      </td> <td>0              </td> <td>0                 </td> <td>0                 </td>\n",
       "        </tr>\n",
       "        <tr>\n",
       "            <td>0                      </td> <td>0              </td> <td>0                 </td> <td>0                 </td>\n",
       "        </tr>\n",
       "        <tr>\n",
       "            <td>0                      </td> <td>0              </td> <td>0                 </td> <td>0                 </td>\n",
       "        </tr>\n",
       "        <tr>\n",
       "            <td>0                      </td> <td>0              </td> <td>0                 </td> <td>0                 </td>\n",
       "        </tr>\n",
       "        <tr>\n",
       "            <td>0                      </td> <td>0              </td> <td>0                 </td> <td>0                 </td>\n",
       "        </tr>\n",
       "        <tr>\n",
       "            <td>0                      </td> <td>0              </td> <td>0                 </td> <td>0                 </td>\n",
       "        </tr>\n",
       "        <tr>\n",
       "            <td>0                      </td> <td>0              </td> <td>0                 </td> <td>0                 </td>\n",
       "        </tr>\n",
       "        <tr>\n",
       "            <td>0                      </td> <td>0              </td> <td>0                 </td> <td>0                 </td>\n",
       "        </tr>\n",
       "        <tr>\n",
       "            <td>0                      </td> <td>0              </td> <td>0                 </td> <td>0                 </td>\n",
       "        </tr>\n",
       "        <tr>\n",
       "            <td>0                      </td> <td>0              </td> <td>0                 </td> <td>0                 </td>\n",
       "        </tr>\n",
       "        <tr>\n",
       "            <td>0                      </td> <td>0              </td> <td>0                 </td> <td>0                 </td>\n",
       "        </tr>\n",
       "        <tr>\n",
       "            <td>0                      </td> <td>0              </td> <td>0                 </td> <td>0                 </td>\n",
       "        </tr>\n",
       "        <tr>\n",
       "            <td>0                      </td> <td>0              </td> <td>0                 </td> <td>0                 </td>\n",
       "        </tr>\n",
       "        <tr>\n",
       "            <td>0                      </td> <td>0              </td> <td>0                 </td> <td>0                 </td>\n",
       "        </tr>\n",
       "        <tr>\n",
       "            <td>0                      </td> <td>0              </td> <td>0                 </td> <td>0                 </td>\n",
       "        </tr>\n",
       "        <tr>\n",
       "            <td>0                      </td> <td>0              </td> <td>0                 </td> <td>0                 </td>\n",
       "        </tr>\n",
       "        <tr>\n",
       "            <td>0                      </td> <td>0              </td> <td>0                 </td> <td>0                 </td>\n",
       "        </tr>\n",
       "        <tr>\n",
       "            <td>0                      </td> <td>0              </td> <td>0                 </td> <td>0                 </td>\n",
       "        </tr>\n",
       "        <tr>\n",
       "            <td>0                      </td> <td>0              </td> <td>0                 </td> <td>0                 </td>\n",
       "        </tr>\n",
       "        <tr>\n",
       "            <td>0                      </td> <td>0              </td> <td>0                 </td> <td>0                 </td>\n",
       "        </tr>\n",
       "        <tr>\n",
       "            <td>0                      </td> <td>0              </td> <td>0                 </td> <td>0                 </td>\n",
       "        </tr>\n",
       "        <tr>\n",
       "            <td>0                      </td> <td>0              </td> <td>0                 </td> <td>0                 </td>\n",
       "        </tr>\n",
       "        <tr>\n",
       "            <td>0                      </td> <td>0              </td> <td>0                 </td> <td>0                 </td>\n",
       "        </tr>\n",
       "        <tr>\n",
       "            <td>0                      </td> <td>0              </td> <td>0                 </td> <td>0                 </td>\n",
       "        </tr>\n",
       "        <tr>\n",
       "            <td>0                      </td> <td>0              </td> <td>0                 </td> <td>0                 </td>\n",
       "        </tr>\n",
       "        <tr>\n",
       "            <td>0                      </td> <td>0              </td> <td>0                 </td> <td>0                 </td>\n",
       "        </tr>\n",
       "        <tr>\n",
       "            <td>0                      </td> <td>0              </td> <td>0                 </td> <td>0                 </td>\n",
       "        </tr>\n",
       "        <tr>\n",
       "            <td>0                      </td> <td>0              </td> <td>0                 </td> <td>0                 </td>\n",
       "        </tr>\n",
       "        <tr>\n",
       "            <td>0                      </td> <td>0              </td> <td>0                 </td> <td>0                 </td>\n",
       "        </tr>\n",
       "        <tr>\n",
       "            <td>0                      </td> <td>0              </td> <td>0                 </td> <td>0                 </td>\n",
       "        </tr>\n",
       "        <tr>\n",
       "            <td>0                      </td> <td>0              </td> <td>0                 </td> <td>0                 </td>\n",
       "        </tr>\n",
       "        <tr>\n",
       "            <td>0                      </td> <td>0              </td> <td>0                 </td> <td>0                 </td>\n",
       "        </tr>\n",
       "        <tr>\n",
       "            <td>0                      </td> <td>0              </td> <td>0                 </td> <td>0                 </td>\n",
       "        </tr>\n",
       "        <tr>\n",
       "            <td>0                      </td> <td>0              </td> <td>0                 </td> <td>0                 </td>\n",
       "        </tr>\n",
       "        <tr>\n",
       "            <td>0                      </td> <td>0              </td> <td>0                 </td> <td>0                 </td>\n",
       "        </tr>\n",
       "        <tr>\n",
       "            <td>0                      </td> <td>0              </td> <td>0                 </td> <td>0                 </td>\n",
       "        </tr>\n",
       "        <tr>\n",
       "            <td>0                      </td> <td>0              </td> <td>0                 </td> <td>0                 </td>\n",
       "        </tr>\n",
       "        <tr>\n",
       "            <td>0                      </td> <td>0              </td> <td>0                 </td> <td>0                 </td>\n",
       "        </tr>\n",
       "        <tr>\n",
       "            <td>0                      </td> <td>0              </td> <td>0                 </td> <td>0                 </td>\n",
       "        </tr>\n",
       "        <tr>\n",
       "            <td>0                      </td> <td>0              </td> <td>0                 </td> <td>0                 </td>\n",
       "        </tr>\n",
       "        <tr>\n",
       "            <td>0                      </td> <td>0              </td> <td>0                 </td> <td>0                 </td>\n",
       "        </tr>\n",
       "        <tr>\n",
       "            <td>0                      </td> <td>0              </td> <td>0                 </td> <td>0                 </td>\n",
       "        </tr>\n",
       "        <tr>\n",
       "            <td>0                      </td> <td>0              </td> <td>0                 </td> <td>0                 </td>\n",
       "        </tr>\n",
       "        <tr>\n",
       "            <td>0                      </td> <td>0              </td> <td>0                 </td> <td>0                 </td>\n",
       "        </tr>\n",
       "        <tr>\n",
       "            <td>0                      </td> <td>0              </td> <td>0                 </td> <td>0                 </td>\n",
       "        </tr>\n",
       "        <tr>\n",
       "            <td>0                      </td> <td>0              </td> <td>0                 </td> <td>0                 </td>\n",
       "        </tr>\n",
       "        <tr>\n",
       "            <td>0                      </td> <td>0              </td> <td>0                 </td> <td>0                 </td>\n",
       "        </tr>\n",
       "        <tr>\n",
       "            <td>0                      </td> <td>0              </td> <td>0                 </td> <td>0                 </td>\n",
       "        </tr>\n",
       "        <tr>\n",
       "            <td>0                      </td> <td>0              </td> <td>0                 </td> <td>0                 </td>\n",
       "        </tr>\n",
       "        <tr>\n",
       "            <td>0                      </td> <td>0              </td> <td>0                 </td> <td>0                 </td>\n",
       "        </tr>\n",
       "        <tr>\n",
       "            <td>0                      </td> <td>0              </td> <td>0                 </td> <td>0                 </td>\n",
       "        </tr>\n",
       "        <tr>\n",
       "            <td>0                      </td> <td>0              </td> <td>0                 </td> <td>0                 </td>\n",
       "        </tr>\n",
       "        <tr>\n",
       "            <td>0                      </td> <td>0              </td> <td>0                 </td> <td>0                 </td>\n",
       "        </tr>\n",
       "        <tr>\n",
       "            <td>0                      </td> <td>0              </td> <td>0                 </td> <td>0                 </td>\n",
       "        </tr>\n",
       "        <tr>\n",
       "            <td>0                      </td> <td>0              </td> <td>0                 </td> <td>0                 </td>\n",
       "        </tr>\n",
       "        <tr>\n",
       "            <td>0                      </td> <td>0              </td> <td>0                 </td> <td>0                 </td>\n",
       "        </tr>\n",
       "        <tr>\n",
       "            <td>0                      </td> <td>0              </td> <td>0                 </td> <td>0                 </td>\n",
       "        </tr>\n",
       "        <tr>\n",
       "            <td>0                      </td> <td>0              </td> <td>0                 </td> <td>0                 </td>\n",
       "        </tr>\n",
       "        <tr>\n",
       "            <td>0                      </td> <td>0              </td> <td>0                 </td> <td>0                 </td>\n",
       "        </tr>\n",
       "        <tr>\n",
       "            <td>0                      </td> <td>0              </td> <td>0                 </td> <td>0                 </td>\n",
       "        </tr>\n",
       "        <tr>\n",
       "            <td>0                      </td> <td>0              </td> <td>0                 </td> <td>0                 </td>\n",
       "        </tr>\n",
       "        <tr>\n",
       "            <td>0                      </td> <td>0              </td> <td>0                 </td> <td>0                 </td>\n",
       "        </tr>\n",
       "        <tr>\n",
       "            <td>0                      </td> <td>0              </td> <td>0                 </td> <td>0                 </td>\n",
       "        </tr>\n",
       "        <tr>\n",
       "            <td>0                      </td> <td>0              </td> <td>0                 </td> <td>0                 </td>\n",
       "        </tr>\n",
       "        <tr>\n",
       "            <td>0                      </td> <td>0              </td> <td>0                 </td> <td>0                 </td>\n",
       "        </tr>\n",
       "        <tr>\n",
       "            <td>0                      </td> <td>0              </td> <td>0                 </td> <td>0                 </td>\n",
       "        </tr>\n",
       "    </tbody>\n",
       "</table>"
      ],
      "text/plain": [
       "<IPython.core.display.HTML object>"
      ]
     },
     "metadata": {},
     "output_type": "display_data"
    }
   ],
   "source": [
    "(joined_data\n",
    " .sort(\"Household Median Income\", descending=True)\n",
    " .select(\"Household Median Income\", \"Social Disorder\", \"Positive Amenities\", \"Negative Amenities\")\n",
    ").show()"
   ]
  },
  {
   "cell_type": "markdown",
   "metadata": {},
   "source": [
    "<div class=\"alert alert-info\">\n",
    "\n",
    "**QUESTION:** Did you look at the whole table? A common mistake is to assume that since the top 10 results follow or do not follow a pattern, the rest don't. Real life data is often messy and not clean. Does the correlation continue throughout the whole table (a.k.a. as income decreases the points decrease) or is there no pattern? What does this mean about the data?\n",
    "\n",
    "</div>"
   ]
  },
  {
   "cell_type": "markdown",
   "metadata": {},
   "source": [
    "_Type your answer here, replacing this text._"
   ]
  },
  {
   "cell_type": "markdown",
   "metadata": {},
   "source": [
    "---\n",
    "\n",
    "Eyeballing patterns is not the same as a statisical measure of a correlation; you must quantify it with numbers and statistics to prove your thoughts. Looking at the tables is not a very statistical measure of how much a variable correlates to the results. What does it mean for a variable \"income\" to match 7 out of the top 15 social disorder points? Does this correlate to the rest of the results? How well does it correlate? \n",
    "\n",
    "### The correlation coefficient - *r*\n",
    "\n",
    "> The correlation coefficient ranges from −1 to 1. A value of 1 implies that a linear equation describes the relationship between X and Y perfectly, with all data points lying on a line for which Y increases as X increases. A value of −1 implies that all data points lie on a line for which Y decreases as X increases. A value of 0 implies that there is no linear correlation between the variables. ~Wikipedia\n",
    "\n",
    "*r* = 1: the scatter diagram is a perfect straight line sloping upwards\n",
    "\n",
    "*r* = -1: the scatter diagram is a perfect straight line sloping downwards.\n",
    "\n",
    "Let's calculate the correlation coefficient between acceleration and price. We can use the `corr` method of a DataFrame to generate a correlation matrix of our `joined_data`:"
   ]
  },
  {
   "cell_type": "code",
   "execution_count": 96,
   "metadata": {},
   "outputs": [
    {
     "data": {
      "text/html": [
       "<div>\n",
       "<style scoped>\n",
       "    .dataframe tbody tr th:only-of-type {\n",
       "        vertical-align: middle;\n",
       "    }\n",
       "\n",
       "    .dataframe tbody tr th {\n",
       "        vertical-align: top;\n",
       "    }\n",
       "\n",
       "    .dataframe thead th {\n",
       "        text-align: right;\n",
       "    }\n",
       "</style>\n",
       "<table border=\"1\" class=\"dataframe\">\n",
       "  <thead>\n",
       "    <tr style=\"text-align: right;\">\n",
       "      <th></th>\n",
       "      <th>Unemployment %</th>\n",
       "      <th>Household Median Income</th>\n",
       "      <th>Bachelor's Degree or higher %</th>\n",
       "      <th>% families with income under poverty line</th>\n",
       "      <th>% families with public assistance income</th>\n",
       "      <th>median house value</th>\n",
       "      <th>% white</th>\n",
       "      <th>% black</th>\n",
       "      <th>% asian</th>\n",
       "      <th>% hispanic/latino</th>\n",
       "      <th>% foreign born</th>\n",
       "      <th>% single mother family</th>\n",
       "      <th>Social Disorder</th>\n",
       "      <th>Positive Amenities</th>\n",
       "      <th>Negative Amenities</th>\n",
       "    </tr>\n",
       "  </thead>\n",
       "  <tbody>\n",
       "    <tr>\n",
       "      <th>Unemployment %</th>\n",
       "      <td>1.000000</td>\n",
       "      <td>0.701637</td>\n",
       "      <td>0.784845</td>\n",
       "      <td>0.776118</td>\n",
       "      <td>0.732515</td>\n",
       "      <td>0.805653</td>\n",
       "      <td>0.766517</td>\n",
       "      <td>0.838489</td>\n",
       "      <td>0.691102</td>\n",
       "      <td>0.886727</td>\n",
       "      <td>0.795773</td>\n",
       "      <td>0.881399</td>\n",
       "      <td>0.911032</td>\n",
       "      <td>0.910969</td>\n",
       "      <td>0.910984</td>\n",
       "    </tr>\n",
       "    <tr>\n",
       "      <th>Household Median Income</th>\n",
       "      <td>0.701637</td>\n",
       "      <td>1.000000</td>\n",
       "      <td>0.929926</td>\n",
       "      <td>0.384422</td>\n",
       "      <td>0.390567</td>\n",
       "      <td>0.961215</td>\n",
       "      <td>0.961544</td>\n",
       "      <td>0.386415</td>\n",
       "      <td>0.657196</td>\n",
       "      <td>0.713231</td>\n",
       "      <td>0.711612</td>\n",
       "      <td>0.573332</td>\n",
       "      <td>0.887124</td>\n",
       "      <td>0.887184</td>\n",
       "      <td>0.887166</td>\n",
       "    </tr>\n",
       "    <tr>\n",
       "      <th>Bachelor's Degree or higher %</th>\n",
       "      <td>0.784845</td>\n",
       "      <td>0.929926</td>\n",
       "      <td>1.000000</td>\n",
       "      <td>0.511380</td>\n",
       "      <td>0.398814</td>\n",
       "      <td>0.987660</td>\n",
       "      <td>0.971646</td>\n",
       "      <td>0.441765</td>\n",
       "      <td>0.791499</td>\n",
       "      <td>0.818471</td>\n",
       "      <td>0.853226</td>\n",
       "      <td>0.715767</td>\n",
       "      <td>0.956890</td>\n",
       "      <td>0.956957</td>\n",
       "      <td>0.956932</td>\n",
       "    </tr>\n",
       "    <tr>\n",
       "      <th>% families with income under poverty line</th>\n",
       "      <td>0.776118</td>\n",
       "      <td>0.384422</td>\n",
       "      <td>0.511380</td>\n",
       "      <td>1.000000</td>\n",
       "      <td>0.825014</td>\n",
       "      <td>0.475708</td>\n",
       "      <td>0.439392</td>\n",
       "      <td>0.807523</td>\n",
       "      <td>0.680260</td>\n",
       "      <td>0.785839</td>\n",
       "      <td>0.742181</td>\n",
       "      <td>0.803978</td>\n",
       "      <td>0.701589</td>\n",
       "      <td>0.701474</td>\n",
       "      <td>0.701514</td>\n",
       "    </tr>\n",
       "    <tr>\n",
       "      <th>% families with public assistance income</th>\n",
       "      <td>0.732515</td>\n",
       "      <td>0.390567</td>\n",
       "      <td>0.398814</td>\n",
       "      <td>0.825014</td>\n",
       "      <td>1.000000</td>\n",
       "      <td>0.453021</td>\n",
       "      <td>0.411097</td>\n",
       "      <td>0.849664</td>\n",
       "      <td>0.386313</td>\n",
       "      <td>0.702600</td>\n",
       "      <td>0.486584</td>\n",
       "      <td>0.697000</td>\n",
       "      <td>0.602535</td>\n",
       "      <td>0.602355</td>\n",
       "      <td>0.602428</td>\n",
       "    </tr>\n",
       "    <tr>\n",
       "      <th>median house value</th>\n",
       "      <td>0.805653</td>\n",
       "      <td>0.961215</td>\n",
       "      <td>0.987660</td>\n",
       "      <td>0.475708</td>\n",
       "      <td>0.453021</td>\n",
       "      <td>1.000000</td>\n",
       "      <td>0.989627</td>\n",
       "      <td>0.502436</td>\n",
       "      <td>0.714192</td>\n",
       "      <td>0.828571</td>\n",
       "      <td>0.819837</td>\n",
       "      <td>0.726501</td>\n",
       "      <td>0.960435</td>\n",
       "      <td>0.960488</td>\n",
       "      <td>0.960472</td>\n",
       "    </tr>\n",
       "    <tr>\n",
       "      <th>% white</th>\n",
       "      <td>0.766517</td>\n",
       "      <td>0.961544</td>\n",
       "      <td>0.971646</td>\n",
       "      <td>0.439392</td>\n",
       "      <td>0.411097</td>\n",
       "      <td>0.989627</td>\n",
       "      <td>1.000000</td>\n",
       "      <td>0.442656</td>\n",
       "      <td>0.676789</td>\n",
       "      <td>0.769786</td>\n",
       "      <td>0.748650</td>\n",
       "      <td>0.677038</td>\n",
       "      <td>0.933914</td>\n",
       "      <td>0.933970</td>\n",
       "      <td>0.933955</td>\n",
       "    </tr>\n",
       "    <tr>\n",
       "      <th>% black</th>\n",
       "      <td>0.838489</td>\n",
       "      <td>0.386415</td>\n",
       "      <td>0.441765</td>\n",
       "      <td>0.807523</td>\n",
       "      <td>0.849664</td>\n",
       "      <td>0.502436</td>\n",
       "      <td>0.442656</td>\n",
       "      <td>1.000000</td>\n",
       "      <td>0.377397</td>\n",
       "      <td>0.735516</td>\n",
       "      <td>0.491720</td>\n",
       "      <td>0.804554</td>\n",
       "      <td>0.658975</td>\n",
       "      <td>0.658781</td>\n",
       "      <td>0.658866</td>\n",
       "    </tr>\n",
       "    <tr>\n",
       "      <th>% asian</th>\n",
       "      <td>0.691102</td>\n",
       "      <td>0.657196</td>\n",
       "      <td>0.791499</td>\n",
       "      <td>0.680260</td>\n",
       "      <td>0.386313</td>\n",
       "      <td>0.714192</td>\n",
       "      <td>0.676789</td>\n",
       "      <td>0.377397</td>\n",
       "      <td>1.000000</td>\n",
       "      <td>0.686667</td>\n",
       "      <td>0.958905</td>\n",
       "      <td>0.692011</td>\n",
       "      <td>0.815435</td>\n",
       "      <td>0.815506</td>\n",
       "      <td>0.815455</td>\n",
       "    </tr>\n",
       "    <tr>\n",
       "      <th>% hispanic/latino</th>\n",
       "      <td>0.886727</td>\n",
       "      <td>0.713231</td>\n",
       "      <td>0.818471</td>\n",
       "      <td>0.785839</td>\n",
       "      <td>0.702600</td>\n",
       "      <td>0.828571</td>\n",
       "      <td>0.769786</td>\n",
       "      <td>0.735516</td>\n",
       "      <td>0.686667</td>\n",
       "      <td>1.000000</td>\n",
       "      <td>0.809179</td>\n",
       "      <td>0.819596</td>\n",
       "      <td>0.906189</td>\n",
       "      <td>0.906115</td>\n",
       "      <td>0.906150</td>\n",
       "    </tr>\n",
       "    <tr>\n",
       "      <th>% foreign born</th>\n",
       "      <td>0.795773</td>\n",
       "      <td>0.711612</td>\n",
       "      <td>0.853226</td>\n",
       "      <td>0.742181</td>\n",
       "      <td>0.486584</td>\n",
       "      <td>0.819837</td>\n",
       "      <td>0.748650</td>\n",
       "      <td>0.491720</td>\n",
       "      <td>0.958905</td>\n",
       "      <td>0.809179</td>\n",
       "      <td>1.000000</td>\n",
       "      <td>0.743412</td>\n",
       "      <td>0.885411</td>\n",
       "      <td>0.885459</td>\n",
       "      <td>0.885417</td>\n",
       "    </tr>\n",
       "    <tr>\n",
       "      <th>% single mother family</th>\n",
       "      <td>0.881399</td>\n",
       "      <td>0.573332</td>\n",
       "      <td>0.715767</td>\n",
       "      <td>0.803978</td>\n",
       "      <td>0.697000</td>\n",
       "      <td>0.726501</td>\n",
       "      <td>0.677038</td>\n",
       "      <td>0.804554</td>\n",
       "      <td>0.692011</td>\n",
       "      <td>0.819596</td>\n",
       "      <td>0.743412</td>\n",
       "      <td>1.000000</td>\n",
       "      <td>0.846861</td>\n",
       "      <td>0.846797</td>\n",
       "      <td>0.846809</td>\n",
       "    </tr>\n",
       "    <tr>\n",
       "      <th>Social Disorder</th>\n",
       "      <td>0.911032</td>\n",
       "      <td>0.887124</td>\n",
       "      <td>0.956890</td>\n",
       "      <td>0.701589</td>\n",
       "      <td>0.602535</td>\n",
       "      <td>0.960435</td>\n",
       "      <td>0.933914</td>\n",
       "      <td>0.658975</td>\n",
       "      <td>0.815435</td>\n",
       "      <td>0.906189</td>\n",
       "      <td>0.885411</td>\n",
       "      <td>0.846861</td>\n",
       "      <td>1.000000</td>\n",
       "      <td>1.000000</td>\n",
       "      <td>1.000000</td>\n",
       "    </tr>\n",
       "    <tr>\n",
       "      <th>Positive Amenities</th>\n",
       "      <td>0.910969</td>\n",
       "      <td>0.887184</td>\n",
       "      <td>0.956957</td>\n",
       "      <td>0.701474</td>\n",
       "      <td>0.602355</td>\n",
       "      <td>0.960488</td>\n",
       "      <td>0.933970</td>\n",
       "      <td>0.658781</td>\n",
       "      <td>0.815506</td>\n",
       "      <td>0.906115</td>\n",
       "      <td>0.885459</td>\n",
       "      <td>0.846797</td>\n",
       "      <td>1.000000</td>\n",
       "      <td>1.000000</td>\n",
       "      <td>1.000000</td>\n",
       "    </tr>\n",
       "    <tr>\n",
       "      <th>Negative Amenities</th>\n",
       "      <td>0.910984</td>\n",
       "      <td>0.887166</td>\n",
       "      <td>0.956932</td>\n",
       "      <td>0.701514</td>\n",
       "      <td>0.602428</td>\n",
       "      <td>0.960472</td>\n",
       "      <td>0.933955</td>\n",
       "      <td>0.658866</td>\n",
       "      <td>0.815455</td>\n",
       "      <td>0.906150</td>\n",
       "      <td>0.885417</td>\n",
       "      <td>0.846809</td>\n",
       "      <td>1.000000</td>\n",
       "      <td>1.000000</td>\n",
       "      <td>1.000000</td>\n",
       "    </tr>\n",
       "  </tbody>\n",
       "</table>\n",
       "</div>"
      ],
      "text/plain": [
       "                                           Unemployment %  \\\n",
       "Unemployment %                                   1.000000   \n",
       "Household Median Income                          0.701637   \n",
       "Bachelor's Degree or higher %                    0.784845   \n",
       "% families with income under poverty line        0.776118   \n",
       "% families with public assistance income         0.732515   \n",
       "median house value                               0.805653   \n",
       "% white                                          0.766517   \n",
       "% black                                          0.838489   \n",
       "% asian                                          0.691102   \n",
       "% hispanic/latino                                0.886727   \n",
       "% foreign born                                   0.795773   \n",
       "% single mother family                           0.881399   \n",
       "Social Disorder                                  0.911032   \n",
       "Positive Amenities                               0.910969   \n",
       "Negative Amenities                               0.910984   \n",
       "\n",
       "                                           Household Median Income  \\\n",
       "Unemployment %                                            0.701637   \n",
       "Household Median Income                                   1.000000   \n",
       "Bachelor's Degree or higher %                             0.929926   \n",
       "% families with income under poverty line                 0.384422   \n",
       "% families with public assistance income                  0.390567   \n",
       "median house value                                        0.961215   \n",
       "% white                                                   0.961544   \n",
       "% black                                                   0.386415   \n",
       "% asian                                                   0.657196   \n",
       "% hispanic/latino                                         0.713231   \n",
       "% foreign born                                            0.711612   \n",
       "% single mother family                                    0.573332   \n",
       "Social Disorder                                           0.887124   \n",
       "Positive Amenities                                        0.887184   \n",
       "Negative Amenities                                        0.887166   \n",
       "\n",
       "                                           Bachelor's Degree or higher %  \\\n",
       "Unemployment %                                                  0.784845   \n",
       "Household Median Income                                         0.929926   \n",
       "Bachelor's Degree or higher %                                   1.000000   \n",
       "% families with income under poverty line                       0.511380   \n",
       "% families with public assistance income                        0.398814   \n",
       "median house value                                              0.987660   \n",
       "% white                                                         0.971646   \n",
       "% black                                                         0.441765   \n",
       "% asian                                                         0.791499   \n",
       "% hispanic/latino                                               0.818471   \n",
       "% foreign born                                                  0.853226   \n",
       "% single mother family                                          0.715767   \n",
       "Social Disorder                                                 0.956890   \n",
       "Positive Amenities                                              0.956957   \n",
       "Negative Amenities                                              0.956932   \n",
       "\n",
       "                                           % families with income under poverty line  \\\n",
       "Unemployment %                                                              0.776118   \n",
       "Household Median Income                                                     0.384422   \n",
       "Bachelor's Degree or higher %                                               0.511380   \n",
       "% families with income under poverty line                                   1.000000   \n",
       "% families with public assistance income                                    0.825014   \n",
       "median house value                                                          0.475708   \n",
       "% white                                                                     0.439392   \n",
       "% black                                                                     0.807523   \n",
       "% asian                                                                     0.680260   \n",
       "% hispanic/latino                                                           0.785839   \n",
       "% foreign born                                                              0.742181   \n",
       "% single mother family                                                      0.803978   \n",
       "Social Disorder                                                             0.701589   \n",
       "Positive Amenities                                                          0.701474   \n",
       "Negative Amenities                                                          0.701514   \n",
       "\n",
       "                                           % families with public assistance income   \\\n",
       "Unemployment %                                                              0.732515   \n",
       "Household Median Income                                                     0.390567   \n",
       "Bachelor's Degree or higher %                                               0.398814   \n",
       "% families with income under poverty line                                   0.825014   \n",
       "% families with public assistance income                                    1.000000   \n",
       "median house value                                                          0.453021   \n",
       "% white                                                                     0.411097   \n",
       "% black                                                                     0.849664   \n",
       "% asian                                                                     0.386313   \n",
       "% hispanic/latino                                                           0.702600   \n",
       "% foreign born                                                              0.486584   \n",
       "% single mother family                                                      0.697000   \n",
       "Social Disorder                                                             0.602535   \n",
       "Positive Amenities                                                          0.602355   \n",
       "Negative Amenities                                                          0.602428   \n",
       "\n",
       "                                           median house value   % white  \\\n",
       "Unemployment %                                       0.805653  0.766517   \n",
       "Household Median Income                              0.961215  0.961544   \n",
       "Bachelor's Degree or higher %                        0.987660  0.971646   \n",
       "% families with income under poverty line            0.475708  0.439392   \n",
       "% families with public assistance income             0.453021  0.411097   \n",
       "median house value                                   1.000000  0.989627   \n",
       "% white                                              0.989627  1.000000   \n",
       "% black                                              0.502436  0.442656   \n",
       "% asian                                              0.714192  0.676789   \n",
       "% hispanic/latino                                    0.828571  0.769786   \n",
       "% foreign born                                       0.819837  0.748650   \n",
       "% single mother family                               0.726501  0.677038   \n",
       "Social Disorder                                      0.960435  0.933914   \n",
       "Positive Amenities                                   0.960488  0.933970   \n",
       "Negative Amenities                                   0.960472  0.933955   \n",
       "\n",
       "                                            % black   % asian  \\\n",
       "Unemployment %                             0.838489  0.691102   \n",
       "Household Median Income                    0.386415  0.657196   \n",
       "Bachelor's Degree or higher %              0.441765  0.791499   \n",
       "% families with income under poverty line  0.807523  0.680260   \n",
       "% families with public assistance income   0.849664  0.386313   \n",
       "median house value                         0.502436  0.714192   \n",
       "% white                                    0.442656  0.676789   \n",
       "% black                                    1.000000  0.377397   \n",
       "% asian                                    0.377397  1.000000   \n",
       "% hispanic/latino                          0.735516  0.686667   \n",
       "% foreign born                             0.491720  0.958905   \n",
       "% single mother family                     0.804554  0.692011   \n",
       "Social Disorder                            0.658975  0.815435   \n",
       "Positive Amenities                         0.658781  0.815506   \n",
       "Negative Amenities                         0.658866  0.815455   \n",
       "\n",
       "                                           % hispanic/latino  % foreign born  \\\n",
       "Unemployment %                                      0.886727        0.795773   \n",
       "Household Median Income                             0.713231        0.711612   \n",
       "Bachelor's Degree or higher %                       0.818471        0.853226   \n",
       "% families with income under poverty line           0.785839        0.742181   \n",
       "% families with public assistance income            0.702600        0.486584   \n",
       "median house value                                  0.828571        0.819837   \n",
       "% white                                             0.769786        0.748650   \n",
       "% black                                             0.735516        0.491720   \n",
       "% asian                                             0.686667        0.958905   \n",
       "% hispanic/latino                                   1.000000        0.809179   \n",
       "% foreign born                                      0.809179        1.000000   \n",
       "% single mother family                              0.819596        0.743412   \n",
       "Social Disorder                                     0.906189        0.885411   \n",
       "Positive Amenities                                  0.906115        0.885459   \n",
       "Negative Amenities                                  0.906150        0.885417   \n",
       "\n",
       "                                           % single mother family  \\\n",
       "Unemployment %                                           0.881399   \n",
       "Household Median Income                                  0.573332   \n",
       "Bachelor's Degree or higher %                            0.715767   \n",
       "% families with income under poverty line                0.803978   \n",
       "% families with public assistance income                 0.697000   \n",
       "median house value                                       0.726501   \n",
       "% white                                                  0.677038   \n",
       "% black                                                  0.804554   \n",
       "% asian                                                  0.692011   \n",
       "% hispanic/latino                                        0.819596   \n",
       "% foreign born                                           0.743412   \n",
       "% single mother family                                   1.000000   \n",
       "Social Disorder                                          0.846861   \n",
       "Positive Amenities                                       0.846797   \n",
       "Negative Amenities                                       0.846809   \n",
       "\n",
       "                                           Social Disorder  \\\n",
       "Unemployment %                                    0.911032   \n",
       "Household Median Income                           0.887124   \n",
       "Bachelor's Degree or higher %                     0.956890   \n",
       "% families with income under poverty line         0.701589   \n",
       "% families with public assistance income          0.602535   \n",
       "median house value                                0.960435   \n",
       "% white                                           0.933914   \n",
       "% black                                           0.658975   \n",
       "% asian                                           0.815435   \n",
       "% hispanic/latino                                 0.906189   \n",
       "% foreign born                                    0.885411   \n",
       "% single mother family                            0.846861   \n",
       "Social Disorder                                   1.000000   \n",
       "Positive Amenities                                1.000000   \n",
       "Negative Amenities                                1.000000   \n",
       "\n",
       "                                           Positive Amenities  \\\n",
       "Unemployment %                                       0.910969   \n",
       "Household Median Income                              0.887184   \n",
       "Bachelor's Degree or higher %                        0.956957   \n",
       "% families with income under poverty line            0.701474   \n",
       "% families with public assistance income             0.602355   \n",
       "median house value                                   0.960488   \n",
       "% white                                              0.933970   \n",
       "% black                                              0.658781   \n",
       "% asian                                              0.815506   \n",
       "% hispanic/latino                                    0.906115   \n",
       "% foreign born                                       0.885459   \n",
       "% single mother family                               0.846797   \n",
       "Social Disorder                                      1.000000   \n",
       "Positive Amenities                                   1.000000   \n",
       "Negative Amenities                                   1.000000   \n",
       "\n",
       "                                           Negative Amenities  \n",
       "Unemployment %                                       0.910984  \n",
       "Household Median Income                              0.887166  \n",
       "Bachelor's Degree or higher %                        0.956932  \n",
       "% families with income under poverty line            0.701514  \n",
       "% families with public assistance income             0.602428  \n",
       "median house value                                   0.960472  \n",
       "% white                                              0.933955  \n",
       "% black                                              0.658866  \n",
       "% asian                                              0.815455  \n",
       "% hispanic/latino                                    0.906150  \n",
       "% foreign born                                       0.885417  \n",
       "% single mother family                               0.846809  \n",
       "Social Disorder                                      1.000000  \n",
       "Positive Amenities                                   1.000000  \n",
       "Negative Amenities                                   1.000000  "
      ]
     },
     "execution_count": 96,
     "metadata": {},
     "output_type": "execute_result"
    }
   ],
   "source": [
    "joined_data.to_df().corr()"
   ]
  },
  {
   "cell_type": "markdown",
   "metadata": {},
   "source": [
    "You'll notice that the matrix is mirrored with a `1.000000` going down the diagonal. This matrix yields the correlation coefficient for each variable to every other variable in our data.\n",
    "\n",
    "For example, if we look at the `Social Disorder`, we see that there is a `0.911115` correlation, implying that there is a strong positive relationship between our constructed social disorder variable and the unemployment rate (i.e., as one goes up the other goes up too)."
   ]
  },
  {
   "cell_type": "markdown",
   "metadata": {},
   "source": [
    "<div class=\"alert alert-info\">\n",
    "\n",
    "**QUESTION:** What else do you notice about the correlation values above?\n",
    "\n",
    "</div>"
   ]
  },
  {
   "cell_type": "markdown",
   "metadata": {},
   "source": [
    "_Type your answere here, replacing this text._"
   ]
  },
  {
   "cell_type": "markdown",
   "metadata": {},
   "source": [
    "---\n",
    "\n"
   ]
  },
  {
   "cell_type": "markdown",
   "metadata": {},
   "source": [
    "# Part 5: Regression<a id='regression'></a>\n",
    "\n",
    "We will now use a method called linear regression to make a graph that will show the best fit line that correlates to the data. The slope of the line will show whether it is positively correlated or negatively correlated. The code that we've created so far has helped us establish a relationship between our two variables. Once a relationship has been established, it's time to create a model of the data. To do this we'll find the equation of the **regression line**!\n",
    "\n",
    "The regression line is the **best fit** line for our data. It’s like an average of where all the points line up. In linear regression, the regression line is a perfectly straight line! Below is a picture showing the best fit line.\n",
    "\n",
    "![image](http://onlinestatbook.com/2/regression/graphics/gpa.jpg)\n",
    "\n",
    "As you can infer from the picture, once we find the **slope** and the **y-intercept** we can start predicting values! The equation for the above regression to predict university GPA based on high school GPA would look like this:\n",
    "\n",
    "$\\text{UNIGPA}_i= \\alpha + \\beta \\cdot \\text{HSGPA} + \\epsilon_i$\n",
    "\n",
    "The variable we want to predict (or model) is the left side `y` variable, the variable which we think has an influence on our left side variable is on the right side. The $\\alpha$ term is the y-intercept and the $\\epsilon_i$ describes the randomness.\n",
    "\n",
    "We can set up a visualization to choose which variables we want as `x` and `y` and then plot the line of best fit:"
   ]
  },
  {
   "cell_type": "code",
   "execution_count": 97,
   "metadata": {},
   "outputs": [
    {
     "data": {
      "application/vnd.jupyter.widget-view+json": {
       "model_id": "a6c4f7b892414638b8a33e867d55703b",
       "version_major": 2,
       "version_minor": 0
      },
      "text/plain": [
       "interactive(children=(Dropdown(description='x_variable', options=('Unemployment %', 'Household Median Income',…"
      ]
     },
     "metadata": {},
     "output_type": "display_data"
    }
   ],
   "source": [
    "def f(x_variable, y_variable):\n",
    "    \n",
    "    if \"median house value\" in [x_variable, y_variable]:\n",
    "        drop_na = joined_data.to_df().dropna()  # if not all census tracts have measure\n",
    "        x = drop_na[x_variable]\n",
    "        y = drop_na[y_variable]\n",
    "        \n",
    "    else:\n",
    "        x = joined_data[x_variable]\n",
    "        y = joined_data[y_variable]\n",
    "    \n",
    "    plt.scatter(x, y)\n",
    "    plt.xlabel(x_variable, fontsize=18)\n",
    "    plt.ylabel(y_variable, fontsize=18)\n",
    "    plt.plot(np.unique(x), np.poly1d(np.polyfit(x, y, 1))(np.unique(x)), color=\"r\") #calculate line of best fit\n",
    "    plt.show()\n",
    "    slope, intercept, r_value, p_value, std_err = stats.linregress(x, y) #gets the r_value\n",
    "    print(\"R-squared: \", r_value**2)\n",
    "    \n",
    "display(widgets.interactive(f, x_variable=list(joined_data)[1:], y_variable=list(joined_data)[1:]))"
   ]
  },
  {
   "cell_type": "markdown",
   "metadata": {},
   "source": [
    "***Note:*** The `R-squared` tells us how much of the variation in the data can be explained by our model.\n",
    "\n",
    "Why is this a better method than just sorting tables? First of all, we are now comparing all of the data in the graph to the variable, rather than comparing what our eyes glance quickly over. It shows a more complete picture than just saying \"There are some similar results in the top half of the sorted data\". Second of all, the graph gives a more intuitive sense to see if your variable does match the data. You can quickly see if the data points match up with the regression line. Lastly, the r-squared value will give you a way to quantify how good the variable is to explain the data.\n",
    "\n",
    "One of the beautiful things about computer science and statistics is that you do not need to reinvent the wheel. You don't need to know how to calculate the `R-squared` value, or draw the regression line; someone has already implemented it! You simply need to tell the computer to calculate it. However, if you are interested in these mathematical models, take a data science or statistics course!\n",
    "\n",
    "\n",
    "---\n",
    "## Peer Consulting Office Hours\n",
    "\n",
    "Not quite understand everything covered in this notebook? Curious about concepts covered in this lab at a deeper level? Looking for more data enabled courses with modules like this? **Come to Peer Consulting Office Hours at 1st Floor Moffitt!** Find a Peer Consultant with the expertise you need and get your questions answered: [Office Hours Schedule is linked here]( https://data.berkeley.edu/education/peer-consulting)!\n",
    "\n",
    "\n",
    "## We Want Your Feedback!\n",
    "\n",
    "Help us make your module experience better in future courses: ***Please fill out our short [feedback form](https://docs.google.com/forms/d/e/1FAIpQLSeNqihorZpaqKZPEUfGp45llXEqliSK9-mNGf4qJCwb4MapAw/viewform?usp=pp_url)!***\n",
    "\n",
    "---\n",
    "\n",
    "Fall 2018 Notebook developed by: Keeley Takimoto, Anna Nguyen, Taj Shaik, Keiko Kamei\n",
    "\n",
    "Adapted from Spring 2018 and Fall 2017 materials by: Anna Nguyen, Sujude Dalieh, Michaela Palmer, Gavin Poe, Theodore Tran \n",
    "\n",
    "Data Science Modules: http://data.berkeley.edu/education/modules"
   ]
  },
  {
   "cell_type": "markdown",
   "metadata": {},
   "source": [
    " "
   ]
  }
 ],
 "metadata": {
  "@webio": {
   "lastCommId": null,
   "lastKernelId": null
  },
  "anaconda-cloud": {},
  "kernelspec": {
   "display_name": "Python 3",
   "language": "python",
   "name": "python3"
  },
  "language_info": {
   "codemirror_mode": {
    "name": "ipython",
    "version": 3
   },
   "file_extension": ".py",
   "mimetype": "text/x-python",
   "name": "python",
   "nbconvert_exporter": "python",
   "pygments_lexer": "ipython3",
   "version": "3.6.8"
  },
  "varInspector": {
   "cols": {
    "lenName": 16,
    "lenType": 16,
    "lenVar": 40
   },
   "kernels_config": {
    "python": {
     "delete_cmd_postfix": "",
     "delete_cmd_prefix": "del ",
     "library": "var_list.py",
     "varRefreshCmd": "print(var_dic_list())"
    },
    "r": {
     "delete_cmd_postfix": ") ",
     "delete_cmd_prefix": "rm(",
     "library": "var_list.r",
     "varRefreshCmd": "cat(var_dic_list()) "
    }
   },
   "types_to_exclude": [
    "module",
    "function",
    "builtin_function_or_method",
    "instance",
    "_Feature"
   ],
   "window_display": false
  }
 },
 "nbformat": 4,
 "nbformat_minor": 2
}
