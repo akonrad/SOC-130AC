{
 "cells": [
  {
   "cell_type": "markdown",
   "metadata": {},
   "source": [
    "# Sociology 130AC Module: \"The Neighborhood Project\""
   ]
  },
  {
   "cell_type": "markdown",
   "metadata": {},
   "source": [
    "Context tile."
   ]
  },
  {
   "cell_type": "markdown",
   "metadata": {},
   "source": [
    "Welcome to the data science part of your project! You have gathered data from census tracts and now it is time to quantify your observations using Python for basic data science. However, you will not need any prior programming knowledge as the purpose is not to teach you programming, but rather show you the powers of programming to real life applications."
   ]
  },
  {
   "cell_type": "markdown",
   "metadata": {},
   "source": [
    "First, we have to import basic data science libraries. These libraries allow us manipulate the data easily as well as have great visualizations. If you are interested in what these are:numPy is a scientific computing library, Pandas is a data analysis library and matplotlib is a data visualization library."
   ]
  },
  {
   "cell_type": "code",
   "execution_count": 1,
   "metadata": {
    "collapsed": true
   },
   "outputs": [],
   "source": [
    "import pandas as pd\n",
    "from datascience import *\n",
    "import numpy as np\n",
    "import matplotlib.pyplot as plt\n",
    "from ipywidgets import *\n",
    "%matplotlib inline"
   ]
  },
  {
   "cell_type": "markdown",
   "metadata": {
    "collapsed": true
   },
   "source": [
    "After crowdsourcing your data and the rest of the class, we will use a library called Folium to map your observations onto a map of San Francisco(NOT SURE LOCATION YET????). Click on a marker below to see a pop-up of the data at a particular point. Try to find the census tract you visited and see if the data you collected is there! \n",
    "\n",
    "Next, click around census tracts near yours to see if the other students' observations are similar and see if you can eyeball any trends. Check out other areas on the map and see if there are trends around \"good\" neighborhoods and \"bad\" neighborhoods. Do \"bad\" and \"good\" neighborhoods have similar trends in data? Which types of data do you think correlate the most to how safe a neighborhood is? On a larger scale, what do you think defines a good neighborhood or a bad neighborhood?\n",
    "\n",
    "After you have made some predictions, we will analyze some important factors contributing to neighborhoods. As you know, good and bad are very subjective terms, so instead, it is more scientific to analyze factors that contribute to good neighborhoods, such as income, education, and employment rates. We have turned your data into a point scale and will compare your data to the offical data from American Fact Finder. Let's get started!"
   ]
  },
  {
   "cell_type": "code",
   "execution_count": 69,
   "metadata": {
    "scrolled": true
   },
   "outputs": [
    {
     "data": {
      "text/html": [
       "<div style=\"width:100%;\"><div style=\"position:relative;width:100%;height:0;padding-bottom:60%;\"><iframe src=\"data:text/html;charset=utf-8;base64,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\" style=\"position:absolute;width:100%;height:100%;left:0;top:0;border:none !important;\" allowfullscreen webkitallowfullscreen mozallowfullscreen></iframe></div></div>"
      ],
      "text/plain": [
       "<folium.folium.Map at 0x2a45cd85208>"
      ]
     },
     "execution_count": 69,
     "metadata": {},
     "output_type": "execute_result"
    }
   ],
   "source": [
    "import folium\n",
    "from IPython.display import HTML, display\n",
    "\n",
    "LDN_COORDINATES = (37.7749, -122.4194)\n",
    "myMap = folium.Map(location=LDN_COORDINATES, zoom_start=12)\n",
    "\n",
    "#Folium formats popup windows in html format\n",
    "html_1=\"\"\"\n",
    "    <h3>Good Neighborhood</h3>\n",
    "    <img\n",
    "       src = http://images.glaciermedia.ca/polopoly_fs/1.1827657.1429305764!/fileImage/httpImage/image.jpg_gen/derivatives/original_size/vancouver-single-family-home-neighbourhood-street.jpg\n",
    "       style=\"width:180px;height:128px;\"\n",
    "       >\n",
    "    <p>\n",
    "       \"This neighborhood seemed really nice to our group\"\n",
    "    </p>\n",
    "    <p>\n",
    "       # of cigarette buds: 0\n",
    "    </p>\n",
    "    \"\"\"\n",
    "\n",
    "html_2=\"\"\"\n",
    "    <h3>Bad Neighborhood</h3>\n",
    "    <img\n",
    "        src = http://static.lakana.com/nxsglobal/lasvegasnow/photo/2015/06/23/bad%20neighborhood_1435097179455_1625324_ver1.0_640_360.jpg\n",
    "        style=\"width:180px;height:128px;\"\n",
    "        >\n",
    "    <p>\n",
    "        \"This neighborhood didn't seem safe\"\n",
    "    </p>\n",
    "    <p>\n",
    "        # of cigarette buds: 100\n",
    "    </p>\n",
    "    \"\"\"\n",
    "\n",
    "\n",
    "folium.Marker([37.803, -122.435], \n",
    "              popup=folium.Popup(folium.IFrame(html=html_1, width=200, height=300), max_width=2650)).add_to(myMap)\n",
    "folium.Marker([37.765, -122.415], \n",
    "              popup=folium.Popup(folium.IFrame(html=html_2, width=200, height=300), max_width=2650)).add_to(myMap)\n",
    "\n",
    "myMap"
   ]
  },
  {
   "cell_type": "markdown",
   "metadata": {
    "collapsed": true
   },
   "source": [
    "First let's put all of the data onto a table. Graphs are nice for visualization to get a general idea, but it's a lot easier to manipulate graphs to get concrete results. The table below should show five columns: The first column should be the census tract, the seccond column is the points it received based on your survey, the third column is income, the fourth column is employment, and the fifth column is education level. Find your census tract and see if the income and employment and education level is what you expected to be based on your thoughts about the neighborhood."
   ]
  },
  {
   "cell_type": "code",
   "execution_count": null,
   "metadata": {
    "collapsed": true
   },
   "outputs": [],
   "source": [
    "#put all of our data into one table"
   ]
  },
  {
   "cell_type": "markdown",
   "metadata": {},
   "source": [
    "Let's first analyze income levels. We have sorted the data according to income level. Compare the income levels to the neighborhood points. Is there a correlation you can spot(as one increases or decreases, does the other do the same)?\n",
    "\n",
    "Did you look at the whole table? A common mistake is to assume that since the top 10 results follow or do not follow a pattern, the rest don't. Real life data is often messy and not clean. Does the correlation continue throughout the whole table(a.k.a. as income decreases the points decrease) or is there no pattern? What does this mean about the data?\n",
    "\n",
    "What about vice versa? Sort the table by points by changing the column name after \"sort\" from 'income' to 'points'. Is there still a correlation? Is it stronger or weaker? What does this imply? Does it imply anything?"
   ]
  },
  {
   "cell_type": "code",
   "execution_count": null,
   "metadata": {
    "collapsed": true
   },
   "outputs": [],
   "source": [
    "#sort by income\n",
    "#"
   ]
  },
  {
   "cell_type": "markdown",
   "metadata": {},
   "source": [
    "Now let's analyze education levels and employment. Sort the table by changing the sort to the either \"education\" or \"employment\" and try to find correlations between the factors and the neighborhood points."
   ]
  },
  {
   "cell_type": "code",
   "execution_count": null,
   "metadata": {
    "collapsed": true
   },
   "outputs": [],
   "source": [
    "#maybe we should just comment code and\n",
    "# let them uncomment it to sort it??? tell them to take out the hashtag and put hashtags around the other ones?"
   ]
  },
  {
   "cell_type": "markdown",
   "metadata": {},
   "source": [
    "As keen as your eyes are or aren't, a good analysis isn't based on just what you see; you must quantify it with numbers and statistics to prove your thoughts. Here is the list of all of the census tracts and in every column is a data type that you collected. Right now, the data is sorted by the column 'cigarette butts found' in descending order. To change how it is sorted, simply change the column name to the column you want to sort it by, i.e. 'children playing'. Make sure the name of the column is in quotes! Also, if you want it in ascending order, change the descending to ascending. Also, you can change the amount of results it returns by changing the number inside the list command.\n",
    "\n",
    "Play around with sorting different columns and attributes. Which sorted column leads to many similar results as the official data of best and worst neighborhoods?"
   ]
  },
  {
   "cell_type": "code",
   "execution_count": null,
   "metadata": {
    "collapsed": true
   },
   "outputs": [],
   "source": [
    "#table of data they collected. Sorted by cigarette butts and top 15 search results.\n",
    "#was thinking we have examples of how to sort data? the other possibility I could think of was to \n",
    "#add more cells with the code written for each data sorted."
   ]
  },
  {
   "cell_type": "markdown",
   "metadata": {},
   "source": [
    "As keen as your eyes are or aren't, a good analysis isn't based on just what you see; you must quantify it with numbers and statistics to prove your thoughts. This is not a very statistical measure of how much a variable correlates to the results. What does it mean for a variable \"income\" to match 7 out of the top 15 neighborhood points? Does this correlate to the rest of the results? How well does it correlate? We will now use a method called linear regression to make a graph that will show the best fit line that correlates to the data. The variable \"r squared\" is a measure of how close the data is to the fitted regression line. 0 means the variable explains none of the variability of the data while 1 means it explains all of the variability in the data.\n",
    "\n",
    "Again, change the names of the columns to change which variable you want to create your linear regression model to. The graph will give you a better sense of the whole data rather than just sorting columns like you did above. The R-squared value will give you an exact \"goodness-of fit\" value for your model. \n",
    "\n",
    "Why is this a better method than just sorting tables? First of all, we are now comparing all of the data in the graph to the variable, rather than comparing what our eyes glance quickly over. It shows a more complete picture than just saying \"There are some similar results in the top half of the sorted data\". Second of all, the graph gives a more intuitive sense to see if your variable does match the data. You can quickly see if the data points match up with the regression line. Lastly, the r-squared value will give you a way to quantify how good the variable is to explain the data."
   ]
  },
  {
   "cell_type": "code",
   "execution_count": null,
   "metadata": {
    "collapsed": true
   },
   "outputs": [],
   "source": [
    "#linear regression model of x being a column and y being the neighborhoods.\n",
    "#just to see how well they correlate. Could write all the code out for them"
   ]
  },
  {
   "cell_type": "markdown",
   "metadata": {},
   "source": [
    "Let's improve on our model even further. Right now we are choosing only one variable to try to explain our data. But in real life, there is not only one factor that contributes to a good or bad neighborhood; so why are we trying to explain it using only one variable? No wonder it's difficult to get the whole picture! We will now use multiple regression to use 2(or 3) variables to make our model even more accurate. Try changing up the column names to see close your regression line is now!"
   ]
  },
  {
   "cell_type": "code",
   "execution_count": null,
   "metadata": {
    "collapsed": true
   },
   "outputs": [],
   "source": [
    "#Multiple regression with two or three variables? Having a slider to adjust weights?\n",
    "#not sure if we could do this if our table only has five rows. Does it really make sense? \n",
    "#maybe instead make them use linear regression on different colums other neighborhood points?"
   ]
  }
 ],
 "metadata": {
  "kernelspec": {
   "display_name": "Python 3",
   "language": "python",
   "name": "python3"
  },
  "language_info": {
   "codemirror_mode": {
    "name": "ipython",
    "version": 3
   },
   "file_extension": ".py",
   "mimetype": "text/x-python",
   "name": "python",
   "nbconvert_exporter": "python",
   "pygments_lexer": "ipython3",
   "version": "3.6.1"
  }
 },
 "nbformat": 4,
 "nbformat_minor": 2
}
