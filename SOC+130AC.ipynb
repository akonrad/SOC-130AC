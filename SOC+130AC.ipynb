{
 "cells": [
  {
   "cell_type": "markdown",
   "metadata": {},
   "source": [
    "# Sociology 130AC Module: \"The Neighborhood Project\""
   ]
  },
  {
   "cell_type": "markdown",
   "metadata": {},
   "source": [
    "Context tile."
   ]
  },
  {
   "cell_type": "markdown",
   "metadata": {},
   "source": [
    "Welcome to the data science part of your project! You have gathered data from census tracts and now it is time to quantify your observations using Python for basic data science. However, you will not need any prior programming knowledge as the purpose is not to teach you programming, but rather show you the powers of programming to real life applications."
   ]
  },
  {
   "cell_type": "markdown",
   "metadata": {},
   "source": [
    "First, we have to import basic data science libraries. numPy is a scientific computing library and Pandas is a data analysis library and these libraries allow us manipulate the data easily."
   ]
  },
  {
   "cell_type": "code",
   "execution_count": 1,
   "metadata": {
    "collapsed": true
   },
   "outputs": [],
   "source": [
    "import pandas as pd\n",
    "from datascience import *\n",
    "import numpy as np\n",
    "import matplotlib.pyplot as plt\n",
    "from ipywidgets import *\n",
    "%matplotlib inline"
   ]
  },
  {
   "cell_type": "markdown",
   "metadata": {
    "collapsed": true
   },
   "source": [
    "After crowdsourcing your data and the rest of the class, we will use a library called Folium to map your observations onto a map of San Francisco(NOT SURE LOCATION YET????). Click on a marker below to see a pop-up of the data at a particular point. Try to find the census tract you visited and see if the data you collected is there! \n",
    "\n",
    "Next, click around census tracts near yours to see if the other students' observations are similar and see if you can eyeball any trends. Check out other areas on the map and see if there are trends around \"good\" neighborhoods and \"bad\" neighborhoods. Do neighborhoods that you consider \"bad\" have similar data while \"good\" neighborhoods have different data? Which types of data do you think correlate the most to how safe a neighborhood is? What do you think are good neighborhoods and bad neighborhoods?"
   ]
  },
  {
   "cell_type": "code",
   "execution_count": 2,
   "metadata": {},
   "outputs": [
    {
     "data": {
      "text/html": [
       "\n",
       "<div id=\"folium_c6bd85b2333c4b1e91158e3cbd8787d0\" style=\"width: 100%; height: 100%\"></div>\n",
       "\n",
       "<script>\n",
       "\n",
       "  var make_plot = function(){\n",
       "    if (typeof L === 'undefined'){\n",
       "      window.addEventListener('leaflet_libs_loaded', make_plot)\n",
       "      return;\n",
       "    }\n",
       "\n",
       "    var render_plot = (function(){\n",
       "\n",
       "      \n",
       "\n",
       "      var map = L.map('folium_c6bd85b2333c4b1e91158e3cbd8787d0').setView([37.7749, -122.4194], 12);\n",
       "\n",
       "      L.tileLayer('https://{s}.tile.openstreetmap.org/{z}/{x}/{y}.png', {\n",
       "          maxZoom: 18,\n",
       "          minZoom: 1,\n",
       "          attribution: 'Map data (c) <a href=\"http://openstreetmap.org\">OpenStreetMap</a> contributors'\n",
       "      }).addTo(map);\n",
       "\n",
       "      \n",
       "\n",
       "      \n",
       "\n",
       "      \n",
       "\n",
       "      \n",
       "\n",
       "      \n",
       "\n",
       "    })();\n",
       "\n",
       "  };\n",
       "\n",
       "  make_plot();\n",
       "\n",
       "</script>"
      ],
      "text/plain": [
       "<folium.folium.Map at 0x1e36a353da0>"
      ]
     },
     "execution_count": 2,
     "metadata": {},
     "output_type": "execute_result"
    }
   ],
   "source": [
    "import folium\n",
    "from IPython.display import HTML, display\n",
    "LDN_COORDINATES = (37.7749, -122.4194)\n",
    "myMap = folium.Map(location=LDN_COORDINATES, zoom_start=12)\n",
    "\n",
    "#load csv file\n",
    "#folium.Marker([37.7749, -122.4192], popup='Mt. Hood Meadows').add_to(myMap)\n",
    "\n",
    "myMap._build_map()\n",
    "#mapWidth, mapHeight = (400,500) # width and height of the displayed iFrame, in pixels\n",
    "#srcdoc = myMap.HTML.replace('\"', '&quot;')\n",
    "#embed = HTML('<iframe srcdoc=\"{}\" '\n",
    "#             'style=\"width: {}px; height: {}px; display:block; width: 50%; margin: 0 auto; '\n",
    "#             'border: none\"></iframe>'.format(srcdoc, mapWidth, mapHeight))\n",
    "#embed\n",
    "myMap"
   ]
  },
  {
   "cell_type": "markdown",
   "metadata": {
    "collapsed": true
   },
   "source": [
    "Let's see if you are right! Here is the data of the ranking of best neighborhoods in the area(DEPENDS ON WHAT DATA WE HAVE)."
   ]
  },
  {
   "cell_type": "code",
   "execution_count": null,
   "metadata": {
    "collapsed": true
   },
   "outputs": [],
   "source": [
    "#importing data files of census tracts and sorting them from best/safe/good(I'm not sure what data exists) \n",
    "#and showing top 15 results"
   ]
  },
  {
   "cell_type": "markdown",
   "metadata": {},
   "source": [
    "And here are the rankings of the worst neighborhoods. Were your predictions about which neighborhoods were the best and worst correct? "
   ]
  },
  {
   "cell_type": "code",
   "execution_count": null,
   "metadata": {
    "collapsed": true
   },
   "outputs": [],
   "source": [
    "#importing files of census tracts and sorting them from worst/dangerous/bad\n",
    "#and showing top 15 results"
   ]
  },
  {
   "cell_type": "markdown",
   "metadata": {},
   "source": [
    "As keen as your eyes are or aren't, a good analysis isn't based on just what you see; you must quantify it with numbers and statistics to prove your thoughts. Here is the list of all of the census tracts and in every column is a data type that you collected. Right now, the data is sorted by the column 'cigarette butts found' in descending order. To change how it is sorted, simply change the column name to the column you want to sort it by, i.e. 'children playing'. Make sure the name of the column is in quotes! Also, if you want it in ascending order, change the descending to ascending. Also, you can change the amount of results it returns by changing the number inside the list command.\n",
    "\n",
    "Play around with sorting different columns and attributes. Which sorted column leads to many similar results as the official data of best and worst neighborhoods?"
   ]
  },
  {
   "cell_type": "code",
   "execution_count": null,
   "metadata": {
    "collapsed": true
   },
   "outputs": [],
   "source": [
    "#table of data they collected. Sorted by cigarette butts and top 15 search results."
   ]
  },
  {
   "cell_type": "markdown",
   "metadata": {},
   "source": [
    "However, this is not a very statistical measure of how much a variable correlates to the results. What does it mean for a variable \"cigarette butts\" to match 7 out of the top 15 results? Does this correlate to the rest of the results? We will now use a method called linear regression to make a graph that will show the best fit line that correlates to the data. The variable \"r squared\" is a measure of how close the data is to the fitted regression line. 0 means the variable explains none of the variability of the data while 1 means it explains all of the variability in the data.\n",
    "\n",
    "Again, change the names of the columns to change which variable you want to create your linear regression model to. The graph will give you a better sense of the whole data rather than just sorting columns like you did above. The R-squared value will give you an exact \"goodness-of fit\" value for your model. \n",
    "\n",
    "Why is this a better method than just sorting tables? First of all, we are now comparing all of the data in the graph to the variable, rather than comparing only the top 15 results. It shows a more complete picture than just saying \"There are some similar results in the top half of the sorted data\". Second of all, the graph gives a more intuitive sense to see if your variable does match the data. You can quickly see if the data points match up with the regression line. Lastly, the r-squared value will give you a way to quantify how good the variable is to explain the data."
   ]
  },
  {
   "cell_type": "code",
   "execution_count": null,
   "metadata": {
    "collapsed": true
   },
   "outputs": [],
   "source": [
    "#linear regression model of x being a column and y being the neighborhoods.\n",
    "#I was thinking that we could rank the neighborhoods from 1-100(or 1-70 if there are 70 neighborhoods)\n",
    "#and use those as data points. \n",
    "#the cell above is not very well phrased and I will fix it up later. Just giving a general idea of what I was thinking."
   ]
  },
  {
   "cell_type": "markdown",
   "metadata": {},
   "source": [
    "Let's improve on our model even further. Right now we are choosing only one variable to try to explain our data. But in real life, there is not only one factor that contributes to a good or bad neighborhood; so why are we trying to explain it using only one variable? No wonder it's difficult to get the whole picture! We will now use multiple regression to use 2(or 3) variables to make our model even more accurate. Try changing up the column names to see close your regression line is now!"
   ]
  },
  {
   "cell_type": "code",
   "execution_count": null,
   "metadata": {
    "collapsed": true
   },
   "outputs": [],
   "source": [
    "#Multiple regression with two or three variables? Having a slider to adjust weights?\n",
    "#I'm not an expert on multiple regression or changing weights so I'mm not sure what we could do here as a last step."
   ]
  }
 ],
 "metadata": {
  "kernelspec": {
   "display_name": "Python 3",
   "language": "python",
   "name": "python3"
  },
  "language_info": {
   "codemirror_mode": {
    "name": "ipython",
    "version": 3
   },
   "file_extension": ".py",
   "mimetype": "text/x-python",
   "name": "python",
   "nbconvert_exporter": "python",
   "pygments_lexer": "ipython3",
   "version": "3.6.1"
  }
 },
 "nbformat": 4,
 "nbformat_minor": 2
}
