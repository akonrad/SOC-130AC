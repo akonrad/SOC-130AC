{
 "cells": [
  {
   "cell_type": "markdown",
   "metadata": {},
   "source": [
    "Run the code cell below with the ▶| button above to set up this notebook, or type `SHIFT-ENTER`:"
   ]
  },
  {
   "cell_type": "code",
   "execution_count": 1,
   "metadata": {
    "collapsed": true
   },
   "outputs": [],
   "source": [
    "!pip install --no-cache-dir -U -q folium\n",
    "import pandas as pd\n",
    "import geojson\n",
    "import geopy\n",
    "import numpy as np\n",
    "import matplotlib.pyplot as plt\n",
    "import folium\n",
    "from datascience import *\n",
    "from IPython.display import HTML, display, IFrame\n",
    "from folium import plugins\n",
    "%matplotlib inline\n",
    "from sklearn import linear_model\n",
    "from scipy import stats\n",
    "import os\n",
    "import ipywidgets as widgets\n",
    "from soc_module import *\n",
    "import random\n",
    "import warnings\n",
    "warnings.filterwarnings('ignore')\n",
    "import seaborn as sns\n",
    "sns.set()\n",
    "\n",
    "from datetime import datetime"
   ]
  },
  {
   "cell_type": "markdown",
   "metadata": {},
   "source": [
    "# Sociology 130AC Module: \"The Neighborhood Project\"\n",
    "\n",
    "Welcome to the data science part of your project! You have gathered data and entered it [here](https://goo.gl/forms/eY1mephilS6VqAT83) from your assigned census tracts.  Now it's time to explore our class data and quantify our observations using Python, a popular programming language used in data science. \n",
    "\n",
    "You won't need any prior programming knowledge to do this! The purpose of this module is not to teach you programming, but rather to show you the power of these tools and give you the intuition for how they work. It also allows us to quickly produce summarizations of our data!\n",
    "\n",
    "## Table of Contents\n",
    "\n",
    "0 - [Python and Jupyter Notebooks](#jupyter)\n",
    "\n",
    "1 - [Class Data](#yourdata)\n",
    "\n",
    "2 - [Our Metrics](#ourmetrics)\n",
    "\n",
    "3 - [Census Data](#census)\n",
    "\n",
    "4 - [Correlation](#correlation)\n",
    "\n",
    "5 - [Regression](#regression)"
   ]
  },
  {
   "cell_type": "markdown",
   "metadata": {},
   "source": [
    "# Part 0: Introduction to Python and Jupyter Notebooks: <a id='jupyter'></a>\n",
    "\n",
    "## 1. Cells, Arithmetic, and Code\n",
    "In a notebook, each rectangle containing text or code is called a *cell*.\n",
    "\n",
    "Cells (like this one) can be edited by double-clicking on them. This cell is a text cell, written in a simple format called [Markdown](http://daringfireball.net/projects/markdown/syntax) to add formatting and section headings.  You don't need to worry about Markdown today, but it's a pretty fun+easy tool to learn.\n",
    "\n",
    "After you edit a cell, click the \"run cell\" button at the top that looks like ▶| to confirm any changes. (Try not to delete the instructions.) You can also press `SHIFT-ENTER` to run any cell or progress from one cell to the next.\n",
    "\n",
    "Other cells contain code in the Python programming language.  Running a code cell will execute all of the code it contains.\n",
    "\n",
    "Try running this cell:"
   ]
  },
  {
   "cell_type": "code",
   "execution_count": 2,
   "metadata": {},
   "outputs": [
    {
     "name": "stdout",
     "output_type": "stream",
     "text": [
      "Hello, World!\n"
     ]
    }
   ],
   "source": [
    "print(\"Hello, World!\")"
   ]
  },
  {
   "cell_type": "markdown",
   "metadata": {},
   "source": [
    "We will now quickly go through some very basic functionality of Python, which we'll be using throughout the rest of this notebook.\n",
    "\n",
    "### 1.1 Arithmetic\n",
    "Quantitative information arises everywhere in data science. In addition to representing commands to `print` out lines, expressions can represent numbers and methods of combining numbers. \n",
    "\n",
    "The expression `3.2500` evaluates to the number 3.25. (Run the cell and see.)"
   ]
  },
  {
   "cell_type": "code",
   "execution_count": 3,
   "metadata": {},
   "outputs": [
    {
     "data": {
      "text/plain": [
       "3.25"
      ]
     },
     "execution_count": 3,
     "metadata": {},
     "output_type": "execute_result"
    }
   ],
   "source": [
    "3.2500"
   ]
  },
  {
   "cell_type": "markdown",
   "metadata": {},
   "source": [
    "We don't necessarily always need to say \"`print`\", because Jupyter always prints the last line in a code cell. If you want to print more than one line, though, do specify \"`print`\"."
   ]
  },
  {
   "cell_type": "code",
   "execution_count": 4,
   "metadata": {},
   "outputs": [
    {
     "name": "stdout",
     "output_type": "stream",
     "text": [
      "3\n"
     ]
    },
    {
     "data": {
      "text/plain": [
       "5"
      ]
     },
     "execution_count": 4,
     "metadata": {},
     "output_type": "execute_result"
    }
   ],
   "source": [
    "print(3)\n",
    "4\n",
    "5"
   ]
  },
  {
   "cell_type": "markdown",
   "metadata": {},
   "source": [
    "Many basic arithmetic operations are built in to Python, like `*` (multiplication), `+` (addition), `-` (subtraction), and `/` (division). There are many others, which you can find information about [here](http://www.inferentialthinking.com/chapters/03/1/expressions.html). Use parenthesis to specify the order of operations, which act according to PEMDAS, just as you may have learned in school. Use parentheses for a happy new year!"
   ]
  },
  {
   "cell_type": "code",
   "execution_count": 5,
   "metadata": {},
   "outputs": [
    {
     "data": {
      "text/plain": [
       "2018.0"
      ]
     },
     "execution_count": 5,
     "metadata": {},
     "output_type": "execute_result"
    }
   ],
   "source": [
    "2 + (6 * 5 - (6 * 3)) ** 2 * (( 2 ** 3 ) / 4 * 7)"
   ]
  },
  {
   "cell_type": "markdown",
   "metadata": {},
   "source": [
    "### 1.2 Variables\n",
    "\n",
    "We sometimes want to work with the result of some computation more than once. To be able to do that without repeating code everywhere we want to use it, we can store it in a variable with *assignment statements*, which have the variable name on the left, an equals sign, and the expression to be evaluated and stored on the right. In the cell below, `(3 * 11 + 5) / 2 - 9` evaluates to 10, and gets stored in the variable `result`."
   ]
  },
  {
   "cell_type": "code",
   "execution_count": 6,
   "metadata": {
    "collapsed": true
   },
   "outputs": [],
   "source": [
    "result = (3 * 11 + 5) / 2 - 9"
   ]
  },
  {
   "cell_type": "code",
   "execution_count": 7,
   "metadata": {},
   "outputs": [
    {
     "data": {
      "text/plain": [
       "10.0"
      ]
     },
     "execution_count": 7,
     "metadata": {},
     "output_type": "execute_result"
    }
   ],
   "source": [
    "result"
   ]
  },
  {
   "cell_type": "markdown",
   "metadata": {},
   "source": [
    "## 2. Functions\n",
    "\n",
    "    \n",
    "One important form of an expression is the call expression, which first names a function and then describes its arguments. The function returns some value, based on its arguments. Some important mathematical functions are:\n",
    "\n",
    "| Function | Description                                                   |\n",
    "|----------|---------------------------------------------------------------|\n",
    "| `abs`      | Returns the absolute value of its argument                    |\n",
    "| `max`      | Returns the maximum of all its arguments                      |\n",
    "| `min`      | Returns the minimum of all its arguments                      |\n",
    "| `round`    | Round its argument to the nearest integer                     |\n",
    "\n",
    "Here are two call expressions that both evaluate to 3\n",
    "\n",
    "```python\n",
    "abs(2 - 5)\n",
    "max(round(2.8), min(pow(2, 10), -1 * pow(2, 10)))\n",
    "```\n",
    "\n",
    "These function calls first evaluate the expressions in the arguments (inside the parentheses), then evaluate the function on the results. `abs(2-5)` evaluates first to `abs(3)`, then returns `3`.\n",
    "\n",
    "A **statement** is a whole line of code.  Some statements are just expressions, like the examples above, that can be broken down into its subexpressions which get evaluated individually before evaluating the statement as a whole.\n"
   ]
  },
  {
   "cell_type": "markdown",
   "metadata": {},
   "source": [
    "### 2.1 Calling functions\n",
    "\n",
    "The most common way to combine or manipulate values in Python is by calling functions. Python comes with many built-in functions that perform common operations.\n",
    "\n",
    "For example, the `abs` function takes a single number as its argument and returns the absolute value of that number.  The absolute value of a number is its distance from 0 on the number line, so `abs(5)` is 5 and `abs(-5)` is also 5."
   ]
  },
  {
   "cell_type": "code",
   "execution_count": 8,
   "metadata": {},
   "outputs": [
    {
     "data": {
      "text/plain": [
       "5"
      ]
     },
     "execution_count": 8,
     "metadata": {},
     "output_type": "execute_result"
    }
   ],
   "source": [
    "abs(5)"
   ]
  },
  {
   "cell_type": "code",
   "execution_count": 9,
   "metadata": {},
   "outputs": [
    {
     "data": {
      "text/plain": [
       "5"
      ]
     },
     "execution_count": 9,
     "metadata": {},
     "output_type": "execute_result"
    }
   ],
   "source": [
    "abs(-5)"
   ]
  },
  {
   "cell_type": "markdown",
   "metadata": {},
   "source": [
    "Functions can be called as above, putting the argument in parentheses at the end, or by using \"dot notation\", and calling the function after finding the arguments, as in the cell immediately below."
   ]
  },
  {
   "cell_type": "code",
   "execution_count": 10,
   "metadata": {
    "collapsed": true
   },
   "outputs": [],
   "source": [
    "nums = [1, 2, 5]  # a list of items, in this case, numbers"
   ]
  },
  {
   "cell_type": "code",
   "execution_count": 11,
   "metadata": {},
   "outputs": [
    {
     "data": {
      "text/plain": [
       "[5, 2, 1]"
      ]
     },
     "execution_count": 11,
     "metadata": {},
     "output_type": "execute_result"
    }
   ],
   "source": [
    "nums.reverse()  # reverses the item order\n",
    "nums"
   ]
  },
  {
   "cell_type": "markdown",
   "metadata": {},
   "source": [
    "# Part 1: Class Data<a id='yourdata'></a>\n",
    "\n",
    "We can read in the data you submitted through the form by asking Google for the form information and turning it into a table. Any of the confusing lines here are just fixing data formats so that Python can better understand our data:"
   ]
  },
  {
   "cell_type": "code",
   "execution_count": 12,
   "metadata": {},
   "outputs": [
    {
     "data": {
      "text/html": [
       "<div>\n",
       "<style>\n",
       "    .dataframe thead tr:only-child th {\n",
       "        text-align: right;\n",
       "    }\n",
       "\n",
       "    .dataframe thead th {\n",
       "        text-align: left;\n",
       "    }\n",
       "\n",
       "    .dataframe tbody tr th {\n",
       "        vertical-align: top;\n",
       "    }\n",
       "</style>\n",
       "<table border=\"1\" class=\"dataframe\">\n",
       "  <thead>\n",
       "    <tr style=\"text-align: right;\">\n",
       "      <th></th>\n",
       "      <th>Timestamp</th>\n",
       "      <th>Email Address</th>\n",
       "      <th>Name</th>\n",
       "      <th>Census Tract</th>\n",
       "      <th>On a scale of 1 - 5, where 1 is \"None\" and 5 is \"A Lot\", how many empty beer or liquor bottles are visible in streets, yards, or alleys?</th>\n",
       "      <th>On a scale of 1 - 5, where 1 is \"None\" and 5 is \"A Lot\",  how many cigarette or cigar butts or discarded cigarette packages  are on the sidewalk or in the gutters?</th>\n",
       "      <th>On a scale of 1 - 5, where 1 is \"None\" and 5 is \"A Lot\",  how many condoms are present on the sidewalk, in the gutters, or street of block face?</th>\n",
       "      <th>On a scale of 1 - 5, where 1 is \"None\" and 5 is \"A Lot\", how much garbage, litter, or broken glass in the street or on the sidewalks?</th>\n",
       "      <th>Are there abandoned cars in the neighborhood? How many do you see?</th>\n",
       "      <th>On a scale of 1-5 where 1 is \"Friendly Responses / Greetings / Helpful\" and 5 is \"Treated with Suspicion\", How were you regarded by the people in the block face?</th>\n",
       "      <th>...</th>\n",
       "      <th>Full Address of Block Face in Image #4 (Street Number, Street Name, City, State, Zip Code). E.g.: 2128 Oxford Street, Berkeley, CA, 94704.</th>\n",
       "      <th>Full Address of Block Face in Image #5 (Street Number, Street Name, City, State, Zip Code). E.g.: 2128 Oxford Street, Berkeley, CA, 94704.</th>\n",
       "      <th>Other thoughts or comments for Image #2</th>\n",
       "      <th>Other thoughts or comments for Image #3</th>\n",
       "      <th>Other thoughts or comments for Image #4</th>\n",
       "      <th>Other thoughts or comments for Image #5</th>\n",
       "      <th>Unnamed: 39</th>\n",
       "      <th>City</th>\n",
       "      <th>Zip Code</th>\n",
       "      <th>Full Address of Block Face (Street Number, Street Name, City, State, Zip Code). E.g.: 2128 Oxford Street, Berkeley, CA, 94704.</th>\n",
       "    </tr>\n",
       "  </thead>\n",
       "  <tbody>\n",
       "    <tr>\n",
       "      <th>0</th>\n",
       "      <td>2018-03-24 16:02:07</td>\n",
       "      <td>NaN</td>\n",
       "      <td>Sam Schuder</td>\n",
       "      <td>4229</td>\n",
       "      <td>1</td>\n",
       "      <td>4</td>\n",
       "      <td>1</td>\n",
       "      <td>3</td>\n",
       "      <td>0</td>\n",
       "      <td>2</td>\n",
       "      <td>...</td>\n",
       "      <td>NaN</td>\n",
       "      <td>NaN</td>\n",
       "      <td>NaN</td>\n",
       "      <td>NaN</td>\n",
       "      <td>NaN</td>\n",
       "      <td>NaN</td>\n",
       "      <td>NaN</td>\n",
       "      <td>NaN</td>\n",
       "      <td>NaN</td>\n",
       "      <td>NaN</td>\n",
       "    </tr>\n",
       "    <tr>\n",
       "      <th>1</th>\n",
       "      <td>2018-03-24 16:16:33</td>\n",
       "      <td>NaN</td>\n",
       "      <td>Samuel Schuder</td>\n",
       "      <td>4229</td>\n",
       "      <td>1</td>\n",
       "      <td>4</td>\n",
       "      <td>1</td>\n",
       "      <td>3</td>\n",
       "      <td>0</td>\n",
       "      <td>2</td>\n",
       "      <td>...</td>\n",
       "      <td>NaN</td>\n",
       "      <td>NaN</td>\n",
       "      <td>NaN</td>\n",
       "      <td>NaN</td>\n",
       "      <td>NaN</td>\n",
       "      <td>NaN</td>\n",
       "      <td>NaN</td>\n",
       "      <td>NaN</td>\n",
       "      <td>NaN</td>\n",
       "      <td>NaN</td>\n",
       "    </tr>\n",
       "    <tr>\n",
       "      <th>2</th>\n",
       "      <td>2018-03-30 22:59:50</td>\n",
       "      <td>anna-nguyen@berkeley.edu</td>\n",
       "      <td>Anna</td>\n",
       "      <td>4229</td>\n",
       "      <td>1</td>\n",
       "      <td>5</td>\n",
       "      <td>2</td>\n",
       "      <td>3</td>\n",
       "      <td>3</td>\n",
       "      <td>3</td>\n",
       "      <td>...</td>\n",
       "      <td>NaN</td>\n",
       "      <td>NaN</td>\n",
       "      <td>test 2</td>\n",
       "      <td>NaN</td>\n",
       "      <td>NaN</td>\n",
       "      <td>NaN</td>\n",
       "      <td>NaN</td>\n",
       "      <td>NaN</td>\n",
       "      <td>NaN</td>\n",
       "      <td>NaN</td>\n",
       "    </tr>\n",
       "    <tr>\n",
       "      <th>3</th>\n",
       "      <td>2018-03-31 18:41:05</td>\n",
       "      <td>alexandreaoneill@icloud.com</td>\n",
       "      <td>Alexandrea O'Neill</td>\n",
       "      <td>4201</td>\n",
       "      <td>1</td>\n",
       "      <td>1</td>\n",
       "      <td>1</td>\n",
       "      <td>1</td>\n",
       "      <td>0</td>\n",
       "      <td>1</td>\n",
       "      <td>...</td>\n",
       "      <td>619 San Carlos Ave, Albany, CA 94706</td>\n",
       "      <td>n/a</td>\n",
       "      <td>Home for sale</td>\n",
       "      <td>Father taking his two young children for a stroll</td>\n",
       "      <td>Typical looking home in the neighborhood</td>\n",
       "      <td>n/a</td>\n",
       "      <td>NaN</td>\n",
       "      <td>NaN</td>\n",
       "      <td>NaN</td>\n",
       "      <td>NaN</td>\n",
       "    </tr>\n",
       "    <tr>\n",
       "      <th>4</th>\n",
       "      <td>2018-04-02 21:54:04</td>\n",
       "      <td>alexfigueroa@berkeley.edu</td>\n",
       "      <td>Alexandria Figueroa</td>\n",
       "      <td>4010</td>\n",
       "      <td>2</td>\n",
       "      <td>2</td>\n",
       "      <td>1</td>\n",
       "      <td>2</td>\n",
       "      <td>0</td>\n",
       "      <td>1</td>\n",
       "      <td>...</td>\n",
       "      <td>4222 Market Street, Emeryville, CA 94608</td>\n",
       "      <td>4201 West Street, Emeryville CA 94608</td>\n",
       "      <td>There is a notice on a fenced off lot that abo...</td>\n",
       "      <td>This house has a faded white fence that has gr...</td>\n",
       "      <td>There was a tobacco product wrapper in front o...</td>\n",
       "      <td>This graffiti and trash was right in front of ...</td>\n",
       "      <td>NaN</td>\n",
       "      <td>NaN</td>\n",
       "      <td>NaN</td>\n",
       "      <td>NaN</td>\n",
       "    </tr>\n",
       "  </tbody>\n",
       "</table>\n",
       "<p>5 rows × 43 columns</p>\n",
       "</div>"
      ],
      "text/plain": [
       "            Timestamp                Email Address                 Name  \\\n",
       "0 2018-03-24 16:02:07                          NaN          Sam Schuder   \n",
       "1 2018-03-24 16:16:33                          NaN       Samuel Schuder   \n",
       "2 2018-03-30 22:59:50     anna-nguyen@berkeley.edu                 Anna   \n",
       "3 2018-03-31 18:41:05  alexandreaoneill@icloud.com   Alexandrea O'Neill   \n",
       "4 2018-04-02 21:54:04    alexfigueroa@berkeley.edu  Alexandria Figueroa   \n",
       "\n",
       "  Census Tract  \\\n",
       "0         4229   \n",
       "1         4229   \n",
       "2         4229   \n",
       "3         4201   \n",
       "4         4010   \n",
       "\n",
       "   On a scale of 1 - 5, where 1 is \"None\" and 5 is \"A Lot\", how many empty beer or liquor bottles are visible in streets, yards, or alleys?   \\\n",
       "0                                                  1                                                                                           \n",
       "1                                                  1                                                                                           \n",
       "2                                                  1                                                                                           \n",
       "3                                                  1                                                                                           \n",
       "4                                                  2                                                                                           \n",
       "\n",
       "   On a scale of 1 - 5, where 1 is \"None\" and 5 is \"A Lot\",  how many cigarette or cigar butts or discarded cigarette packages  are on the sidewalk or in the gutters?   \\\n",
       "0                                                  4                                                                                                                      \n",
       "1                                                  4                                                                                                                      \n",
       "2                                                  5                                                                                                                      \n",
       "3                                                  1                                                                                                                      \n",
       "4                                                  2                                                                                                                      \n",
       "\n",
       "   On a scale of 1 - 5, where 1 is \"None\" and 5 is \"A Lot\",  how many condoms are present on the sidewalk, in the gutters, or street of block face?   \\\n",
       "0                                                  1                                                                                                   \n",
       "1                                                  1                                                                                                   \n",
       "2                                                  2                                                                                                   \n",
       "3                                                  1                                                                                                   \n",
       "4                                                  1                                                                                                   \n",
       "\n",
       "   On a scale of 1 - 5, where 1 is \"None\" and 5 is \"A Lot\", how much garbage, litter, or broken glass in the street or on the sidewalks?   \\\n",
       "0                                                  3                                                                                        \n",
       "1                                                  3                                                                                        \n",
       "2                                                  3                                                                                        \n",
       "3                                                  1                                                                                        \n",
       "4                                                  2                                                                                        \n",
       "\n",
       "    Are there abandoned cars in the neighborhood? How many do you see?   \\\n",
       "0                                                  0                      \n",
       "1                                                  0                      \n",
       "2                                                  3                      \n",
       "3                                                  0                      \n",
       "4                                                  0                      \n",
       "\n",
       "   On a scale of 1-5 where 1 is \"Friendly Responses / Greetings / Helpful\" and 5 is \"Treated with Suspicion\", How were you regarded by the people in the block face?  \\\n",
       "0                                                  2                                                                                                                   \n",
       "1                                                  2                                                                                                                   \n",
       "2                                                  3                                                                                                                   \n",
       "3                                                  1                                                                                                                   \n",
       "4                                                  1                                                                                                                   \n",
       "\n",
       "                                                                ...                                                                \\\n",
       "0                                                               ...                                                                 \n",
       "1                                                               ...                                                                 \n",
       "2                                                               ...                                                                 \n",
       "3                                                               ...                                                                 \n",
       "4                                                               ...                                                                 \n",
       "\n",
       "   Full Address of Block Face in Image #4 (Street Number, Street Name, City, State, Zip Code). E.g.: 2128 Oxford Street, Berkeley, CA, 94704.  \\\n",
       "0                                                NaN                                                                                            \n",
       "1                                                NaN                                                                                            \n",
       "2                                                NaN                                                                                            \n",
       "3               619 San Carlos Ave, Albany, CA 94706                                                                                            \n",
       "4           4222 Market Street, Emeryville, CA 94608                                                                                            \n",
       "\n",
       "   Full Address of Block Face in Image #5 (Street Number, Street Name, City, State, Zip Code). E.g.: 2128 Oxford Street, Berkeley, CA, 94704.  \\\n",
       "0                                                NaN                                                                                            \n",
       "1                                                NaN                                                                                            \n",
       "2                                                NaN                                                                                            \n",
       "3                                                n/a                                                                                            \n",
       "4              4201 West Street, Emeryville CA 94608                                                                                            \n",
       "\n",
       "             Other thoughts or comments for Image #2  \\\n",
       "0                                                NaN   \n",
       "1                                                NaN   \n",
       "2                                             test 2   \n",
       "3                                      Home for sale   \n",
       "4  There is a notice on a fenced off lot that abo...   \n",
       "\n",
       "             Other thoughts or comments for Image #3  \\\n",
       "0                                                NaN   \n",
       "1                                                NaN   \n",
       "2                                                NaN   \n",
       "3  Father taking his two young children for a stroll   \n",
       "4  This house has a faded white fence that has gr...   \n",
       "\n",
       "             Other thoughts or comments for Image #4  \\\n",
       "0                                                NaN   \n",
       "1                                                NaN   \n",
       "2                                                NaN   \n",
       "3           Typical looking home in the neighborhood   \n",
       "4  There was a tobacco product wrapper in front o...   \n",
       "\n",
       "             Other thoughts or comments for Image #5  Unnamed: 39 City  \\\n",
       "0                                                NaN          NaN  NaN   \n",
       "1                                                NaN          NaN  NaN   \n",
       "2                                                NaN          NaN  NaN   \n",
       "3                                                n/a          NaN  NaN   \n",
       "4  This graffiti and trash was right in front of ...          NaN  NaN   \n",
       "\n",
       "   Zip Code  \\\n",
       "0       NaN   \n",
       "1       NaN   \n",
       "2       NaN   \n",
       "3       NaN   \n",
       "4       NaN   \n",
       "\n",
       "   Full Address of Block Face (Street Number, Street Name, City, State, Zip Code). E.g.: 2128 Oxford Street, Berkeley, CA, 94704.  \n",
       "0                                                NaN                                                                               \n",
       "1                                                NaN                                                                               \n",
       "2                                                NaN                                                                               \n",
       "3                                                NaN                                                                               \n",
       "4                                                NaN                                                                               \n",
       "\n",
       "[5 rows x 43 columns]"
      ]
     },
     "execution_count": 12,
     "metadata": {},
     "output_type": "execute_result"
    }
   ],
   "source": [
    "# unique key given by google for the csv\n",
    "gdoc_key = \"12yyTnaNi9JQqCqUqzP42iQDFV2jSiHffliUhrMfS__Y\"\n",
    "\n",
    "# we'll add the key to this url for google docs\n",
    "spreadsheet_url = 'https://docs.google.com/spreadsheets/d/{0}/gviz/tq?tqx=out:csv'.format(gdoc_key)\n",
    "\n",
    "# now we read in the spreadsheet to python, sum column tallies for column 20\n",
    "class_data = pd.read_csv(spreadsheet_url)\n",
    "class_data['Census Tract'] = class_data['Census Tract'].apply(fix_tract)  # fix census tract data type\n",
    "\n",
    "# rekey yes and no responses\n",
    "for c in class_data.columns:\n",
    "    if \"Yes\" in set(class_data[c]):\n",
    "        class_data[c] = class_data[c].map({\"Yes\": 1, \"No\": 0})\n",
    "\n",
    "# limit to submissions from Spring 2018\n",
    "class_data['Timestamp'] = [datetime.strptime(time, '%m/%d/%Y %H:%M:%S') for time in class_data['Timestamp']]\n",
    "class_data = class_data[[time.year == 2018 for time in class_data['Timestamp']]]\n",
    "class_data = class_data.reset_index().drop('index', axis = 1)\n",
    "\n",
    "class_data.head()"
   ]
  },
  {
   "cell_type": "markdown",
   "metadata": {},
   "source": [
    "That's a lot of columns! Now that our data is inside the `class_data` variable, we can ask that varible for some information. We can get a list of the column names with the `.columns` attribute of the table:"
   ]
  },
  {
   "cell_type": "code",
   "execution_count": 13,
   "metadata": {},
   "outputs": [
    {
     "data": {
      "text/plain": [
       "Index(['Timestamp', 'Email Address', 'Name', 'Census Tract',\n",
       "       'On a scale of 1 - 5, where 1 is \"None\" and 5 is \"A Lot\", how many empty beer or liquor bottles are visible in streets, yards, or alleys? ',\n",
       "       'On a scale of 1 - 5, where 1 is \"None\" and 5 is \"A Lot\",  how many cigarette or cigar butts or discarded cigarette packages  are on the sidewalk or in the gutters? ',\n",
       "       'On a scale of 1 - 5, where 1 is \"None\" and 5 is \"A Lot\",  how many condoms are present on the sidewalk, in the gutters, or street of block face? ',\n",
       "       'On a scale of 1 - 5, where 1 is \"None\" and 5 is \"A Lot\", how much garbage, litter, or broken glass in the street or on the sidewalks? ',\n",
       "       ' Are there abandoned cars in the neighborhood? How many do you see? ',\n",
       "       'On a scale of 1-5 where 1 is \"Friendly Responses / Greetings / Helpful\" and 5 is \"Treated with Suspicion\", How were you regarded by the people in the block face?',\n",
       "       'On a scale of 1 - 4, where 1 is \"Very well kept / good condition\" and 4 is \"Poor / badly deteriorated condition\", in general, how would you rate the condition of buildings on the block face? (includes residential buildings, recreational facilities, manufacturing plants, business / industrial headquarters, etc)',\n",
       "       'Is there graffiti or evidence of graffiti that has been painted over on buildings, signs, or walls? (Questions 22-23)',\n",
       "       'On a scale of 1 - 4, where 1 is \"No fencing\" and 4 is \"High mesh fencing with barbed wire or spiked tops\", is there fencing and what kind? (includes all property)',\n",
       "       'Are any commercial/residential buildings being renovated?',\n",
       "       'On a scale of 1-3, where 1 is \"Few or none\" and 3 is a \"Most/all of it\", how many trees are linking the street of the block face? ',\n",
       "       'What drinking establishments are on the block face? (check all that apply)',\n",
       "       'Is there public transportation available in the block face? ',\n",
       "       'What kind of signs are visible? (check all that apply)',\n",
       "       'Are private security guards visible?',\n",
       "       'Are there any recreational facilities on the block face?',\n",
       "       'Is there a police officer visible? ', 'House Number',\n",
       "       'Other thoughts or comments',\n",
       "       'What kinds of establishments are there on the block face? Select all that apply.',\n",
       "       'Image #1', 'Other thoughts or comments for Image #1',\n",
       "       'Full Address of Block Face in Image #1 (Street Number, Street Name, City, State, Zip Code). E.g.: 2128 Oxford Street, Berkeley, CA, 94704.',\n",
       "       'Image #2', 'Image #3', 'Image #5', 'Image #4',\n",
       "       'Full Address of Block Face in Image #2 (Street Number, Street Name, City, State, Zip Code). E.g.: 2128 Oxford Street, Berkeley, CA, 94704.',\n",
       "       'Full Address of Block Face in Image #3 (Street Number, Street Name, City, State, Zip Code). E.g.: 2128 Oxford Street, Berkeley, CA, 94704.',\n",
       "       'Full Address of Block Face in Image #4 (Street Number, Street Name, City, State, Zip Code). E.g.: 2128 Oxford Street, Berkeley, CA, 94704.',\n",
       "       'Full Address of Block Face in Image #5 (Street Number, Street Name, City, State, Zip Code). E.g.: 2128 Oxford Street, Berkeley, CA, 94704.',\n",
       "       'Other thoughts or comments for Image #2',\n",
       "       'Other thoughts or comments for Image #3',\n",
       "       'Other thoughts or comments for Image #4',\n",
       "       'Other thoughts or comments for Image #5', 'Unnamed: 39', 'City',\n",
       "       'Zip Code',\n",
       "       'Full Address of Block Face (Street Number, Street Name, City, State, Zip Code). E.g.: 2128 Oxford Street, Berkeley, CA, 94704.'],\n",
       "      dtype='object')"
      ]
     },
     "execution_count": 13,
     "metadata": {},
     "output_type": "execute_result"
    }
   ],
   "source": [
    "class_data.columns"
   ]
  },
  {
   "cell_type": "markdown",
   "metadata": {},
   "source": [
    "Let's clean up the data a little bit. We can use '.drop' to remove extra columns and '.rename' to create shorter labels for our columns"
   ]
  },
  {
   "cell_type": "code",
   "execution_count": 14,
   "metadata": {},
   "outputs": [
    {
     "data": {
      "text/html": [
       "<div>\n",
       "<style>\n",
       "    .dataframe thead tr:only-child th {\n",
       "        text-align: right;\n",
       "    }\n",
       "\n",
       "    .dataframe thead th {\n",
       "        text-align: left;\n",
       "    }\n",
       "\n",
       "    .dataframe tbody tr th {\n",
       "        vertical-align: top;\n",
       "    }\n",
       "</style>\n",
       "<table border=\"1\" class=\"dataframe\">\n",
       "  <thead>\n",
       "    <tr style=\"text-align: right;\">\n",
       "      <th></th>\n",
       "      <th>Timestamp</th>\n",
       "      <th>Email Address</th>\n",
       "      <th>Name</th>\n",
       "      <th>Census Tract</th>\n",
       "      <th>Amount of Visible Empty Liquor Bottles [Scale: 1 (None) to 5 (A Lot)]</th>\n",
       "      <th>Amount of Visible Cigarette Debris [Scale: 1 (None) to 5 (A Lot)]</th>\n",
       "      <th>Amount of Visible Condoms [Scale: 1 (None) to 5 (A Lot)]</th>\n",
       "      <th>Amount of Visible Trash [Scale: 1 (None) to 5 (A Lot)]</th>\n",
       "      <th>Are there abandoned cars in the neighborhood? How many do you see?</th>\n",
       "      <th>Attitude of Residents [Scale: 1 (Friendly and Helpful) to 5 (Suspicious)]</th>\n",
       "      <th>...</th>\n",
       "      <th>Image #5</th>\n",
       "      <th>Image #4</th>\n",
       "      <th>Full Address of Photo #2 Location</th>\n",
       "      <th>Full Address of Photo #3 Location</th>\n",
       "      <th>Full Address of Photo #4 Location</th>\n",
       "      <th>Full Address of Photo #5 Location</th>\n",
       "      <th>Other thoughts or comments for Image #2</th>\n",
       "      <th>Other thoughts or comments for Image #3</th>\n",
       "      <th>Other thoughts or comments for Image #4</th>\n",
       "      <th>Other thoughts or comments for Image #5</th>\n",
       "    </tr>\n",
       "  </thead>\n",
       "  <tbody>\n",
       "    <tr>\n",
       "      <th>0</th>\n",
       "      <td>2018-03-24 16:02:07</td>\n",
       "      <td>NaN</td>\n",
       "      <td>Sam Schuder</td>\n",
       "      <td>4229</td>\n",
       "      <td>1</td>\n",
       "      <td>4</td>\n",
       "      <td>1</td>\n",
       "      <td>3</td>\n",
       "      <td>0</td>\n",
       "      <td>2</td>\n",
       "      <td>...</td>\n",
       "      <td>NaN</td>\n",
       "      <td>NaN</td>\n",
       "      <td>NaN</td>\n",
       "      <td>NaN</td>\n",
       "      <td>NaN</td>\n",
       "      <td>NaN</td>\n",
       "      <td>NaN</td>\n",
       "      <td>NaN</td>\n",
       "      <td>NaN</td>\n",
       "      <td>NaN</td>\n",
       "    </tr>\n",
       "    <tr>\n",
       "      <th>1</th>\n",
       "      <td>2018-03-24 16:16:33</td>\n",
       "      <td>NaN</td>\n",
       "      <td>Samuel Schuder</td>\n",
       "      <td>4229</td>\n",
       "      <td>1</td>\n",
       "      <td>4</td>\n",
       "      <td>1</td>\n",
       "      <td>3</td>\n",
       "      <td>0</td>\n",
       "      <td>2</td>\n",
       "      <td>...</td>\n",
       "      <td>NaN</td>\n",
       "      <td>NaN</td>\n",
       "      <td>NaN</td>\n",
       "      <td>NaN</td>\n",
       "      <td>NaN</td>\n",
       "      <td>NaN</td>\n",
       "      <td>NaN</td>\n",
       "      <td>NaN</td>\n",
       "      <td>NaN</td>\n",
       "      <td>NaN</td>\n",
       "    </tr>\n",
       "    <tr>\n",
       "      <th>2</th>\n",
       "      <td>2018-03-30 22:59:50</td>\n",
       "      <td>anna-nguyen@berkeley.edu</td>\n",
       "      <td>Anna</td>\n",
       "      <td>4229</td>\n",
       "      <td>1</td>\n",
       "      <td>5</td>\n",
       "      <td>2</td>\n",
       "      <td>3</td>\n",
       "      <td>3</td>\n",
       "      <td>3</td>\n",
       "      <td>...</td>\n",
       "      <td>NaN</td>\n",
       "      <td>NaN</td>\n",
       "      <td>2086 University Ave Berkeley, CA 94704</td>\n",
       "      <td>NaN</td>\n",
       "      <td>NaN</td>\n",
       "      <td>NaN</td>\n",
       "      <td>test 2</td>\n",
       "      <td>NaN</td>\n",
       "      <td>NaN</td>\n",
       "      <td>NaN</td>\n",
       "    </tr>\n",
       "    <tr>\n",
       "      <th>3</th>\n",
       "      <td>2018-03-31 18:41:05</td>\n",
       "      <td>alexandreaoneill@icloud.com</td>\n",
       "      <td>Alexandrea O'Neill</td>\n",
       "      <td>4201</td>\n",
       "      <td>1</td>\n",
       "      <td>1</td>\n",
       "      <td>1</td>\n",
       "      <td>1</td>\n",
       "      <td>0</td>\n",
       "      <td>1</td>\n",
       "      <td>...</td>\n",
       "      <td>NaN</td>\n",
       "      <td>https://drive.google.com/open?id=1oATH16E2obUw...</td>\n",
       "      <td>San Carlos Ave and Thousand Oaks Blvd, Albany,...</td>\n",
       "      <td>San Carlos Ave and Portland Ave, Albany, CA</td>\n",
       "      <td>619 San Carlos Ave, Albany, CA 94706</td>\n",
       "      <td>n/a</td>\n",
       "      <td>Home for sale</td>\n",
       "      <td>Father taking his two young children for a stroll</td>\n",
       "      <td>Typical looking home in the neighborhood</td>\n",
       "      <td>n/a</td>\n",
       "    </tr>\n",
       "    <tr>\n",
       "      <th>4</th>\n",
       "      <td>2018-04-02 21:54:04</td>\n",
       "      <td>alexfigueroa@berkeley.edu</td>\n",
       "      <td>Alexandria Figueroa</td>\n",
       "      <td>4010</td>\n",
       "      <td>2</td>\n",
       "      <td>2</td>\n",
       "      <td>1</td>\n",
       "      <td>2</td>\n",
       "      <td>0</td>\n",
       "      <td>1</td>\n",
       "      <td>...</td>\n",
       "      <td>https://drive.google.com/open?id=1CBPu0GLKLQnT...</td>\n",
       "      <td>https://drive.google.com/open?id=1bl45qyrDitJR...</td>\n",
       "      <td>869 43rd street, Emeryville, CA,94608</td>\n",
       "      <td>832 42nd Street, Emeryville, CA 94608</td>\n",
       "      <td>4222 Market Street, Emeryville, CA 94608</td>\n",
       "      <td>4201 West Street, Emeryville CA 94608</td>\n",
       "      <td>There is a notice on a fenced off lot that abo...</td>\n",
       "      <td>This house has a faded white fence that has gr...</td>\n",
       "      <td>There was a tobacco product wrapper in front o...</td>\n",
       "      <td>This graffiti and trash was right in front of ...</td>\n",
       "    </tr>\n",
       "  </tbody>\n",
       "</table>\n",
       "<p>5 rows × 34 columns</p>\n",
       "</div>"
      ],
      "text/plain": [
       "            Timestamp                Email Address                 Name  \\\n",
       "0 2018-03-24 16:02:07                          NaN          Sam Schuder   \n",
       "1 2018-03-24 16:16:33                          NaN       Samuel Schuder   \n",
       "2 2018-03-30 22:59:50     anna-nguyen@berkeley.edu                 Anna   \n",
       "3 2018-03-31 18:41:05  alexandreaoneill@icloud.com   Alexandrea O'Neill   \n",
       "4 2018-04-02 21:54:04    alexfigueroa@berkeley.edu  Alexandria Figueroa   \n",
       "\n",
       "  Census Tract  \\\n",
       "0         4229   \n",
       "1         4229   \n",
       "2         4229   \n",
       "3         4201   \n",
       "4         4010   \n",
       "\n",
       "   Amount of Visible Empty Liquor Bottles [Scale: 1 (None) to 5 (A Lot)]  \\\n",
       "0                                                  1                       \n",
       "1                                                  1                       \n",
       "2                                                  1                       \n",
       "3                                                  1                       \n",
       "4                                                  2                       \n",
       "\n",
       "   Amount of Visible Cigarette Debris [Scale: 1 (None) to 5 (A Lot)]  \\\n",
       "0                                                  4                   \n",
       "1                                                  4                   \n",
       "2                                                  5                   \n",
       "3                                                  1                   \n",
       "4                                                  2                   \n",
       "\n",
       "   Amount of Visible Condoms [Scale: 1 (None) to 5 (A Lot)]  \\\n",
       "0                                                  1          \n",
       "1                                                  1          \n",
       "2                                                  2          \n",
       "3                                                  1          \n",
       "4                                                  1          \n",
       "\n",
       "   Amount of Visible Trash [Scale: 1 (None) to 5 (A Lot)]  \\\n",
       "0                                                  3        \n",
       "1                                                  3        \n",
       "2                                                  3        \n",
       "3                                                  1        \n",
       "4                                                  2        \n",
       "\n",
       "    Are there abandoned cars in the neighborhood? How many do you see?   \\\n",
       "0                                                  0                      \n",
       "1                                                  0                      \n",
       "2                                                  3                      \n",
       "3                                                  0                      \n",
       "4                                                  0                      \n",
       "\n",
       "   Attitude of Residents [Scale: 1 (Friendly and Helpful) to 5 (Suspicious)]  \\\n",
       "0                                                  2                           \n",
       "1                                                  2                           \n",
       "2                                                  3                           \n",
       "3                                                  1                           \n",
       "4                                                  1                           \n",
       "\n",
       "                         ...                          \\\n",
       "0                        ...                           \n",
       "1                        ...                           \n",
       "2                        ...                           \n",
       "3                        ...                           \n",
       "4                        ...                           \n",
       "\n",
       "                                            Image #5  \\\n",
       "0                                                NaN   \n",
       "1                                                NaN   \n",
       "2                                                NaN   \n",
       "3                                                NaN   \n",
       "4  https://drive.google.com/open?id=1CBPu0GLKLQnT...   \n",
       "\n",
       "                                            Image #4  \\\n",
       "0                                                NaN   \n",
       "1                                                NaN   \n",
       "2                                                NaN   \n",
       "3  https://drive.google.com/open?id=1oATH16E2obUw...   \n",
       "4  https://drive.google.com/open?id=1bl45qyrDitJR...   \n",
       "\n",
       "                   Full Address of Photo #2 Location  \\\n",
       "0                                                NaN   \n",
       "1                                                NaN   \n",
       "2             2086 University Ave Berkeley, CA 94704   \n",
       "3  San Carlos Ave and Thousand Oaks Blvd, Albany,...   \n",
       "4              869 43rd street, Emeryville, CA,94608   \n",
       "\n",
       "             Full Address of Photo #3 Location  \\\n",
       "0                                          NaN   \n",
       "1                                          NaN   \n",
       "2                                          NaN   \n",
       "3  San Carlos Ave and Portland Ave, Albany, CA   \n",
       "4        832 42nd Street, Emeryville, CA 94608   \n",
       "\n",
       "          Full Address of Photo #4 Location  \\\n",
       "0                                       NaN   \n",
       "1                                       NaN   \n",
       "2                                       NaN   \n",
       "3      619 San Carlos Ave, Albany, CA 94706   \n",
       "4  4222 Market Street, Emeryville, CA 94608   \n",
       "\n",
       "       Full Address of Photo #5 Location  \\\n",
       "0                                    NaN   \n",
       "1                                    NaN   \n",
       "2                                    NaN   \n",
       "3                                    n/a   \n",
       "4  4201 West Street, Emeryville CA 94608   \n",
       "\n",
       "             Other thoughts or comments for Image #2  \\\n",
       "0                                                NaN   \n",
       "1                                                NaN   \n",
       "2                                             test 2   \n",
       "3                                      Home for sale   \n",
       "4  There is a notice on a fenced off lot that abo...   \n",
       "\n",
       "             Other thoughts or comments for Image #3  \\\n",
       "0                                                NaN   \n",
       "1                                                NaN   \n",
       "2                                                NaN   \n",
       "3  Father taking his two young children for a stroll   \n",
       "4  This house has a faded white fence that has gr...   \n",
       "\n",
       "             Other thoughts or comments for Image #4  \\\n",
       "0                                                NaN   \n",
       "1                                                NaN   \n",
       "2                                                NaN   \n",
       "3           Typical looking home in the neighborhood   \n",
       "4  There was a tobacco product wrapper in front o...   \n",
       "\n",
       "             Other thoughts or comments for Image #5  \n",
       "0                                                NaN  \n",
       "1                                                NaN  \n",
       "2                                                NaN  \n",
       "3                                                n/a  \n",
       "4  This graffiti and trash was right in front of ...  \n",
       "\n",
       "[5 rows x 34 columns]"
      ]
     },
     "execution_count": 14,
     "metadata": {},
     "output_type": "execute_result"
    }
   ],
   "source": [
    "class_data = class_data.iloc[:, 0:-3].drop([\n",
    "    'House Number', \n",
    "    'What drinking establishments are on the block face? (check all that apply)',\n",
    "    'What kind of signs are visible? (check all that apply)',\n",
    "    'Are there any recreational facilities on the block face?',\n",
    "    'Other thoughts or comments',\n",
    "    'Unnamed: 39'\n",
    "    ], axis = 1)\n",
    "\n",
    "class_data = class_data.rename(columns= {\n",
    "    'On a scale of 1 - 5, where 1 is \"None\" and 5 is \"A Lot\", how many empty beer or liquor bottles are visible in streets, yards, or alleys? ': 'Amount of Visible Empty Liquor Bottles [Scale: 1 (None) to 5 (A Lot)]', \n",
    "    'On a scale of 1 - 5, where 1 is \"None\" and 5 is \"A Lot\",  how many cigarette or cigar butts or discarded cigarette packages  are on the sidewalk or in the gutters? ': 'Amount of Visible Cigarette Debris [Scale: 1 (None) to 5 (A Lot)]',\n",
    "    'On a scale of 1 - 5, where 1 is \"None\" and 5 is \"A Lot\",  how many condoms are present on the sidewalk, in the gutters, or street of block face? ': 'Amount of Visible Condoms [Scale: 1 (None) to 5 (A Lot)]',\n",
    "    'On a scale of 1 - 5, where 1 is \"None\" and 5 is \"A Lot\", how much garbage, litter, or broken glass in the street or on the sidewalks? ': 'Amount of Visible Trash [Scale: 1 (None) to 5 (A Lot)]',\n",
    "    'On a scale of 1-5 where 1 is \"Friendly Responses / Greetings / Helpful\" and 5 is \"Treated with Suspicion\", How were you regarded by the people in the block face?': 'Attitude of Residents [Scale: 1 (Friendly and Helpful) to 5 (Suspicious)]',\n",
    "    'On a scale of 1 - 4, where 1 is \"Very well kept / good condition\" and 4 is \"Poor / badly deteriorated condition\", in general, how would you rate the condition of buildings on the block face? (includes residential buildings, recreational facilities, manufacturing plants, business / industrial headquarters, etc)' : 'Condition of Buildings [Scale: 1 (Well Kept) to 4 (Poor)]',\n",
    "    'On a scale of 1 - 4, where 1 is \"No fencing\" and 4 is \"High mesh fencing with barbed wire or spiked tops\", is there fencing and what kind? (includes all property)': 'Presence of Fencing [Scale: 1 (No fencing) to 4 (High mesh with barbed wire or spiked tops)]',\n",
    "    'On a scale of 1-3, where 1 is \"Few or none\" and 3 is a \"Most/all of it\", how many trees are linking the street of the block face? ': 'Amount of street linked with trees [Scale: 1 (None or Few) to 3 (Most or All)]',\n",
    "    'Full Address of Block Face in Image #1 (Street Number, Street Name, City, State, Zip Code). E.g.: 2128 Oxford Street, Berkeley, CA, 94704.': 'Full Address of Photo #1 Location',\n",
    "    'Full Address of Block Face in Image #2 (Street Number, Street Name, City, State, Zip Code). E.g.: 2128 Oxford Street, Berkeley, CA, 94704.': 'Full Address of Photo #2 Location',\n",
    "    'Full Address of Block Face in Image #3 (Street Number, Street Name, City, State, Zip Code). E.g.: 2128 Oxford Street, Berkeley, CA, 94704.': 'Full Address of Photo #3 Location',\n",
    "    'Full Address of Block Face in Image #4 (Street Number, Street Name, City, State, Zip Code). E.g.: 2128 Oxford Street, Berkeley, CA, 94704.': 'Full Address of Photo #4 Location',\n",
    "    'Full Address of Block Face in Image #5 (Street Number, Street Name, City, State, Zip Code). E.g.: 2128 Oxford Street, Berkeley, CA, 94704.': 'Full Address of Photo #5 Location',\n",
    "})\n",
    "\n",
    "class_data.head()"
   ]
  },
  {
   "cell_type": "markdown",
   "metadata": {},
   "source": [
    "Here are the new column labels!"
   ]
  },
  {
   "cell_type": "code",
   "execution_count": 15,
   "metadata": {},
   "outputs": [
    {
     "data": {
      "text/plain": [
       "Index(['Timestamp', 'Email Address', 'Name', 'Census Tract',\n",
       "       'Amount of Visible Empty Liquor Bottles [Scale: 1 (None) to 5 (A Lot)]',\n",
       "       'Amount of Visible Cigarette Debris [Scale: 1 (None) to 5 (A Lot)]',\n",
       "       'Amount of Visible Condoms [Scale: 1 (None) to 5 (A Lot)]',\n",
       "       'Amount of Visible Trash [Scale: 1 (None) to 5 (A Lot)]',\n",
       "       ' Are there abandoned cars in the neighborhood? How many do you see? ',\n",
       "       'Attitude of Residents [Scale: 1 (Friendly and Helpful) to 5 (Suspicious)]',\n",
       "       'Condition of Buildings [Scale: 1 (Well Kept) to 4 (Poor)]',\n",
       "       'Is there graffiti or evidence of graffiti that has been painted over on buildings, signs, or walls? (Questions 22-23)',\n",
       "       'Presence of Fencing [Scale: 1 (No fencing) to 4 (High mesh with barbed wire or spiked tops)]',\n",
       "       'Are any commercial/residential buildings being renovated?',\n",
       "       'Amount of street linked with trees [Scale: 1 (None or Few) to 3 (Most or All)]',\n",
       "       'Is there public transportation available in the block face? ',\n",
       "       'Are private security guards visible?',\n",
       "       'Is there a police officer visible? ',\n",
       "       'What kinds of establishments are there on the block face? Select all that apply.',\n",
       "       'Image #1', 'Other thoughts or comments for Image #1',\n",
       "       'Full Address of Photo #1 Location', 'Image #2', 'Image #3', 'Image #5',\n",
       "       'Image #4', 'Full Address of Photo #2 Location',\n",
       "       'Full Address of Photo #3 Location',\n",
       "       'Full Address of Photo #4 Location',\n",
       "       'Full Address of Photo #5 Location',\n",
       "       'Other thoughts or comments for Image #2',\n",
       "       'Other thoughts or comments for Image #3',\n",
       "       'Other thoughts or comments for Image #4',\n",
       "       'Other thoughts or comments for Image #5'],\n",
       "      dtype='object')"
      ]
     },
     "execution_count": 15,
     "metadata": {},
     "output_type": "execute_result"
    }
   ],
   "source": [
    "class_data.columns"
   ]
  },
  {
   "cell_type": "markdown",
   "metadata": {},
   "source": [
    "We can ask for the total number of observations (rows) by just using the `len` function:"
   ]
  },
  {
   "cell_type": "code",
   "execution_count": 16,
   "metadata": {},
   "outputs": [
    {
     "data": {
      "text/plain": [
       "19"
      ]
     },
     "execution_count": 16,
     "metadata": {},
     "output_type": "execute_result"
    }
   ],
   "source": [
    "len(class_data)"
   ]
  },
  {
   "cell_type": "markdown",
   "metadata": {},
   "source": [
    "Let's get some summary statistics and do some plotting.\n",
    "\n",
    "How many of you reported on which census tracts?"
   ]
  },
  {
   "cell_type": "code",
   "execution_count": 17,
   "metadata": {},
   "outputs": [
    {
     "data": {
      "text/plain": [
       "4229    3\n",
       "4007    3\n",
       "4010    2\n",
       "4224    2\n",
       "4027    2\n",
       "4205    1\n",
       "4028    1\n",
       "4005    1\n",
       "4214    1\n",
       "4235    1\n",
       "4033    1\n",
       "4201    1\n",
       "Name: Census Tract, dtype: int64"
      ]
     },
     "execution_count": 17,
     "metadata": {},
     "output_type": "execute_result"
    }
   ],
   "source": [
    "class_data['Census Tract'].value_counts()"
   ]
  },
  {
   "cell_type": "markdown",
   "metadata": {},
   "source": [
    "\n",
    "We can use the `.plot.barh()` method to this to visualize the counts:"
   ]
  },
  {
   "cell_type": "code",
   "execution_count": 18,
   "metadata": {
    "scrolled": true
   },
   "outputs": [
    {
     "data": {
      "text/plain": [
       "<matplotlib.axes._subplots.AxesSubplot at 0x1b76cb8c128>"
      ]
     },
     "execution_count": 18,
     "metadata": {},
     "output_type": "execute_result"
    },
    {
     "data": {
      "image/png": "[encoded data removed]",
      "text/plain": [
       "<matplotlib.figure.Figure at 0x1b76c217e48>"
      ]
     },
     "metadata": {},
     "output_type": "display_data"
    }
   ],
   "source": [
    "class_data['Census Tract'].value_counts().plot.barh()"
   ]
  },
  {
   "cell_type": "markdown",
   "metadata": {},
   "source": [
    "We can write a short function, `bar_chart_column`, to plot the counts for any of our columns in the table. All we have to do is move the slider:"
   ]
  },
  {
   "cell_type": "code",
   "execution_count": 19,
   "metadata": {},
   "outputs": [
    {
     "data": {
      "application/vnd.jupyter.widget-view+json": {
       "model_id": "81e294e6bcfc43488723d955bf1cf257",
       "version_major": 2,
       "version_minor": 0
      },
      "text/plain": [
       "A Jupyter Widget"
      ]
     },
     "metadata": {},
     "output_type": "display_data"
    }
   ],
   "source": [
    "def bar_chart_column(column_num):\n",
    "    bar_chart_data[bar_chart_data.columns[column_num]].value_counts().plot.barh()\n",
    "    plt.title(bar_chart_data.columns[column_num])\n",
    "\n",
    "## Removes student identification information, drop questions with checkboxes\n",
    "bar_chart_data = class_data.iloc[:, 3:21].drop(\n",
    "    'What kinds of establishments are there on the block face? Select all that apply.',\n",
    "    axis = 1)\n",
    "\n",
    "slider = widgets.IntSlider(min=0, max=14,step=1,value=0)\n",
    "display(widgets.interactive(bar_chart_column, column_num=slider))"
   ]
  },
  {
   "cell_type": "markdown",
   "metadata": {},
   "source": [
    "Some of the charts are small because there is so much text, try double-clicking the image to increase the size.\n",
    "\n",
    "We can then ask for these columns and plot their means too. Again, you'll have to double click to zoom in:"
   ]
  },
  {
   "cell_type": "code",
   "execution_count": 20,
   "metadata": {},
   "outputs": [
    {
     "data": {
      "text/plain": [
       "<matplotlib.axes._subplots.AxesSubplot at 0x1b76c217e10>"
      ]
     },
     "execution_count": 20,
     "metadata": {},
     "output_type": "execute_result"
    },
    {
     "data": {
      "image/png": "[encoded data removed]",
      "text/plain": [
       "<matplotlib.figure.Figure at 0x1b76800b128>"
      ]
     },
     "metadata": {},
     "output_type": "display_data"
    }
   ],
   "source": [
    "class_data.iloc[:, 4:22].mean().plot.barh()"
   ]
  },
  {
   "cell_type": "markdown",
   "metadata": {},
   "source": [
    "A question had checkbox answers that we can also look at:"
   ]
  },
  {
   "cell_type": "code",
   "execution_count": 21,
   "metadata": {},
   "outputs": [
    {
     "data": {
      "text/plain": [
       "<matplotlib.text.Text at 0x1b76ccf16a0>"
      ]
     },
     "execution_count": 21,
     "metadata": {},
     "output_type": "execute_result"
    },
    {
     "data": {
      "image/png": "[encoded data removed]",
      "text/plain": [
       "<matplotlib.figure.Figure at 0x1b76cb2f6d8>"
      ]
     },
     "metadata": {},
     "output_type": "display_data"
    }
   ],
   "source": [
    "establishments = [item for sublist in [response.split(',') for response in class_data.iloc[:, 18]] for item in sublist]\n",
    "pd.DataFrame(establishments)[0].value_counts().plot.barh()\n",
    "plt.title(class_data.columns[18])"
   ]
  },
  {
   "cell_type": "markdown",
   "metadata": {
    "collapsed": true
   },
   "source": [
    "---\n",
    "\n",
    "## Mapping\n",
    "\n",
    "We can also visualize how your responses mapped out over the census tracts. We'll use a library called `folium` to map your observations onto a map of the census tracts, and include popups with your comments and photos."
   ]
  },
  {
   "cell_type": "code",
   "execution_count": 22,
   "metadata": {},
   "outputs": [
    {
     "ename": "GeocoderQuotaExceeded",
     "evalue": "The given key has gone over the requests limit in the 24 hour period or has submitted too many requests in too short a period of time.",
     "output_type": "error",
     "traceback": [
      "\u001b[1;31m---------------------------------------------------------------------------\u001b[0m",
      "\u001b[1;31mGeocoderQuotaExceeded\u001b[0m                     Traceback (most recent call last)",
      "\u001b[1;32m<ipython-input-22-235ca24274be>\u001b[0m in \u001b[0;36m<module>\u001b[1;34m()\u001b[0m\n\u001b[0;32m      2\u001b[0m \u001b[0mmyMap\u001b[0m \u001b[1;33m=\u001b[0m \u001b[0mfolium\u001b[0m\u001b[1;33m.\u001b[0m\u001b[0mMap\u001b[0m\u001b[1;33m(\u001b[0m\u001b[0mlocation\u001b[0m\u001b[1;33m=\u001b[0m\u001b[1;33m(\u001b[0m\u001b[1;36m37.8044\u001b[0m\u001b[1;33m,\u001b[0m \u001b[1;33m-\u001b[0m\u001b[1;36m122.2711\u001b[0m\u001b[1;33m)\u001b[0m\u001b[1;33m,\u001b[0m \u001b[0mzoom_start\u001b[0m\u001b[1;33m=\u001b[0m\u001b[1;36m11.4\u001b[0m\u001b[1;33m)\u001b[0m\u001b[1;33m\u001b[0m\u001b[0m\n\u001b[0;32m      3\u001b[0m \u001b[1;33m\u001b[0m\u001b[0m\n\u001b[1;32m----> 4\u001b[1;33m \u001b[0mmap_data\u001b[0m\u001b[1;33m(\u001b[0m\u001b[0mmyMap\u001b[0m\u001b[1;33m,\u001b[0m \u001b[0malameda\u001b[0m\u001b[1;33m,\u001b[0m \u001b[0mclass_data\u001b[0m\u001b[1;33m)\u001b[0m\u001b[1;33m.\u001b[0m\u001b[0msave\u001b[0m\u001b[1;33m(\u001b[0m\u001b[1;34m\"map1.html\"\u001b[0m\u001b[1;33m)\u001b[0m\u001b[1;33m\u001b[0m\u001b[0m\n\u001b[0m\u001b[0;32m      5\u001b[0m \u001b[0mIFrame\u001b[0m\u001b[1;33m(\u001b[0m\u001b[1;34m'map1.html'\u001b[0m\u001b[1;33m,\u001b[0m \u001b[0mwidth\u001b[0m\u001b[1;33m=\u001b[0m\u001b[1;36m700\u001b[0m\u001b[1;33m,\u001b[0m \u001b[0mheight\u001b[0m\u001b[1;33m=\u001b[0m\u001b[1;36m400\u001b[0m\u001b[1;33m)\u001b[0m\u001b[1;33m\u001b[0m\u001b[0m\n",
      "\u001b[1;32m~\\ds-modules\\SOC-130AC\\soc_module.py\u001b[0m in \u001b[0;36mmap_data\u001b[1;34m(myMap, alameda, obs_data)\u001b[0m\n\u001b[0;32m     77\u001b[0m \u001b[1;33m\u001b[0m\u001b[0m\n\u001b[0;32m     78\u001b[0m                     \u001b[0maddress\u001b[0m \u001b[1;33m=\u001b[0m \u001b[0mrow\u001b[0m\u001b[1;33m[\u001b[0m\u001b[1;34m'Full Address of Photo #'\u001b[0m \u001b[1;33m+\u001b[0m \u001b[0mstr\u001b[0m\u001b[1;33m(\u001b[0m\u001b[0mj\u001b[0m\u001b[1;33m)\u001b[0m \u001b[1;33m+\u001b[0m \u001b[1;34m' Location'\u001b[0m\u001b[1;33m]\u001b[0m\u001b[1;33m\u001b[0m\u001b[0m\n\u001b[1;32m---> 79\u001b[1;33m                     \u001b[0mloc\u001b[0m \u001b[1;33m=\u001b[0m \u001b[0mgeolocator\u001b[0m\u001b[1;33m.\u001b[0m\u001b[0mgeocode\u001b[0m\u001b[1;33m(\u001b[0m\u001b[0maddress\u001b[0m\u001b[1;33m)\u001b[0m\u001b[1;33m\u001b[0m\u001b[0m\n\u001b[0m\u001b[0;32m     80\u001b[0m \u001b[1;33m\u001b[0m\u001b[0m\n\u001b[0;32m     81\u001b[0m                     \u001b[1;32mif\u001b[0m \u001b[0mloc\u001b[0m \u001b[1;32mis\u001b[0m \u001b[1;32mNone\u001b[0m \u001b[1;33m:\u001b[0m\u001b[1;33m\u001b[0m\u001b[0m\n",
      "\u001b[1;32m~\\Anaconda3\\lib\\site-packages\\geopy\\geocoders\\googlev3.py\u001b[0m in \u001b[0;36mgeocode\u001b[1;34m(self, query, exactly_one, timeout, bounds, region, components, language, sensor)\u001b[0m\n\u001b[0;32m    223\u001b[0m         \u001b[0mlogger\u001b[0m\u001b[1;33m.\u001b[0m\u001b[0mdebug\u001b[0m\u001b[1;33m(\u001b[0m\u001b[1;34m\"%s.geocode: %s\"\u001b[0m\u001b[1;33m,\u001b[0m \u001b[0mself\u001b[0m\u001b[1;33m.\u001b[0m\u001b[0m__class__\u001b[0m\u001b[1;33m.\u001b[0m\u001b[0m__name__\u001b[0m\u001b[1;33m,\u001b[0m \u001b[0murl\u001b[0m\u001b[1;33m)\u001b[0m\u001b[1;33m\u001b[0m\u001b[0m\n\u001b[0;32m    224\u001b[0m         return self._parse_json(\n\u001b[1;32m--> 225\u001b[1;33m             \u001b[0mself\u001b[0m\u001b[1;33m.\u001b[0m\u001b[0m_call_geocoder\u001b[0m\u001b[1;33m(\u001b[0m\u001b[0murl\u001b[0m\u001b[1;33m,\u001b[0m \u001b[0mtimeout\u001b[0m\u001b[1;33m=\u001b[0m\u001b[0mtimeout\u001b[0m\u001b[1;33m)\u001b[0m\u001b[1;33m,\u001b[0m \u001b[0mexactly_one\u001b[0m\u001b[1;33m\u001b[0m\u001b[0m\n\u001b[0m\u001b[0;32m    226\u001b[0m         )\n\u001b[0;32m    227\u001b[0m \u001b[1;33m\u001b[0m\u001b[0m\n",
      "\u001b[1;32m~\\Anaconda3\\lib\\site-packages\\geopy\\geocoders\\googlev3.py\u001b[0m in \u001b[0;36m_parse_json\u001b[1;34m(self, page, exactly_one)\u001b[0m\n\u001b[0;32m    344\u001b[0m         \u001b[0mplaces\u001b[0m \u001b[1;33m=\u001b[0m \u001b[0mpage\u001b[0m\u001b[1;33m.\u001b[0m\u001b[0mget\u001b[0m\u001b[1;33m(\u001b[0m\u001b[1;34m'results'\u001b[0m\u001b[1;33m,\u001b[0m \u001b[1;33m[\u001b[0m\u001b[1;33m]\u001b[0m\u001b[1;33m)\u001b[0m\u001b[1;33m\u001b[0m\u001b[0m\n\u001b[0;32m    345\u001b[0m         \u001b[1;32mif\u001b[0m \u001b[1;32mnot\u001b[0m \u001b[0mlen\u001b[0m\u001b[1;33m(\u001b[0m\u001b[0mplaces\u001b[0m\u001b[1;33m)\u001b[0m\u001b[1;33m:\u001b[0m\u001b[1;33m\u001b[0m\u001b[0m\n\u001b[1;32m--> 346\u001b[1;33m             \u001b[0mself\u001b[0m\u001b[1;33m.\u001b[0m\u001b[0m_check_status\u001b[0m\u001b[1;33m(\u001b[0m\u001b[0mpage\u001b[0m\u001b[1;33m.\u001b[0m\u001b[0mget\u001b[0m\u001b[1;33m(\u001b[0m\u001b[1;34m'status'\u001b[0m\u001b[1;33m)\u001b[0m\u001b[1;33m)\u001b[0m\u001b[1;33m\u001b[0m\u001b[0m\n\u001b[0m\u001b[0;32m    347\u001b[0m             \u001b[1;32mreturn\u001b[0m \u001b[1;32mNone\u001b[0m\u001b[1;33m\u001b[0m\u001b[0m\n\u001b[0;32m    348\u001b[0m \u001b[1;33m\u001b[0m\u001b[0m\n",
      "\u001b[1;32m~\\Anaconda3\\lib\\site-packages\\geopy\\geocoders\\googlev3.py\u001b[0m in \u001b[0;36m_check_status\u001b[1;34m(status)\u001b[0m\n\u001b[0;32m    369\u001b[0m         \u001b[1;32mif\u001b[0m \u001b[0mstatus\u001b[0m \u001b[1;33m==\u001b[0m \u001b[1;34m'OVER_QUERY_LIMIT'\u001b[0m\u001b[1;33m:\u001b[0m\u001b[1;33m\u001b[0m\u001b[0m\n\u001b[0;32m    370\u001b[0m             raise GeocoderQuotaExceeded(\n\u001b[1;32m--> 371\u001b[1;33m                 \u001b[1;34m'The given key has gone over the requests limit in the 24'\u001b[0m\u001b[1;33m\u001b[0m\u001b[0m\n\u001b[0m\u001b[0;32m    372\u001b[0m                 \u001b[1;34m' hour period or has submitted too many requests in too'\u001b[0m\u001b[1;33m\u001b[0m\u001b[0m\n\u001b[0;32m    373\u001b[0m                 \u001b[1;34m' short a period of time.'\u001b[0m\u001b[1;33m\u001b[0m\u001b[0m\n",
      "\u001b[1;31mGeocoderQuotaExceeded\u001b[0m: The given key has gone over the requests limit in the 24 hour period or has submitted too many requests in too short a period of time."
     ]
    }
   ],
   "source": [
    "alameda = geojson.load(open(\"data/alameda-2010.geojson\"))\n",
    "myMap = folium.Map(location=(37.8044, -122.2711), zoom_start=11.4)\n",
    "\n",
    "map_data(myMap, alameda, class_data).save(\"map1.html\")\n",
    "IFrame('map1.html', width=700, height=400)"
   ]
  },
  {
   "cell_type": "markdown",
   "metadata": {},
   "source": [
    "Click around census tracts near yours to see if the other students' observations are similar and see if you can eyeball any trends. Check out other areas on the map and see if there are trends for tracts in specific areas. Do specific characteristics cluster in different areas? Which ones? Which characteristsics seem to cluster together? What types of data do you think will correlate with socioeconomic characteristics like median income, poverty rate, education?  Why?"
   ]
  },
  {
   "cell_type": "markdown",
   "metadata": {},
   "source": [
    "---\n",
    "\n",
    "# Part 2: Our Metrics<a id='ourmetrics'></a>\n",
    "\n",
    "Now that you have made some predictions, we can compare our data with socioeconomic data from the U.S. Census for the different tracts we visited and see if we can find evidence to support them. From your data, we can create some point scales that measure different aspects of a neighborhood.\n",
    "\n",
    "For example, we can make a scale called “social disorder” for the first part of your responses. Let's first subeset our data:"
   ]
  },
  {
   "cell_type": "code",
   "execution_count": null,
   "metadata": {},
   "outputs": [],
   "source": [
    "social_disorder = class_data.iloc[:, 3:13]\n",
    "social_disorder.head()"
   ]
  },
  {
   "cell_type": "markdown",
   "metadata": {},
   "source": [
    "Now we'll need to scale the values because all responses were not on the same scale. But for this part, the higher the value the more negative the social disorder was:"
   ]
  },
  {
   "cell_type": "code",
   "execution_count": null,
   "metadata": {},
   "outputs": [],
   "source": [
    "social_disorder = scale_values(social_disorder, list(range(1,10)))\n",
    "social_disorder.head()"
   ]
  },
  {
   "cell_type": "markdown",
   "metadata": {},
   "source": [
    "Now that our values are scaled, we can take the mean across all observation for a given census tract for a given column, and then take the mean across columns:"
   ]
  },
  {
   "cell_type": "code",
   "execution_count": null,
   "metadata": {},
   "outputs": [],
   "source": [
    "social_disorder = pd.DataFrame(social_disorder.groupby(\"Census Tract\").mean().mean(axis=1))\n",
    "social_disorder.columns = [\"Social Disorder\"]\n",
    "social_disorder"
   ]
  },
  {
   "cell_type": "markdown",
   "metadata": {},
   "source": [
    "Remember, the higher the value the more negative we perceived the census tract to be.\n",
    "\n",
    "We can do the same for our amenities part:"
   ]
  },
  {
   "cell_type": "code",
   "execution_count": 24,
   "metadata": {},
   "outputs": [
    {
     "data": {
      "text/html": [
       "<div>\n",
       "<style>\n",
       "    .dataframe thead tr:only-child th {\n",
       "        text-align: right;\n",
       "    }\n",
       "\n",
       "    .dataframe thead th {\n",
       "        text-align: left;\n",
       "    }\n",
       "\n",
       "    .dataframe tbody tr th {\n",
       "        vertical-align: top;\n",
       "    }\n",
       "</style>\n",
       "<table border=\"1\" class=\"dataframe\">\n",
       "  <thead>\n",
       "    <tr style=\"text-align: right;\">\n",
       "      <th></th>\n",
       "      <th>Census Tract</th>\n",
       "      <th>Are any commercial/residential buildings being renovated?</th>\n",
       "      <th>Amount of street linked with trees [Scale: 1 (None or Few) to 3 (Most or All)]</th>\n",
       "      <th>Is there public transportation available in the block face?</th>\n",
       "      <th>Are private security guards visible?</th>\n",
       "      <th>Is there a police officer visible?</th>\n",
       "      <th>What kinds of establishments are there on the block face? Select all that apply.</th>\n",
       "    </tr>\n",
       "  </thead>\n",
       "  <tbody>\n",
       "    <tr>\n",
       "      <th>0</th>\n",
       "      <td>4229</td>\n",
       "      <td>0</td>\n",
       "      <td>2</td>\n",
       "      <td>1</td>\n",
       "      <td>1</td>\n",
       "      <td>1</td>\n",
       "      <td>Banks or credit unions, Bars and alcoholic bev...</td>\n",
       "    </tr>\n",
       "    <tr>\n",
       "      <th>1</th>\n",
       "      <td>4229</td>\n",
       "      <td>0</td>\n",
       "      <td>2</td>\n",
       "      <td>1</td>\n",
       "      <td>1</td>\n",
       "      <td>1</td>\n",
       "      <td>Banks or credit unions, Bars and alcoholic bev...</td>\n",
       "    </tr>\n",
       "    <tr>\n",
       "      <th>2</th>\n",
       "      <td>4229</td>\n",
       "      <td>1</td>\n",
       "      <td>2</td>\n",
       "      <td>0</td>\n",
       "      <td>1</td>\n",
       "      <td>1</td>\n",
       "      <td>Auto repair/auto body shop</td>\n",
       "    </tr>\n",
       "    <tr>\n",
       "      <th>3</th>\n",
       "      <td>4201</td>\n",
       "      <td>0</td>\n",
       "      <td>3</td>\n",
       "      <td>0</td>\n",
       "      <td>0</td>\n",
       "      <td>0</td>\n",
       "      <td>Parks, Playgrounds, Schools or daycare centers</td>\n",
       "    </tr>\n",
       "    <tr>\n",
       "      <th>4</th>\n",
       "      <td>4010</td>\n",
       "      <td>0</td>\n",
       "      <td>2</td>\n",
       "      <td>1</td>\n",
       "      <td>0</td>\n",
       "      <td>0</td>\n",
       "      <td>Professional offices (doctor, dentist, lawyer,...</td>\n",
       "    </tr>\n",
       "  </tbody>\n",
       "</table>\n",
       "</div>"
      ],
      "text/plain": [
       "  Census Tract  Are any commercial/residential buildings being renovated?  \\\n",
       "0         4229                                                  0           \n",
       "1         4229                                                  0           \n",
       "2         4229                                                  1           \n",
       "3         4201                                                  0           \n",
       "4         4010                                                  0           \n",
       "\n",
       "   Amount of street linked with trees [Scale: 1 (None or Few) to 3 (Most or All)]  \\\n",
       "0                                                  2                                \n",
       "1                                                  2                                \n",
       "2                                                  2                                \n",
       "3                                                  3                                \n",
       "4                                                  2                                \n",
       "\n",
       "   Is there public transportation available in the block face?   \\\n",
       "0                                                  1              \n",
       "1                                                  1              \n",
       "2                                                  0              \n",
       "3                                                  0              \n",
       "4                                                  1              \n",
       "\n",
       "   Are private security guards visible?  Is there a police officer visible?   \\\n",
       "0                                     1                                    1   \n",
       "1                                     1                                    1   \n",
       "2                                     1                                    1   \n",
       "3                                     0                                    0   \n",
       "4                                     0                                    0   \n",
       "\n",
       "  What kinds of establishments are there on the block face? Select all that apply.  \n",
       "0  Banks or credit unions, Bars and alcoholic bev...                                \n",
       "1  Banks or credit unions, Bars and alcoholic bev...                                \n",
       "2                         Auto repair/auto body shop                                \n",
       "3     Parks, Playgrounds, Schools or daycare centers                                \n",
       "4  Professional offices (doctor, dentist, lawyer,...                                "
      ]
     },
     "execution_count": 24,
     "metadata": {},
     "output_type": "execute_result"
    }
   ],
   "source": [
    "amenities = class_data.iloc[:, [3] + list(range(13,19))]\n",
    "amenities.head()"
   ]
  },
  {
   "cell_type": "markdown",
   "metadata": {},
   "source": [
    "One of our questions had choices as checkboxes. These were generally good things to have around, so we'll just count the number of checked boxes and divide by the total number of boxes and have that as our observation. We'll scale the values after to make our columns comparable."
   ]
  },
  {
   "cell_type": "code",
   "execution_count": 25,
   "metadata": {},
   "outputs": [
    {
     "data": {
      "text/html": [
       "<div>\n",
       "<style>\n",
       "    .dataframe thead tr:only-child th {\n",
       "        text-align: right;\n",
       "    }\n",
       "\n",
       "    .dataframe thead th {\n",
       "        text-align: left;\n",
       "    }\n",
       "\n",
       "    .dataframe tbody tr th {\n",
       "        vertical-align: top;\n",
       "    }\n",
       "</style>\n",
       "<table border=\"1\" class=\"dataframe\">\n",
       "  <thead>\n",
       "    <tr style=\"text-align: right;\">\n",
       "      <th></th>\n",
       "      <th>Census Tract</th>\n",
       "      <th>Are any commercial/residential buildings being renovated?</th>\n",
       "      <th>Amount of street linked with trees [Scale: 1 (None or Few) to 3 (Most or All)]</th>\n",
       "      <th>Is there public transportation available in the block face?</th>\n",
       "      <th>Are private security guards visible?</th>\n",
       "      <th>Is there a police officer visible?</th>\n",
       "      <th>What kinds of establishments are there on the block face? Select all that apply.</th>\n",
       "    </tr>\n",
       "  </thead>\n",
       "  <tbody>\n",
       "    <tr>\n",
       "      <th>0</th>\n",
       "      <td>4229</td>\n",
       "      <td>0.0</td>\n",
       "      <td>0.5</td>\n",
       "      <td>1.0</td>\n",
       "      <td>1.0</td>\n",
       "      <td>1.0</td>\n",
       "      <td>1.000000</td>\n",
       "    </tr>\n",
       "    <tr>\n",
       "      <th>1</th>\n",
       "      <td>4229</td>\n",
       "      <td>0.0</td>\n",
       "      <td>0.5</td>\n",
       "      <td>1.0</td>\n",
       "      <td>1.0</td>\n",
       "      <td>1.0</td>\n",
       "      <td>1.000000</td>\n",
       "    </tr>\n",
       "    <tr>\n",
       "      <th>2</th>\n",
       "      <td>4229</td>\n",
       "      <td>1.0</td>\n",
       "      <td>0.5</td>\n",
       "      <td>0.0</td>\n",
       "      <td>1.0</td>\n",
       "      <td>1.0</td>\n",
       "      <td>0.000000</td>\n",
       "    </tr>\n",
       "    <tr>\n",
       "      <th>3</th>\n",
       "      <td>4201</td>\n",
       "      <td>0.0</td>\n",
       "      <td>1.0</td>\n",
       "      <td>0.0</td>\n",
       "      <td>0.0</td>\n",
       "      <td>0.0</td>\n",
       "      <td>0.105263</td>\n",
       "    </tr>\n",
       "    <tr>\n",
       "      <th>4</th>\n",
       "      <td>4010</td>\n",
       "      <td>0.0</td>\n",
       "      <td>0.5</td>\n",
       "      <td>1.0</td>\n",
       "      <td>0.0</td>\n",
       "      <td>0.0</td>\n",
       "      <td>0.210526</td>\n",
       "    </tr>\n",
       "  </tbody>\n",
       "</table>\n",
       "</div>"
      ],
      "text/plain": [
       "  Census Tract  Are any commercial/residential buildings being renovated?  \\\n",
       "0         4229                                                0.0           \n",
       "1         4229                                                0.0           \n",
       "2         4229                                                1.0           \n",
       "3         4201                                                0.0           \n",
       "4         4010                                                0.0           \n",
       "\n",
       "   Amount of street linked with trees [Scale: 1 (None or Few) to 3 (Most or All)]  \\\n",
       "0                                                0.5                                \n",
       "1                                                0.5                                \n",
       "2                                                0.5                                \n",
       "3                                                1.0                                \n",
       "4                                                0.5                                \n",
       "\n",
       "   Is there public transportation available in the block face?   \\\n",
       "0                                                1.0              \n",
       "1                                                1.0              \n",
       "2                                                0.0              \n",
       "3                                                0.0              \n",
       "4                                                1.0              \n",
       "\n",
       "   Are private security guards visible?  Is there a police officer visible?   \\\n",
       "0                                   1.0                                  1.0   \n",
       "1                                   1.0                                  1.0   \n",
       "2                                   1.0                                  1.0   \n",
       "3                                   0.0                                  0.0   \n",
       "4                                   0.0                                  0.0   \n",
       "\n",
       "   What kinds of establishments are there on the block face? Select all that apply.  \n",
       "0                                           1.000000                                 \n",
       "1                                           1.000000                                 \n",
       "2                                           0.000000                                 \n",
       "3                                           0.105263                                 \n",
       "4                                           0.210526                                 "
      ]
     },
     "execution_count": 25,
     "metadata": {},
     "output_type": "execute_result"
    }
   ],
   "source": [
    "def count_checkboxes(response):\n",
    "    return len(response.split(','))\n",
    "\n",
    "amenities[amenities.columns[6]]= amenities[amenities.columns[6]].apply(count_checkboxes) / 22\n",
    "amenities = scale_values(amenities, list(range(1,7)))\n",
    "amenities.head()"
   ]
  },
  {
   "cell_type": "markdown",
   "metadata": {},
   "source": [
    "Again, below, for amenities, a higher value is a more positive census tract."
   ]
  },
  {
   "cell_type": "code",
   "execution_count": null,
   "metadata": {},
   "outputs": [],
   "source": [
    "amenities = pd.DataFrame(amenities.groupby(\"Census Tract\").mean().mean(axis=1))\n",
    "amenities.columns = [\"Amenities\"]\n",
    "amenities"
   ]
  },
  {
   "cell_type": "markdown",
   "metadata": {},
   "source": [
    "---\n",
    "\n",
    "# Part 3: Census Data<a id='census'></a>\n",
    "\n",
    "Let's read in some data for census tracts from the [American FactFinder](https://factfinder.census.gov/faces/nav/jsf/pages/index.xhtml):"
   ]
  },
  {
   "cell_type": "code",
   "execution_count": null,
   "metadata": {},
   "outputs": [],
   "source": [
    "official_data = pd.DataFrame.from_csv(\"data/merged-census.csv\", index_col=None)\n",
    "official_data['Census Tract'] = official_data[\"Census Tract\"].apply(fix_tract)\n",
    "official_data = official_data.set_index(\"Census Tract\")\n",
    "official_data"
   ]
  },
  {
   "cell_type": "markdown",
   "metadata": {},
   "source": [
    "We can add our columns to this table to put it all in one place:"
   ]
  },
  {
   "cell_type": "code",
   "execution_count": null,
   "metadata": {
    "scrolled": false
   },
   "outputs": [],
   "source": [
    "joined_data = official_data.join(social_disorder).join(amenities).reset_index()\n",
    "joined_data"
   ]
  },
  {
   "cell_type": "markdown",
   "metadata": {},
   "source": [
    "---\n",
    "\n",
    "## Mapping Exploration\n",
    "\n",
    "Before we quantify the relationship between the census data and our own metrics, let's do some exploratory mapping. We can now add our social disorder and amenities metrics to the popup too!\n",
    "\n",
    "First we'll map a choropleth of unemployment:"
   ]
  },
  {
   "cell_type": "code",
   "execution_count": 31,
   "metadata": {},
   "outputs": [
    {
     "data": {
      "text/html": [
       "\n",
       "        <iframe\n",
       "            width=\"700\"\n",
       "            height=\"400\"\n",
       "            src=\"map2.html\"\n",
       "            frameborder=\"0\"\n",
       "            allowfullscreen\n",
       "        ></iframe>\n",
       "        "
      ],
      "text/plain": [
       "<IPython.lib.display.IFrame at 0x1d9a27b6eb8>"
      ]
     },
     "execution_count": 31,
     "metadata": {},
     "output_type": "execute_result"
    }
   ],
   "source": [
    "mapa = folium.Map(location=(37.8044, -122.2711), zoom_start=11.4)\n",
    "choropleth_overlay(mapa=mapa, column_name=\"Unemployment %\", joined=joined_data, alameda=alameda, obs_data=class_data).save(\"map2.html\")\n",
    "IFrame('map2.html', width=700, height=400)"
   ]
  },
  {
   "cell_type": "markdown",
   "metadata": {},
   "source": [
    "Household Median Income:"
   ]
  },
  {
   "cell_type": "code",
   "execution_count": null,
   "metadata": {
    "collapsed": true
   },
   "outputs": [],
   "source": [
    "mapb = folium.Map(location=(37.8044, -122.2711), zoom_start=11.4)\n",
    "choropleth_overlay(mapa=mapb, column_name=\"Household Median Income\", joined=joined_data, alameda=alameda, obs_data=class_data).save(\"map3.html\")\n",
    "IFrame('map3.html', width=700, height=400)"
   ]
  },
  {
   "cell_type": "markdown",
   "metadata": {},
   "source": [
    "Bachelor's Degree or higher %:"
   ]
  },
  {
   "cell_type": "code",
   "execution_count": null,
   "metadata": {
    "collapsed": true
   },
   "outputs": [],
   "source": [
    "mapc = folium.Map(location=(37.8044, -122.2711), zoom_start=11.4)\n",
    "choropleth_overlay(mapa=mapc, column_name=\"Bachelor's Degree or higher %\", joined=joined_data, alameda=alameda, obs_data=class_data).save(\"map4.html\")\n",
    "IFrame('map4.html', width=700, height=400)"
   ]
  },
  {
   "cell_type": "markdown",
   "metadata": {},
   "source": [
    "Now our \"social disorder\":"
   ]
  },
  {
   "cell_type": "code",
   "execution_count": null,
   "metadata": {
    "collapsed": true
   },
   "outputs": [],
   "source": [
    "mapd = folium.Map(location=(37.8044, -122.2711), zoom_start=11.4)\n",
    "choropleth_overlay(mapa=mapd, column_name=\"Social Disorder\", joined=joined_data, alameda=alameda, obs_data=class_data).save(\"map5.html\")\n",
    "IFrame('map5.html', width=700, height=400)"
   ]
  },
  {
   "cell_type": "markdown",
   "metadata": {},
   "source": [
    "And finally \"amenities\":"
   ]
  },
  {
   "cell_type": "code",
   "execution_count": null,
   "metadata": {
    "collapsed": true
   },
   "outputs": [],
   "source": [
    "mapa = folium.Map(location=(37.8044, -122.2711), zoom_start=11.4)\n",
    "choropleth_overlay(mapa=mapa, column_name=\"Amenities\", joined=joined_data, alameda=alameda, obs_data=class_data).save(\"map6.html\")\n",
    "IFrame('map6.html', width=700, height=400)"
   ]
  },
  {
   "cell_type": "markdown",
   "metadata": {},
   "source": [
    "What do you notice?"
   ]
  },
  {
   "cell_type": "raw",
   "metadata": {},
   "source": []
  },
  {
   "cell_type": "markdown",
   "metadata": {},
   "source": [
    "Try copying and pasting one of the mapping cells above and change the `column_name` variable to a different variable (column in our data) you'd like to map, then run the cell!"
   ]
  },
  {
   "cell_type": "code",
   "execution_count": null,
   "metadata": {
    "collapsed": true
   },
   "outputs": [],
   "source": []
  },
  {
   "cell_type": "markdown",
   "metadata": {},
   "source": [
    "---\n",
    "\n",
    "## Variable Distributions\n",
    "\n",
    "We can also visualize the distributions of these variables according to census tract with [histograms](https://en.wikipedia.org/wiki/Histogram). A histogram will create bins, or ranges, within a variable and then count up the frequency for that bin. If we look at household median income, we may have bins of $10,000, and then we'd count how many tracts fall within that bin:"
   ]
  },
  {
   "cell_type": "code",
   "execution_count": null,
   "metadata": {
    "collapsed": true
   },
   "outputs": [],
   "source": [
    "def viz_dist(var_name, tract):\n",
    "    x = joined_data[var_name].dropna()\n",
    "    reindexed = joined_data.set_index(\"Census Tract\")\n",
    "    \n",
    "    plt.hist(x)\n",
    "    plt.axvline(x=reindexed.loc[tract, var_name], color = \"RED\")\n",
    "    plt.xlabel(var_name, fontsize=18)\n",
    "    plt.show()\n",
    "\n",
    "display(widgets.interactive(viz_dist, var_name=list(joined_data.columns[1:]), tract=list(joined_data[\"Census Tract\"])))"
   ]
  },
  {
   "cell_type": "markdown",
   "metadata": {},
   "source": [
    "What do these distributions tell you?"
   ]
  },
  {
   "cell_type": "raw",
   "metadata": {},
   "source": []
  },
  {
   "cell_type": "markdown",
   "metadata": {},
   "source": [
    "---\n",
    "\n",
    "\n",
    "# Part 4: Correlation<a id='correlation'></a>\n",
    "\n",
    "Let's first analyze income levels. We have sorted the data according to income level. Compare the income levels to the level of social disorder and amenities. Is there a correlation you can spot(as one increases or decreases, does the other do the same)?"
   ]
  },
  {
   "cell_type": "code",
   "execution_count": null,
   "metadata": {
    "collapsed": true
   },
   "outputs": [],
   "source": [
    "joined_data.sort_values(\"Household Median Income\", ascending=False)[[\"Household Median Income\", \"Social Disorder\", \"Amenities\"]]"
   ]
  },
  {
   "cell_type": "markdown",
   "metadata": {},
   "source": [
    "Did you look at the whole table? A common mistake is to assume that since the top 10 results follow or do not follow a pattern, the rest don't. Real life data is often messy and not clean. Does the correlation continue throughout the whole table (a.k.a. as income decreases the points decrease) or is there no pattern? What does this mean about the data?"
   ]
  },
  {
   "cell_type": "raw",
   "metadata": {},
   "source": []
  },
  {
   "cell_type": "markdown",
   "metadata": {},
   "source": [
    "---\n",
    "\n",
    "Eyeballing patterns is not the same as a statisical measure of a correlation; you must quantify it with numbers and statistics to prove your thoughts. Looking at the tables is not a very statistical measure of how much a variable correlates to the results. What does it mean for a variable \"income\" to match 7 out of the top 15 social disorder points? Does this correlate to the rest of the results? How well does it correlate? \n",
    "\n",
    "### The correlation coefficient - *r*\n",
    "\n",
    "> The correlation coefficient ranges from −1 to 1. A value of 1 implies that a linear equation describes the relationship between X and Y perfectly, with all data points lying on a line for which Y increases as X increases. A value of −1 implies that all data points lie on a line for which Y decreases as X increases. A value of 0 implies that there is no linear correlation between the variables. ~Wikipedia\n",
    "\n",
    "*r* = 1: the scatter diagram is a perfect straight line sloping upwards\n",
    "\n",
    "*r* = -1: the scatter diagram is a perfect straight line sloping downwards.\n",
    "\n",
    "Let's calculate the correlation coefficient between acceleration and price. We can use the `corr` method to generate a correlation matrix of our `joined_data`:"
   ]
  },
  {
   "cell_type": "code",
   "execution_count": null,
   "metadata": {
    "collapsed": true
   },
   "outputs": [],
   "source": [
    "joined_data.corr()"
   ]
  },
  {
   "cell_type": "markdown",
   "metadata": {},
   "source": [
    "You'll notice that the matrix is mirrored with a `1.000000` going down the diagonal. This matrix yields the correlation coefficient for each variable to every other variable in our data.\n",
    "\n",
    "For example, if we look at the `Social Disorder`, we see that there is a `.487102` correlation, implying that there is a strong positive relationship between our constructed social disorder variable and the unemployment rate (i.e., as one goes up the other goes up too). What else do you notice?"
   ]
  },
  {
   "cell_type": "raw",
   "metadata": {},
   "source": []
  },
  {
   "cell_type": "markdown",
   "metadata": {},
   "source": [
    "---\n",
    "\n"
   ]
  },
  {
   "cell_type": "markdown",
   "metadata": {},
   "source": [
    "# Part 5: Regression<a id='regression'></a>\n",
    "\n",
    "We will now use a method called linear regression to make a graph that will show the best fit line that correlates to the data. The slope of the line will show whether it is positively correlated or negatively correlated. The code that we've created so far has helped us establish a relationship between our two variables. Once a relationship has been established, it's time to create a model of the data. To do this we'll find the equation of the **regression line**!\n",
    "\n",
    "The regression line is the **best fit** line for our data. It’s like an average of where all the points line up. In linear regression, the regression line is a perfectly straight line! Below is a picture showing the best fit line.\n",
    "\n",
    "![image](http://onlinestatbook.com/2/regression/graphics/gpa.jpg)\n",
    "\n",
    "As you can infer from the picture, once we find the **slope** and the **y-intercept** we can start predicting values! The equation for the above regression to predict university GPA based on high school GPA would look like this:\n",
    "\n",
    "$UNIGPA_i= \\alpha + \\beta HSGPA + \\epsilon_i$\n",
    "\n",
    "The variable we want to predict (or model) is the left side `y` variable, the variable which we think has an influence on our left side variable is on the right side. The $\\alpha$ term is the y-intercept and the $\\epsilon_i$ describes the randomness.\n",
    "\n",
    "We can set up a visualization to choose which variables we want as `x` and `y` and then plot the line of best fit:"
   ]
  },
  {
   "cell_type": "code",
   "execution_count": null,
   "metadata": {
    "collapsed": true
   },
   "outputs": [],
   "source": [
    "def f(x_variable, y_variable):\n",
    "    \n",
    "    if \"median house value\" in [x_variable, y_variable]:\n",
    "        drop_na = joined_data.dropna()  # if not all census tracts have measure\n",
    "        x = drop_na[x_variable]\n",
    "        y = drop_na[y_variable]\n",
    "        \n",
    "    else:\n",
    "        x = joined_data[x_variable]\n",
    "        y = joined_data[y_variable]\n",
    "    \n",
    "    plt.scatter(x, y)\n",
    "    plt.xlabel(x_variable, fontsize=18)\n",
    "    plt.ylabel(y_variable, fontsize=18)\n",
    "    plt.plot(np.unique(x), np.poly1d(np.polyfit(x, y, 1))(np.unique(x)), color=\"r\") #calculate line of best fit\n",
    "    plt.show()\n",
    "    slope, intercept, r_value, p_value, std_err = stats.linregress(x, y) #gets the r_value\n",
    "    print(\"R-squared: \", r_value**2)\n",
    "    \n",
    "display(widgets.interactive(f, x_variable=list(joined_data)[1:], y_variable=list(joined_data)[1:]))"
   ]
  },
  {
   "cell_type": "markdown",
   "metadata": {},
   "source": [
    "***Note:*** The `R-squared` tells us how much of the variation in the data can be explained by our model.\n",
    "\n",
    "Why is this a better method than just sorting tables? First of all, we are now comparing all of the data in the graph to the variable, rather than comparing what our eyes glance quickly over. It shows a more complete picture than just saying \"There are some similar results in the top half of the sorted data\". Second of all, the graph gives a more intuitive sense to see if your variable does match the data. You can quickly see if the data points match up with the regression line. Lastly, the r-squared value will give you a way to quantify how good the variable is to explain the data.\n",
    "\n",
    "One of the beautiful things about computer science and statistics is that you do not need to reinvent the wheel. You don't need to know how to calculate the `R-squared` value, or draw the regression line; someone has already implemented it! You simply need to tell the computer to calculate it. However, if you are interested in these mathematical models, take a data science or statistics course!"
   ]
  },
  {
   "cell_type": "markdown",
   "metadata": {},
   "source": [
    "---\n",
    "\n",
    "***Please fill out our [feedback form](https://goo.gl/forms/PR1OQvX3bMIfype62)!***"
   ]
  }
 ],
 "metadata": {
  "anaconda-cloud": {},
  "kernelspec": {
   "display_name": "Python 3",
   "language": "python",
   "name": "python3"
  },
  "language_info": {
   "codemirror_mode": {
    "name": "ipython",
    "version": 3
   },
   "file_extension": ".py",
   "mimetype": "text/x-python",
   "name": "python",
   "nbconvert_exporter": "python",
   "pygments_lexer": "ipython3",
   "version": "3.6.2"
  }
 },
 "nbformat": 4,
 "nbformat_minor": 2
}
